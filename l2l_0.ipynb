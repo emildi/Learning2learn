{
  "nbformat": 4,
  "nbformat_minor": 0,
  "metadata": {
    "kernelspec": {
      "display_name": "Python 3",
      "language": "python",
      "name": "python3"
    },
    "language_info": {
      "codemirror_mode": {
        "name": "ipython",
        "version": 3
      },
      "file_extension": ".py",
      "mimetype": "text/x-python",
      "name": "python",
      "nbconvert_exporter": "python",
      "pygments_lexer": "ipython3",
      "version": "3.8.5"
    },
    "colab": {
      "name": "l2l_0.ipynb",
      "provenance": []
    }
  },
  "cells": [
    {
      "cell_type": "markdown",
      "metadata": {
        "id": "3ByYL2o9sJe8"
      },
      "source": [
        "# Learning to Learn w\\ Quantum NN via Classical NN\n",
        "\n",
        "This it the first jupyter notebook used to familiarize with _Pennylane_ and _RNNs_ and _LSTMs_"
      ]
    },
    {
      "cell_type": "markdown",
      "metadata": {
        "id": "ehBJEuGBtnIS"
      },
      "source": [
        "[![Open In Colab](https://colab.research.google.com/assets/colab-badge.svg)](https://colab.research.google.com/github/stfnmangini/QOSF-Mentorship/blob/main/l2l_0_colab.ipynb)"
      ]
    },
    {
      "cell_type": "code",
      "metadata": {
        "id": "3Zq4Bnbttkoh"
      },
      "source": [
        ""
      ],
      "execution_count": null,
      "outputs": []
    },
    {
      "cell_type": "markdown",
      "metadata": {
        "id": "6aEd_oBHter4"
      },
      "source": [
        "This is a test."
      ]
    },
    {
      "cell_type": "markdown",
      "metadata": {
        "id": "FotxLSLcti0e"
      },
      "source": [
        ""
      ]
    },
    {
      "cell_type": "code",
      "metadata": {
        "id": "dziMmfKVtf1p"
      },
      "source": [
        ""
      ],
      "execution_count": null,
      "outputs": []
    }
  ]
}