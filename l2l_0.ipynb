{
 "cells": [
  {
   "cell_type": "markdown",
   "metadata": {
    "id": "3ByYL2o9sJe8"
   },
   "source": [
    "# Learning to Learn w\\ Quantum NN via Classical NN\n",
    "\n",
    "[![Open In Colab](https://colab.research.google.com/assets/colab-badge.svg)](https://colab.research.google.com/github/stfnmangini/QOSF-Mentorship/blob/main/l2l_0.ipynb)\n",
    "\n",
    "This it the first jupyter notebook used to familiarize with _Pennylane_ and _RNNs_ and _LSTMs_.\n",
    "\n",
    "At first, the QAOA example for MAXCUT will be implemented."
   ]
  },
  {
   "cell_type": "markdown",
   "metadata": {
    "id": "kiP9yNVrw780"
   },
   "source": [
    "**Run cell below only if using this notebook in Colab**  \n",
    "Installing required dependencies and packages"
   ]
  },
  {
   "cell_type": "code",
   "execution_count": null,
   "metadata": {
    "id": "3Zq4Bnbttkoh"
   },
   "outputs": [],
   "source": [
    "IS_COLAB = False\n",
    "if IS_COLAB:\n",
    "    !pip install --upgrade qiskit\n",
    "    !pip install --upgrade pennylane\n",
    "    !pip install networkx"
   ]
  },
  {
   "cell_type": "markdown",
   "metadata": {},
   "source": [
    "#### Importation of required packages"
   ]
  },
  {
   "cell_type": "code",
   "execution_count": 3,
   "metadata": {},
   "outputs": [],
   "source": [
    "import pennylane as qml\n",
    "from pennylane import numpy as np\n",
    "from pennylane import qaoa\n",
    "\n",
    "import tensorflow as tf\n",
    "\n",
    "import networkx as nx\n",
    "import matplotlib.pyplot as plt\n",
    "\n",
    "#from tqdm.notebook import tqdm"
   ]
  },
  {
   "cell_type": "markdown",
   "metadata": {},
   "source": [
    "Set the seed for reproducibility of results"
   ]
  },
  {
   "cell_type": "code",
   "execution_count": 4,
   "metadata": {},
   "outputs": [],
   "source": [
    "np.random.seed(42)\n",
    "tf.random.set_seed(42)"
   ]
  },
  {
   "cell_type": "markdown",
   "metadata": {
    "id": "6aEd_oBHter4"
   },
   "source": [
    "## Generation of data: graphs"
   ]
  },
  {
   "cell_type": "markdown",
   "metadata": {},
   "source": [
    "Generation of a rangom graph $G_{n,p}$ where:\n",
    "- $n$ is the number of nodes in the graphs\n",
    "- $p$ is the probability of creation of an edge between two nodes"
   ]
  },
  {
   "cell_type": "code",
   "execution_count": 5,
   "metadata": {
    "pycharm": {
     "name": "#%%\n"
    }
   },
   "outputs": [],
   "source": [
    "def generate_graphs(n_graphs, n_nodes, p_edge):\n",
    "    datapoints = []\n",
    "    for _ in range(n_graphs):\n",
    "        random_graph = nx.gnp_random_graph(n_nodes, p = p_edge)\n",
    "        datapoints.append(random_graph)\n",
    "    return datapoints"
   ]
  },
  {
   "cell_type": "code",
   "execution_count": 6,
   "metadata": {
    "pycharm": {
     "name": "#%%\n"
    },
    "scrolled": true
   },
   "outputs": [
    {
     "name": "stdout",
     "output_type": "stream",
     "text": [
      "Sample of a generted graph with 7 nodes and 10 edges (p=0.43)\n"
     ]
    },
    {
     "data": {
      "image/png": "[encoded data removed]",
      "text/plain": [
       "<Figure size 432x288 with 1 Axes>"
      ]
     },
     "metadata": {},
     "output_type": "display_data"
    }
   ],
   "source": [
    "# Define parameters of the graph\n",
    "n_graphs = 10\n",
    "n_nodes = 7\n",
    "p_edge = 3./n_nodes\n",
    "graphs = generate_graphs(n_graphs, n_nodes, p_edge)\n",
    "\n",
    "print(f\"Sample of a generted graph with {len(graphs[0].nodes)} nodes and {len(graphs[0].edges)} edges (p={p_edge:.2f})\")\n",
    "nx.draw(graphs[0])"
   ]
  },
  {
   "cell_type": "markdown",
   "metadata": {},
   "source": [
    "## Creating QAOA circuit"
   ]
  },
  {
   "cell_type": "code",
   "execution_count": 9,
   "metadata": {},
   "outputs": [],
   "source": [
    "def qaoa_from_graph(graph):\n",
    "    \"\"\"\n",
    "    Creates a QAOA circuit instance of the MaxCut problem given a graph. Has nested function definitions needed for\n",
    "    the creation of the circuit. When called, it instantiate a the structure of the circuit given the input graph,\n",
    "    and outputs a function which needs only the parameters to be evaluated. \n",
    "    \n",
    "    Args\n",
    "    ------\n",
    "    graph: Graph coming generated with networkx.\n",
    "    \n",
    "    Return\n",
    "    ------\n",
    "    hamiltonian: A function which, given params as input, evaluates the cost function of the \n",
    "                 QAOA qautntum circuit.\n",
    "    \n",
    "    \"\"\"\n",
    "        \n",
    "    # Number of qubits (wires) equal to the number of nodes in the graph\n",
    "    wires = range(len(graph.nodes))\n",
    "    \n",
    "    # Define the structure of the cost and mixer subcircuits\n",
    "    cost_h, mixer_h = qaoa.maxcut(graph)   \n",
    "    \n",
    "    # Defines a layer of the QAOA ansatz from the cost and mixer Hamiltonians\n",
    "    def qaoa_layer(gamma, alpha):\n",
    "        qaoa.cost_layer(gamma, cost_h)\n",
    "        qaoa.mixer_layer(alpha, mixer_h)\n",
    "       \n",
    "    # Creates the actual quantum circuit for the QAOA algorithm\n",
    "    def circuit(params, **kwargs): \n",
    "        for w in wires:\n",
    "            qml.Hadamard(wires=w)\n",
    "        qml.layer(qaoa_layer, 2, params[0], params[1])\n",
    "     \n",
    "    # Evaluates the cost function\n",
    "    def hamiltonian(params, **kwargs):\n",
    "        dev = qml.device('default.qubit', wires=len(graph.nodes))\n",
    "        cost = qml.VQECost(circuit, cost_h, dev, interface=\"tf\")\n",
    "        return cost(params)\n",
    "    \n",
    "    return hamiltonian"
   ]
  },
  {
   "cell_type": "markdown",
   "metadata": {},
   "source": [
    "#### Check the functioning"
   ]
  },
  {
   "cell_type": "code",
   "execution_count": 10,
   "metadata": {
    "scrolled": true
   },
   "outputs": [
    {
     "data": {
      "text/plain": [
       "<tf.Tensor: shape=(), dtype=float64, numpy=-4.442538863243423>"
      ]
     },
     "execution_count": 10,
     "metadata": {},
     "output_type": "execute_result"
    }
   ],
   "source": [
    "# Define some paramenters, in the form [gamma, alpha]\n",
    "x = tf.Variable(np.array([[1.,1.],[2.,2.]]))\n",
    "#x = np.array([[1.,1.],[2.,2.]])\n",
    "\n",
    "# Create an instance of a QAOA circuit given a graph\n",
    "circ = qaoa_from_graph(graph = graphs[3])\n",
    "\n",
    "# Evaluate the cost function given some angles for the QAOA instance just created\n",
    "circ(x)"
   ]
  },
  {
   "cell_type": "markdown",
   "metadata": {},
   "source": [
    "#### Check evaluation of gradients"
   ]
  },
  {
   "cell_type": "code",
   "execution_count": 11,
   "metadata": {},
   "outputs": [
    {
     "name": "stdout",
     "output_type": "stream",
     "text": [
      "Final cost function: -5.3034160131876975\n",
      "Optimized angles: [[1.27073693 0.97794082]\n",
      " [1.83275505 2.32059783]]\n"
     ]
    }
   ],
   "source": [
    "x = tf.Variable(np.array([[1.,1.],[2.,2.]]))\n",
    "\n",
    "opt = tf.keras.optimizers.SGD(learning_rate=0.1)\n",
    "step = 1\n",
    "\n",
    "for _ in range(step):\n",
    "    with tf.GradientTape() as tape:\n",
    "        loss = circ(x)\n",
    "        \n",
    "    gradients = tape.gradient(loss, [x])\n",
    "    opt.apply_gradients(zip(gradients, [x]))\n",
    "    \n",
    "print(f\"Final cost function: {circ(x).numpy()}\\nOptimized angles: {x.numpy()}\")"
   ]
  },
  {
   "cell_type": "markdown",
   "metadata": {},
   "source": [
    "## Recurrent Neural Network"
   ]
  },
  {
   "cell_type": "markdown",
   "metadata": {},
   "source": [
    "Defining the custom LSTM architecture in Keras. It consists of a single step of an LSTM recurrent neural network.\n",
    "An LSTMCell does just that."
   ]
  },
  {
   "cell_type": "code",
   "execution_count": 14,
   "metadata": {},
   "outputs": [],
   "source": [
    "class QRNN(tf.keras.layers.Layer):\n",
    "    def __init__(self, p = 2):\n",
    "        super(QRNN, self).__init__()\n",
    "        # p is the number of layers in the QAOA ansatz\n",
    "        self.cell = tf.keras.layers.LSTMCell(2*p)\n",
    "\n",
    "    def call(self, inputs):\n",
    "        prev_cost = inputs[0]\n",
    "        prev_params = inputs[1]\n",
    "        prev_h = inputs[2]\n",
    "        prev_c = inputs[3]\n",
    "        graph = inputs[4]\n",
    "        \n",
    "        # Concatenate the previous parameters and previous cost to create new input\n",
    "        new_input = tf.keras.layers.concatenate([prev_cost, prev_params])\n",
    "        \n",
    "        # New parameters obtained by the LSTM cell, along with new internsal states: h and c\n",
    "        new_params, [new_h, new_c] = self.cell(new_input, states = [prev_h, prev_c])\n",
    "        \n",
    "        # This part is used to feed the parameters to the Pennylane function\n",
    "        _params = tf.reshape(new_params, shape = (2,2))\n",
    "                \n",
    "        # Here is the error, because graph is not a tensot but a Networkx graph.\n",
    "        # Possible solution is to rewrite the code and create manually the circuit given an\n",
    "        # adiacency matrix (tensor)\n",
    "        exp_func = qaoa_from_graph(graph)\n",
    "        \n",
    "        # Cost evsluation, and reshaping to be consistent with other Keras tensors\n",
    "        new_cost = tf.reshape(tf.cast(exp_func(_params), dtype = tf.float32), shape = (1,1))\n",
    "    \n",
    "        return [new_cost, new_params, new_h, new_c, graph]"
   ]
  },
  {
   "cell_type": "code",
   "execution_count": 15,
   "metadata": {},
   "outputs": [
    {
     "ename": "AttributeError",
     "evalue": "in user code:\n\n    <ipython-input-14-150b91525f4a>:26 call  *\n        exp_func = qaoa_from_graph(graph)\n    <ipython-input-9-37989939e8a3>:19 qaoa_from_graph  *\n        wires = range(len(graph.nodes))\n\n    AttributeError: 'Tensor' object has no attribute 'nodes'\n",
     "output_type": "error",
     "traceback": [
      "\u001b[0;31m---------------------------------------------------------------------------\u001b[0m",
      "\u001b[0;31mAttributeError\u001b[0m                            Traceback (most recent call last)",
      "\u001b[0;32m<ipython-input-15-971bb8e92b78>\u001b[0m in \u001b[0;36m<module>\u001b[0;34m\u001b[0m\n\u001b[1;32m     13\u001b[0m \u001b[0;34m\u001b[0m\u001b[0m\n\u001b[1;32m     14\u001b[0m \u001b[0;31m# Manually creating the recurrent loops\u001b[0m\u001b[0;34m\u001b[0m\u001b[0;34m\u001b[0m\u001b[0;34m\u001b[0m\u001b[0m\n\u001b[0;32m---> 15\u001b[0;31m \u001b[0mout0\u001b[0m \u001b[0;34m=\u001b[0m \u001b[0mrnn0\u001b[0m\u001b[0;34m(\u001b[0m\u001b[0;34m[\u001b[0m\u001b[0minp_cost\u001b[0m\u001b[0;34m,\u001b[0m \u001b[0minp_params\u001b[0m\u001b[0;34m,\u001b[0m \u001b[0minp_h\u001b[0m\u001b[0;34m,\u001b[0m \u001b[0minp_c\u001b[0m\u001b[0;34m,\u001b[0m \u001b[0minp_graphs\u001b[0m\u001b[0;34m]\u001b[0m\u001b[0;34m)\u001b[0m\u001b[0;34m\u001b[0m\u001b[0;34m\u001b[0m\u001b[0m\n\u001b[0m\u001b[1;32m     16\u001b[0m \u001b[0mout1\u001b[0m \u001b[0;34m=\u001b[0m \u001b[0mrnn1\u001b[0m\u001b[0;34m(\u001b[0m\u001b[0mout0\u001b[0m\u001b[0;34m)\u001b[0m\u001b[0;34m\u001b[0m\u001b[0;34m\u001b[0m\u001b[0m\n",
      "\u001b[0;32m/opt/anaconda3/envs/QML/lib/python3.7/site-packages/tensorflow/python/keras/engine/base_layer.py\u001b[0m in \u001b[0;36m__call__\u001b[0;34m(self, *args, **kwargs)\u001b[0m\n\u001b[1;32m    924\u001b[0m     \u001b[0;32mif\u001b[0m \u001b[0m_in_functional_construction_mode\u001b[0m\u001b[0;34m(\u001b[0m\u001b[0mself\u001b[0m\u001b[0;34m,\u001b[0m \u001b[0minputs\u001b[0m\u001b[0;34m,\u001b[0m \u001b[0margs\u001b[0m\u001b[0;34m,\u001b[0m \u001b[0mkwargs\u001b[0m\u001b[0;34m,\u001b[0m \u001b[0minput_list\u001b[0m\u001b[0;34m)\u001b[0m\u001b[0;34m:\u001b[0m\u001b[0;34m\u001b[0m\u001b[0;34m\u001b[0m\u001b[0m\n\u001b[1;32m    925\u001b[0m       return self._functional_construction_call(inputs, args, kwargs,\n\u001b[0;32m--> 926\u001b[0;31m                                                 input_list)\n\u001b[0m\u001b[1;32m    927\u001b[0m \u001b[0;34m\u001b[0m\u001b[0m\n\u001b[1;32m    928\u001b[0m     \u001b[0;31m# Maintains info about the `Layer.call` stack.\u001b[0m\u001b[0;34m\u001b[0m\u001b[0;34m\u001b[0m\u001b[0;34m\u001b[0m\u001b[0m\n",
      "\u001b[0;32m/opt/anaconda3/envs/QML/lib/python3.7/site-packages/tensorflow/python/keras/engine/base_layer.py\u001b[0m in \u001b[0;36m_functional_construction_call\u001b[0;34m(self, inputs, args, kwargs, input_list)\u001b[0m\n\u001b[1;32m   1115\u001b[0m           \u001b[0;32mtry\u001b[0m\u001b[0;34m:\u001b[0m\u001b[0;34m\u001b[0m\u001b[0;34m\u001b[0m\u001b[0m\n\u001b[1;32m   1116\u001b[0m             \u001b[0;32mwith\u001b[0m \u001b[0mops\u001b[0m\u001b[0;34m.\u001b[0m\u001b[0menable_auto_cast_variables\u001b[0m\u001b[0;34m(\u001b[0m\u001b[0mself\u001b[0m\u001b[0;34m.\u001b[0m\u001b[0m_compute_dtype_object\u001b[0m\u001b[0;34m)\u001b[0m\u001b[0;34m:\u001b[0m\u001b[0;34m\u001b[0m\u001b[0;34m\u001b[0m\u001b[0m\n\u001b[0;32m-> 1117\u001b[0;31m               \u001b[0moutputs\u001b[0m \u001b[0;34m=\u001b[0m \u001b[0mcall_fn\u001b[0m\u001b[0;34m(\u001b[0m\u001b[0mcast_inputs\u001b[0m\u001b[0;34m,\u001b[0m \u001b[0;34m*\u001b[0m\u001b[0margs\u001b[0m\u001b[0;34m,\u001b[0m \u001b[0;34m**\u001b[0m\u001b[0mkwargs\u001b[0m\u001b[0;34m)\u001b[0m\u001b[0;34m\u001b[0m\u001b[0;34m\u001b[0m\u001b[0m\n\u001b[0m\u001b[1;32m   1118\u001b[0m \u001b[0;34m\u001b[0m\u001b[0m\n\u001b[1;32m   1119\u001b[0m           \u001b[0;32mexcept\u001b[0m \u001b[0merrors\u001b[0m\u001b[0;34m.\u001b[0m\u001b[0mOperatorNotAllowedInGraphError\u001b[0m \u001b[0;32mas\u001b[0m \u001b[0me\u001b[0m\u001b[0;34m:\u001b[0m\u001b[0;34m\u001b[0m\u001b[0;34m\u001b[0m\u001b[0m\n",
      "\u001b[0;32m/opt/anaconda3/envs/QML/lib/python3.7/site-packages/tensorflow/python/autograph/impl/api.py\u001b[0m in \u001b[0;36mwrapper\u001b[0;34m(*args, **kwargs)\u001b[0m\n\u001b[1;32m    256\u001b[0m       \u001b[0;32mexcept\u001b[0m \u001b[0mException\u001b[0m \u001b[0;32mas\u001b[0m \u001b[0me\u001b[0m\u001b[0;34m:\u001b[0m  \u001b[0;31m# pylint:disable=broad-except\u001b[0m\u001b[0;34m\u001b[0m\u001b[0;34m\u001b[0m\u001b[0m\n\u001b[1;32m    257\u001b[0m         \u001b[0;32mif\u001b[0m \u001b[0mhasattr\u001b[0m\u001b[0;34m(\u001b[0m\u001b[0me\u001b[0m\u001b[0;34m,\u001b[0m \u001b[0;34m'ag_error_metadata'\u001b[0m\u001b[0;34m)\u001b[0m\u001b[0;34m:\u001b[0m\u001b[0;34m\u001b[0m\u001b[0;34m\u001b[0m\u001b[0m\n\u001b[0;32m--> 258\u001b[0;31m           \u001b[0;32mraise\u001b[0m \u001b[0me\u001b[0m\u001b[0;34m.\u001b[0m\u001b[0mag_error_metadata\u001b[0m\u001b[0;34m.\u001b[0m\u001b[0mto_exception\u001b[0m\u001b[0;34m(\u001b[0m\u001b[0me\u001b[0m\u001b[0;34m)\u001b[0m\u001b[0;34m\u001b[0m\u001b[0;34m\u001b[0m\u001b[0m\n\u001b[0m\u001b[1;32m    259\u001b[0m         \u001b[0;32melse\u001b[0m\u001b[0;34m:\u001b[0m\u001b[0;34m\u001b[0m\u001b[0;34m\u001b[0m\u001b[0m\n\u001b[1;32m    260\u001b[0m           \u001b[0;32mraise\u001b[0m\u001b[0;34m\u001b[0m\u001b[0;34m\u001b[0m\u001b[0m\n",
      "\u001b[0;31mAttributeError\u001b[0m: in user code:\n\n    <ipython-input-14-150b91525f4a>:26 call  *\n        exp_func = qaoa_from_graph(graph)\n    <ipython-input-9-37989939e8a3>:19 qaoa_from_graph  *\n        wires = range(len(graph.nodes))\n\n    AttributeError: 'Tensor' object has no attribute 'nodes'\n"
     ]
    }
   ],
   "source": [
    "n_qubits = 7\n",
    "\n",
    "# Instanciate the lstm cells\n",
    "rnn0 = QRNN()\n",
    "rnn1 = QRNN()\n",
    "\n",
    "# Create some input layers to feed the datas\n",
    "inp_cost = tf.keras.layers.Input(shape=(1,))\n",
    "inp_params = tf.keras.layers.Input(shape=(4,))\n",
    "inp_h = tf.keras.layers.Input(shape=(4,))\n",
    "inp_c = tf.keras.layers.Input(shape=(4,))\n",
    "inp_graphs = tf.keras.layers.Input(shape=(7,7,)) #<---- ERROR because graph is not tensor\n",
    "\n",
    "# Manually creating the recurrent loops\n",
    "out0 = rnn0([inp_cost, inp_params, inp_h, inp_c, inp_graphs])\n",
    "out1 = rnn1(out0)"
   ]
  },
  {
   "cell_type": "markdown",
   "metadata": {},
   "source": [
    "## Test code (can ignore)"
   ]
  },
  {
   "cell_type": "code",
   "execution_count": null,
   "metadata": {},
   "outputs": [],
   "source": [
    "pauli_z = [[1, 0], [0, -1]]\n",
    "pauli_z_2 = np.kron(pauli_z, pauli_z)\n",
    "\n",
    "dev = qml.device(\"default.qubit.tf\", wires=7, analytic=True)\n",
    "\n",
    "\n",
    "@qml.qnode(dev)\n",
    "def circuit(gammas, betas, edge=None, n_layers=2, graph = None):\n",
    "    \n",
    "    n_wires = len(graph.nodes)\n",
    "    \n",
    "    # unitary operator U_B with parameter beta\n",
    "    def U_B(beta):\n",
    "        for wire in range(n_wires):\n",
    "            qml.RX(2 * beta, wires=wire)\n",
    "\n",
    "    # unitary operator U_C with parameter gamma\n",
    "    def U_C(gamma):\n",
    "        for edge in graph.edges:\n",
    "            wire1 = edge[0]\n",
    "            wire2 = edge[1]\n",
    "            qml.CNOT(wires=[wire1, wire2])\n",
    "            qml.RZ(gamma, wires=wire2)\n",
    "            qml.CNOT(wires=[wire1, wire2])\n",
    "            \n",
    "    def comp_basis_measurement(wires):\n",
    "        n_wires = len(wires)\n",
    "        return qml.Hermitian(np.diag(range(2 ** n_wires)), wires=wires)    \n",
    "    \n",
    "    # apply Hadamards to get the n qubit |+> state\n",
    "    for wire in range(n_wires):\n",
    "        qml.Hadamard(wires=wire)\n",
    "    # p instances of unitary operators\n",
    "    for i in range(n_layers):\n",
    "        U_C(gammas[i])\n",
    "        U_B(betas[i])\n",
    "    if edge is None:\n",
    "        # measurement phase\n",
    "        return qml.sample(comp_basis_measurement(range(n_wires)))\n",
    "    # during the optimization phase we are evaluating a term\n",
    "    # in the objective using expval\n",
    "    return qml.expval(qml.Hermitian(pauli_z_2, wires=edge))"
   ]
  },
  {
   "cell_type": "code",
   "execution_count": 16,
   "metadata": {},
   "outputs": [
    {
     "name": "stdout",
     "output_type": "stream",
     "text": [
      "tf.Tensor([[ 0.01506045  0.08822118  0.01831053 -0.30537358]], shape=(1, 4), dtype=float32) tf.Tensor([[ 0.01506045  0.08822118  0.01831053 -0.30537358]], shape=(1, 4), dtype=float32) tf.Tensor([[ 0.03009109  0.2579358   0.03984904 -0.6119622 ]], shape=(1, 4), dtype=float32)\n"
     ]
    }
   ],
   "source": [
    "cell0 = tf.keras.layers.LSTMCell(4)\n",
    "cell1 = tf.keras.layers.LSTMCell(4)\n",
    "cell2 = tf.keras.layers.LSTMCell(4)\n",
    "\n",
    "output, [h, c] = cell0(tf.ones(shape=(1,5)), states = [tf.zeros(shape=(1,4)), tf.zeros(shape=(1,4))])\n",
    "#output, [h, c] = cell1(output, states = [h, c])\n",
    "#output, [h, c] = cell2(output, states = [h, c])\n",
    "\n",
    "\n",
    "print(output, h, c)"
   ]
  },
  {
   "cell_type": "code",
   "execution_count": 34,
   "metadata": {},
   "outputs": [
    {
     "ename": "SyntaxError",
     "evalue": "invalid syntax (<ipython-input-34-8abbfdd40d59>, line 4)",
     "output_type": "error",
     "traceback": [
      "\u001b[0;36m  File \u001b[0;32m\"<ipython-input-34-8abbfdd40d59>\"\u001b[0;36m, line \u001b[0;32m4\u001b[0m\n\u001b[0;31m    f call(self, inputs):\u001b[0m\n\u001b[0m         ^\u001b[0m\n\u001b[0;31mSyntaxError\u001b[0m\u001b[0;31m:\u001b[0m invalid syntax\n"
     ]
    }
   ],
   "source": [
    "cell = tf.keras.layers.LSTMCell(4)\n",
    "self.expectation = qaoa_from_graph(graph)\n",
    "\n",
    "f call(self, inputs):\n",
    "prev_cost = inputs[0]\n",
    "prev_params = inputs[1]\n",
    "prev_h = inputs[2]\n",
    "prev_c = inputs[3]\n",
    "\n",
    "new_input = tf.keras.layers.concatenate([prev_cost, prev_params])\n",
    "new_params, new_h, new_c = self.cell(new_input, state = [prev_h, prev_c])\n",
    "\n",
    "new_cost = self.expectation([new_params[:2], new_params[2:]])\n",
    "\n",
    "return [new_cost, new_params, new_h, new_c]"
   ]
  },
  {
   "cell_type": "code",
   "execution_count": 10,
   "metadata": {},
   "outputs": [],
   "source": [
    "cost_inp = tf.keras.Input(shape=(1,))\n",
    "params_inp = tf.keras.Input(shape=(2,2))\n",
    "h_inp = tf.keras.Input(shape=(4,)) # it has the shape (batch, units)\n",
    "c_inp = tf.keras.Input(shape=(4,))"
   ]
  },
  {
   "cell_type": "code",
   "execution_count": null,
   "metadata": {},
   "outputs": [],
   "source": []
  },
  {
   "cell_type": "code",
   "execution_count": 147,
   "metadata": {},
   "outputs": [],
   "source": [
    "def generate_dataset(num_qubits, num_data):\n",
    "    p_edge = 3./num_qubits\n",
    "    circs = []\n",
    "    for _ in range(num_data):\n",
    "        random_graph = nx.gnp_random_graph(num_qubits, p = p_edge)\n",
    "        circ = qaoa_from_graph(random_graph)\n",
    "        circs.append(circ)\n",
    "    return circs"
   ]
  },
  {
   "cell_type": "code",
   "execution_count": 148,
   "metadata": {},
   "outputs": [],
   "source": [
    "circs = generate_dataset(5, 10)"
   ]
  },
  {
   "cell_type": "markdown",
   "metadata": {},
   "source": [
    "## Mapping of Graph to QAOA anstaze"
   ]
  },
  {
   "cell_type": "markdown",
   "metadata": {},
   "source": [
    "How to create a circuit in Pennylane"
   ]
  },
  {
   "cell_type": "code",
   "execution_count": 88,
   "metadata": {},
   "outputs": [
    {
     "name": "stdout",
     "output_type": "stream",
     "text": [
      " 0: ──H──┤     \n",
      " 1: ──X──┤ ⟨Z⟩ \n",
      "\n"
     ]
    }
   ],
   "source": [
    "dev = qml.device('default.qubit', wires=2, shots=1024, analytic=False)\n",
    "\n",
    "@qml.qnode(dev)\n",
    "def circuit():\n",
    "    qml.PauliX(1)\n",
    "    qml.Hadamard(0)\n",
    "    return qml.expval(qml.PauliZ(1))\n",
    "\n",
    "circuit()\n",
    "print(circuit.draw())"
   ]
  },
  {
   "cell_type": "code",
   "execution_count": 180,
   "metadata": {},
   "outputs": [
    {
     "name": "stdout",
     "output_type": "stream",
     "text": [
      " 0: ──H──╭C──╭C──────────────────────────────────────┤ ⟨Z⟩ \n",
      " 1: ──H──╰Z──│───╭C──────╭C──────╭C──────────────────┤ ⟨Z⟩ \n",
      " 2: ──H──────│───│───╭C──│───╭C──│───────╭C──────────┤ ⟨Z⟩ \n",
      " 3: ──H──────╰Z──╰Z──╰Z──│───│───│───╭C──│───────────┤ ⟨Z⟩ \n",
      " 4: ──H──────────────────╰Z──╰Z──│───╰Z──│───╭C──────┤ ⟨Z⟩ \n",
      " 5: ──H──────────────────────────│───────│───│───╭C──┤ ⟨Z⟩ \n",
      " 6: ──H──────────────────────────╰Z──────╰Z──╰Z──╰Z──┤ ⟨Z⟩ \n",
      "\n"
     ]
    }
   ],
   "source": [
    "# Transverse field\n",
    "def U_x(eta, n_wires = None):\n",
    "    for wire in range(n_wires):\n",
    "        qml.RX(2 * eta, wires = wire)\n",
    "\n",
    "# Actual hamiltonian\n",
    "def U_C(gamma, graph = None):\n",
    "    for edge in graph.edges():\n",
    "        wire1 = edge[0]\n",
    "        wire2 = edge[1]\n",
    "        qml.CNOT(wires=[wire1, wire2])\n",
    "        qml.RZ(gamma, wires=wire2)\n",
    "        qml.CNOT(wires=[wire1, wire2])\n",
    "\n",
    "def qaoa_from_graph(alphas, betas, graph = None, p = None):\n",
    "    n_qubits = len(graph.nodes)\n",
    "    \n",
    "    # All qubits to |+> state\n",
    "    for i in range(n_qubits):\n",
    "        qml.Hadamard(wires=i)\n",
    "    \n",
    "    # Repeat QAOA ansatze p times\n",
    "    for n_layers in range(p):\n",
    "        for e in graph.edges():\n",
    "            qml.CZ(wires = [e[0], e[1]])\n",
    "            \n",
    "    # Final measurement\n",
    "    return [qml.expval(qml.PauliZ(i)) for i in range(n_qubits)]\n",
    "\n",
    "dev = dev = qml.device('default.qubit', wires=7, shots=1024, analytic=False)\n",
    "\n",
    "qnode = qml.QNode(qaoa_from_graph, dev)\n",
    "\n",
    "qnode(0., 0., graph = graphs[0], p = 1)\n",
    "\n",
    "print(qnode.draw())"
   ]
  }
 ],
 "metadata": {
  "colab": {
   "name": "l2l_0.ipynb",
   "provenance": []
  },
  "kernelspec": {
   "display_name": "Python 3",
   "language": "python",
   "name": "python3"
  },
  "language_info": {
   "codemirror_mode": {
    "name": "ipython",
    "version": 3
   },
   "file_extension": ".py",
   "mimetype": "text/x-python",
   "name": "python",
   "nbconvert_exporter": "python",
   "pygments_lexer": "ipython3",
   "version": "3.7.6"
  }
 },
 "nbformat": 4,
 "nbformat_minor": 1
}
