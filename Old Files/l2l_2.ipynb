{
 "cells": [
  {
   "cell_type": "markdown",
   "metadata": {
    "id": "3ByYL2o9sJe8"
   },
   "source": [
    "# Learning to Learn w\\ Quantum NN via Classical NN\n",
    "\n",
    "[![Open In Colab](https://colab.research.google.com/assets/colab-badge.svg)](https://colab.research.google.com/github/stfnmangini/QOSF-Mentorship/blob/main/l2l_0.ipynb)\n",
    "\n",
    "This it the first jupyter notebook used to familiarize with _Pennylane_ and _RNNs_ and _LSTMs_.\n",
    "\n",
    "At first, the QAOA example for MAXCUT will be implemented."
   ]
  },
  {
   "cell_type": "markdown",
   "metadata": {
    "id": "kiP9yNVrw780"
   },
   "source": [
    "**Run cell below only if using this notebook in Colab**  \n",
    "Installing required dependencies and packages"
   ]
  },
  {
   "cell_type": "code",
   "execution_count": null,
   "metadata": {
    "id": "3Zq4Bnbttkoh"
   },
   "outputs": [],
   "source": [
    "IS_COLAB = False\n",
    "if IS_COLAB:\n",
    "    !pip install --upgrade qiskit\n",
    "    !pip install --upgrade pennylane\n",
    "    !pip install networkx"
   ]
  },
  {
   "cell_type": "markdown",
   "metadata": {},
   "source": [
    "#### Importation of required packages"
   ]
  },
  {
   "cell_type": "code",
   "execution_count": 1,
   "metadata": {},
   "outputs": [],
   "source": [
    "import pennylane as qml\n",
    "#from pennylane import numpy as np\n",
    "import numpy as np\n",
    "from pennylane import qaoa\n",
    "\n",
    "import tensorflow as tf\n",
    "\n",
    "import networkx as nx\n",
    "import matplotlib.pyplot as plt\n",
    "\n",
    "#from tqdm.notebook import tqdm"
   ]
  },
  {
   "cell_type": "markdown",
   "metadata": {},
   "source": [
    "Set the seed for reproducibility of results"
   ]
  },
  {
   "cell_type": "code",
   "execution_count": 2,
   "metadata": {},
   "outputs": [],
   "source": [
    "np.random.seed(42)\n",
    "tf.random.set_seed(42)"
   ]
  },
  {
   "cell_type": "markdown",
   "metadata": {
    "id": "6aEd_oBHter4"
   },
   "source": [
    "## Generation of data: graphs"
   ]
  },
  {
   "cell_type": "markdown",
   "metadata": {},
   "source": [
    "Generation of a rangom graph $G_{n,p}$ where:\n",
    "- $n$ is the number of nodes in the graphs\n",
    "- $p$ is the probability of creation of an edge between two nodes"
   ]
  },
  {
   "cell_type": "code",
   "execution_count": 111,
   "metadata": {
    "pycharm": {
     "name": "#%%\n"
    }
   },
   "outputs": [],
   "source": [
    "def generate_graphs(n_graphs, n_nodes, p_edge):\n",
    "    datapoints = []\n",
    "    for _ in range(n_graphs):\n",
    "        random_graph = nx.gnp_random_graph(n_nodes, p = p_edge)\n",
    "        if list(nx.isolates(random_graph)) == []:\n",
    "            datapoints.append(random_graph)\n",
    "    return datapoints"
   ]
  },
  {
   "cell_type": "code",
   "execution_count": 147,
   "metadata": {},
   "outputs": [
    {
     "data": {
      "text/plain": [
       "<tf.Tensor: shape=(), dtype=int64, numpy=6>"
      ]
     },
     "execution_count": 147,
     "metadata": {},
     "output_type": "execute_result"
    }
   ],
   "source": [
    "ll = generate_graphs(10, 7, 0.4)\n",
    "gg = np.array(list((nx.to_edgelist(ll[0]))))[:,:2].astype('int')\n",
    "aa = tf.convert_to_tensor(gg)\n",
    "tf.reduce_max(aa)"
   ]
  },
  {
   "cell_type": "code",
   "execution_count": 107,
   "metadata": {
    "pycharm": {
     "name": "#%%\n"
    },
    "scrolled": true
   },
   "outputs": [
    {
     "ename": "AttributeError",
     "evalue": "'Graph' object has no attribute 'to_edgelist'",
     "output_type": "error",
     "traceback": [
      "\u001b[0;31m---------------------------------------------------------------------------\u001b[0m",
      "\u001b[0;31mAttributeError\u001b[0m                            Traceback (most recent call last)",
      "\u001b[0;32m<ipython-input-107-f0900607fcdd>\u001b[0m in \u001b[0;36m<module>\u001b[0;34m\u001b[0m\n\u001b[1;32m      3\u001b[0m \u001b[0mn_nodes\u001b[0m \u001b[0;34m=\u001b[0m \u001b[0;36m7\u001b[0m\u001b[0;34m\u001b[0m\u001b[0;34m\u001b[0m\u001b[0m\n\u001b[1;32m      4\u001b[0m \u001b[0mp_edge\u001b[0m \u001b[0;34m=\u001b[0m \u001b[0;36m3.\u001b[0m\u001b[0;34m/\u001b[0m\u001b[0mn_nodes\u001b[0m\u001b[0;34m\u001b[0m\u001b[0;34m\u001b[0m\u001b[0m\n\u001b[0;32m----> 5\u001b[0;31m \u001b[0mgraphs\u001b[0m \u001b[0;34m=\u001b[0m \u001b[0mgenerate_graphs\u001b[0m\u001b[0;34m(\u001b[0m\u001b[0mn_graphs\u001b[0m\u001b[0;34m,\u001b[0m \u001b[0mn_nodes\u001b[0m\u001b[0;34m,\u001b[0m \u001b[0mp_edge\u001b[0m\u001b[0;34m)\u001b[0m\u001b[0;34m\u001b[0m\u001b[0;34m\u001b[0m\u001b[0m\n\u001b[0m\u001b[1;32m      6\u001b[0m \u001b[0;34m\u001b[0m\u001b[0m\n\u001b[1;32m      7\u001b[0m \u001b[0mprint\u001b[0m\u001b[0;34m(\u001b[0m\u001b[0;34mf\"Sample of a generted graph with {len(graphs[0].nodes)} nodes and {len(graphs[0].edges)} edges (p={p_edge:.2f})\"\u001b[0m\u001b[0;34m)\u001b[0m\u001b[0;34m\u001b[0m\u001b[0;34m\u001b[0m\u001b[0m\n",
      "\u001b[0;32m<ipython-input-105-a8217e364c55>\u001b[0m in \u001b[0;36mgenerate_graphs\u001b[0;34m(n_graphs, n_nodes, p_edge)\u001b[0m\n\u001b[1;32m      4\u001b[0m         \u001b[0mrandom_graph\u001b[0m \u001b[0;34m=\u001b[0m \u001b[0mnx\u001b[0m\u001b[0;34m.\u001b[0m\u001b[0mgnp_random_graph\u001b[0m\u001b[0;34m(\u001b[0m\u001b[0mn_nodes\u001b[0m\u001b[0;34m,\u001b[0m \u001b[0mp\u001b[0m \u001b[0;34m=\u001b[0m \u001b[0mp_edge\u001b[0m\u001b[0;34m)\u001b[0m\u001b[0;34m\u001b[0m\u001b[0;34m\u001b[0m\u001b[0m\n\u001b[1;32m      5\u001b[0m         \u001b[0;32mif\u001b[0m \u001b[0mlist\u001b[0m\u001b[0;34m(\u001b[0m\u001b[0mnx\u001b[0m\u001b[0;34m.\u001b[0m\u001b[0misolates\u001b[0m\u001b[0;34m(\u001b[0m\u001b[0mrandom_graph\u001b[0m\u001b[0;34m)\u001b[0m\u001b[0;34m)\u001b[0m \u001b[0;34m==\u001b[0m \u001b[0;34m[\u001b[0m\u001b[0;34m]\u001b[0m\u001b[0;34m:\u001b[0m\u001b[0;34m\u001b[0m\u001b[0;34m\u001b[0m\u001b[0m\n\u001b[0;32m----> 6\u001b[0;31m             \u001b[0mdatapoints\u001b[0m\u001b[0;34m.\u001b[0m\u001b[0mappend\u001b[0m\u001b[0;34m(\u001b[0m\u001b[0mrandom_graph\u001b[0m\u001b[0;34m.\u001b[0m\u001b[0mto_edgelist\u001b[0m\u001b[0;34m)\u001b[0m\u001b[0;34m\u001b[0m\u001b[0;34m\u001b[0m\u001b[0m\n\u001b[0m\u001b[1;32m      7\u001b[0m     \u001b[0;32mreturn\u001b[0m \u001b[0mdatapoints\u001b[0m\u001b[0;34m\u001b[0m\u001b[0;34m\u001b[0m\u001b[0m\n",
      "\u001b[0;31mAttributeError\u001b[0m: 'Graph' object has no attribute 'to_edgelist'"
     ]
    }
   ],
   "source": [
    "# Define parameters of the graph\n",
    "n_graphs = 100\n",
    "n_nodes = 7\n",
    "p_edge = 3./n_nodes\n",
    "graphs = generate_graphs(n_graphs, n_nodes, p_edge)\n",
    "\n",
    "print(f\"Sample of a generted graph with {len(graphs[0].nodes)} nodes and {len(graphs[0].edges)} edges (p={p_edge:.2f})\")\n",
    "nx.draw(graphs[4])"
   ]
  },
  {
   "cell_type": "markdown",
   "metadata": {},
   "source": [
    "## Creating QAOA circuit"
   ]
  },
  {
   "cell_type": "code",
   "execution_count": 99,
   "metadata": {},
   "outputs": [],
   "source": [
    "@tf.function\n",
    "def adj_to_edge(adj_matrix):\n",
    "    \"\"\"\n",
    "    \"\"\"\n",
    "    num_nodes = adj_matrix.shape[-1]\n",
    "    num_edge = 0\n",
    "    edgeSet = list()\n",
    "    \n",
    "    for row in range(num_nodes):\n",
    "        for column in range(num_nodes):\n",
    "            if tf.gather_nd(adj_matrix, (row,column)) == 1 and (column,row) not in edgeSet: #get rid of repeat edge\n",
    "                num_edge += 1\n",
    "                edgeSet.append((row,column))\n",
    "    return edgeSet"
   ]
  },
  {
   "cell_type": "code",
   "execution_count": 172,
   "metadata": {},
   "outputs": [],
   "source": [
    "def qaoa_from_graph(params, edgelist = None, n_layers = 1):\n",
    "    \"\"\"\n",
    "    Creates a QAOA circuit instance of the MaxCut problem given a graph. Has nested function definitions needed for\n",
    "    the creation of the circuit. When called, it instantiate a the structure of the circuit given the input graph,\n",
    "    and outputs a function which needs only the parameters to be evaluated. \n",
    "    \n",
    "    Args\n",
    "    ------\n",
    "    graph: Graph coming generated with networkx.\n",
    "    \n",
    "    Return\n",
    "    ------\n",
    "    hamiltonian: A function which, given params as input, evaluates the cost function of the \n",
    "                 QAOA qautntum circuit.\n",
    "    \n",
    "    \"\"\"\n",
    "    \n",
    "    \n",
    "    # edgelist = adj_to_edge(adj_matrix)\n",
    "    # wires = range(len(adj_matrix))\n",
    "    wires = range(1 + tf.reduce_max(edgelist))\n",
    "    # graph = nx.Graph(edgelist)\n",
    "    \n",
    "    pauli_z = [[1, 0], [0, -1]]\n",
    "    pauli_z_2 = np.kron(pauli_z, pauli_z)\n",
    "    \n",
    "    # Number of qubits (wires) equal to the number of nodes in the graph\n",
    "    # wires = range(len(graph.nodes))\n",
    "    #wires = range(len(graph.nodes))\n",
    "    \n",
    "    # Define the structure of the cost and mixer subcircuits\n",
    "    # cost_h, mixer_h = qaoa.maxcut(graph)\n",
    "    \n",
    "    # unitary operator U_B with parameter beta\n",
    "    def U_B(beta):\n",
    "        for wire in wires:\n",
    "            qml.RX(2 * beta, wires=wire)\n",
    "    \n",
    "    # unitary operator U_C with parameter gamma\n",
    "    def U_C(gamma):\n",
    "        for edge in edgelist:\n",
    "            wire1 = edge[0]\n",
    "            wire2 = edge[1]\n",
    "            qml.CNOT(wires=[wire1, wire2])\n",
    "            qml.RZ(gamma, wires=wire2)\n",
    "            qml.CNOT(wires=[wire1, wire2])\n",
    "         \n",
    "    dev = qml.device('default.qubit.tf', wires=len(adj_matrix))\n",
    "    \n",
    "    @qml.qnode(dev, interface = \"tf\", diff_method = \"backprop\")\n",
    "    def circuit(gammas, betas, edge=None, n_layers=1):\n",
    "        # apply Hadamards to get the n qubit |+> state\n",
    "        for wire in wires:\n",
    "            qml.Hadamard(wires=wire)\n",
    "        # p instances of unitary operators\n",
    "        for i in range(n_layers):\n",
    "            U_C(gammas[i])\n",
    "            U_B(betas[i])\n",
    "        if edge is None:\n",
    "            # measurement phase\n",
    "            return qml.sample(comp_basis_measurement(range(n_wires)))\n",
    "        # during the optimization phase we are evaluating a term\n",
    "        # in the objective using expval\n",
    "        return qml.expval(qml.Hermitian(pauli_z_2, wires=edge))\n",
    "    \n",
    "    # minimize the negative of the objective function\n",
    "    \n",
    "    gammas = params[0]\n",
    "    betas = params[1]\n",
    "    neg_obj = 0\n",
    "    for edge in edgelist:\n",
    "        # objective for the MaxCut problem\n",
    "        neg_obj -= 0.5 * (1 - circuit(gammas, betas, edge=edge, n_layers=n_layers))\n",
    "        \n",
    "    return neg_obj"
   ]
  },
  {
   "cell_type": "markdown",
   "metadata": {},
   "source": [
    "#### Check the functioning"
   ]
  },
  {
   "cell_type": "code",
   "execution_count": 173,
   "metadata": {
    "scrolled": true
   },
   "outputs": [
    {
     "data": {
      "text/plain": [
       "<tf.Tensor: shape=(1,), dtype=float64, numpy=array([-2.20455923])>"
      ]
     },
     "execution_count": 173,
     "metadata": {},
     "output_type": "execute_result"
    }
   ],
   "source": [
    "# Define some paramenters, in the form [gamma, alpha]\n",
    "x = tf.Variable([[0.5], [0.5]])\n",
    "adj_matrix = tf.convert_to_tensor(nx.adjacency_matrix(graphs[0]).todense())\n",
    "gg\n",
    "\n",
    "# Create an instance of a QAOA circuit given a graph\n",
    "qaoa_from_graph(x, edgelist = gg, n_layers = 1)"
   ]
  },
  {
   "cell_type": "markdown",
   "metadata": {},
   "source": [
    "#### Check evaluation of gradients"
   ]
  },
  {
   "cell_type": "code",
   "execution_count": 73,
   "metadata": {
    "scrolled": false
   },
   "outputs": [
    {
     "name": "stdout",
     "output_type": "stream",
     "text": [
      "Step 0 - Loss = [-1.82559554]\n",
      "Step 1 - Loss = [-2.26279582]\n",
      "Step 2 - Loss = [-2.71085941]\n",
      "Step 3 - Loss = [-3.03228077]\n",
      "Step 4 - Loss = [-3.16926009]\n",
      "Step 5 - Loss = [-3.2232706]\n",
      "Step 6 - Loss = [-3.31582602]\n",
      "Step 7 - Loss = [-3.45767002]\n",
      "Step 8 - Loss = [-3.60427657]\n",
      "Step 9 - Loss = [-3.71740824]\n",
      "Step 10 - Loss = [-3.80083347]\n",
      "Step 11 - Loss = [-3.89478977]\n",
      "Step 12 - Loss = [-4.03301291]\n",
      "Step 13 - Loss = [-4.21368104]\n",
      "Step 14 - Loss = [-4.4019101]\n",
      "Step 15 - Loss = [-4.54781444]\n",
      "Step 16 - Loss = [-4.61182651]\n",
      "Step 17 - Loss = [-4.58962548]\n",
      "Step 18 - Loss = [-4.51699824]\n",
      "Step 19 - Loss = [-4.44293248]\n",
      "Step 20 - Loss = [-4.39812262]\n",
      "Step 21 - Loss = [-4.38805245]\n",
      "Step 22 - Loss = [-4.40283965]\n",
      "Step 23 - Loss = [-4.42777328]\n",
      "Step 24 - Loss = [-4.45010788]\n",
      "Step 25 - Loss = [-4.46315804]\n",
      "Step 26 - Loss = [-4.46805762]\n",
      "Step 27 - Loss = [-4.47218299]\n",
      "Step 28 - Loss = [-4.48425324]\n",
      "Step 29 - Loss = [-4.50874384]\n",
      "Final cost function: [-4.50874384]\n",
      "Optimized angles: [[0.9633717]\n",
      " [1.2338728]]\n"
     ]
    }
   ],
   "source": [
    "# x = tf.Variable(np.array([[1.,1.],[2.,2.]]))\n",
    "adj_matrix = tf.convert_to_tensor(nx.adjacency_matrix(graphs[2]).todense())\n",
    "x = tf.Variable([[.5], [.5]])\n",
    "\n",
    "opt = tf.keras.optimizers.Adam(learning_rate=0.1)\n",
    "step = 30\n",
    "\n",
    "for _ in range(step):\n",
    "    with tf.GradientTape() as tape:\n",
    "        loss = qaoa_from_graph(x, adj_matrix = adj_matrix, n_layers = 1)\n",
    "        \n",
    "    gradients = tape.gradient(loss, [x])\n",
    "    opt.apply_gradients(zip(gradients, [x]))\n",
    "    print(f\"Step {_} - Loss = {loss}\")\n",
    "    \n",
    "print(f\"Final cost function: {loss}\\nOptimized angles: {x.numpy()}\")"
   ]
  },
  {
   "cell_type": "markdown",
   "metadata": {},
   "source": [
    "## Recurrent Neural Network"
   ]
  },
  {
   "cell_type": "markdown",
   "metadata": {},
   "source": [
    "Defining the custom LSTM architecture in Keras. It consists of a single step of an LSTM recurrent neural network.\n",
    "An LSTMCell does just that."
   ]
  },
  {
   "cell_type": "code",
   "execution_count": 178,
   "metadata": {},
   "outputs": [],
   "source": [
    "class QRNN(tf.keras.layers.Layer):\n",
    "    def __init__(self, n_layers = 1):\n",
    "        super(QRNN, self).__init__()\n",
    "        # p is the number of layers in the QAOA ansatz\n",
    "        self.cell = tf.keras.layers.LSTMCell(2*n_layers)\n",
    "        # self.expectation = qaoa_from_graph()\n",
    "        self.qaoa_layers = n_layers\n",
    "        self.explayer = qaoa_from_graph\n",
    "        \n",
    "    def call(self, inputs):\n",
    "        prev_cost = inputs[0]\n",
    "        prev_params = inputs[1]\n",
    "        prev_h = inputs[2]\n",
    "        prev_c = inputs[3]\n",
    "        graph = inputs[4]\n",
    "\n",
    "        \n",
    "        # Concatenate the previous parameters and previous cost to create new input\n",
    "        new_input = tf.keras.layers.concatenate([prev_cost, prev_params])\n",
    "        \n",
    "        # New parameters obtained by the LSTM cell, along with new internal states: h and c\n",
    "        new_params, [new_h, new_c] = self.cell(new_input, states = [prev_h, prev_c])\n",
    "                \n",
    "        # This part is used to feed the parameters to the Pennylane function\n",
    "        _params = tf.reshape(new_params, shape = (2, self.qaoa_layers))\n",
    "        \n",
    "        #nn = tf.keras.layers.Lambda(lambda x: qaoa_from_graph(x, edgelist = graph, n_layers = self.qaoa_layers))(_params) \n",
    "        nn = self.explayer(x, edgelist = graph, n_layers = self.qaoa_layers)\n",
    "    \n",
    "        new_cost = tf.reshape(tf.cast(nn, dtype=tf.float32), shape = (1,1))\n",
    "            \n",
    "        # Cost evaluation, and reshaping to be consistent with other Keras tensors\n",
    "        #new_cost = tf.reshape(tf.cast(qaoa_from_graph(_params, adj_matrix = graph, n_layers = self.qaoa_layers), \n",
    "                                      #dtype=tf.float32),\n",
    "                              #shape = (1,1))\n",
    "    \n",
    "        return [new_cost, new_params, new_h, new_c, graph]"
   ]
  },
  {
   "cell_type": "markdown",
   "metadata": {},
   "source": [
    "## Test model creation"
   ]
  },
  {
   "cell_type": "code",
   "execution_count": 181,
   "metadata": {},
   "outputs": [
    {
     "ename": "AttributeError",
     "evalue": "in user code:\n\n    <ipython-input-178-500afb7dee94>:28 call  *\n        nn = self.explayer(x, edgelist = graph, n_layers = self.qaoa_layers)\n    <ipython-input-172-51252a9ff4f6>:54 circuit  *\n        qml.Hadamard(wires=wire)\n    /Users/stefanomangini/pennylane/pennylane/qnodes/base.py:830 __call__  *\n        return self.evaluate(args, kwargs)\n    /Users/stefanomangini/pennylane/pennylane/qnodes/base.py:850 evaluate  *\n        self._construct(args, kwargs)\n    /Users/stefanomangini/pennylane/pennylane/qnodes/passthru.py:117 _construct  *\n        res = self.func(*args, **kwargs)\n    /var/folders/jf/hlptkw5j70xcs_72pt_6t16r0000gn/T/tmpjh7pyhss.py:71 circuit  **\n        ag__.for_stmt(ag__.ld(wires), None, loop_body_2, get_state_2, set_state_2, (), {'iterate_names': 'wire'})\n    /opt/anaconda3/envs/QML/lib/python3.7/site-packages/tensorflow/python/autograph/operators/control_flow.py:338 for_stmt\n        symbol_names, opts)\n    /opt/anaconda3/envs/QML/lib/python3.7/site-packages/tensorflow/python/autograph/operators/control_flow.py:543 _tf_range_for_stmt\n        opts)\n    /opt/anaconda3/envs/QML/lib/python3.7/site-packages/tensorflow/python/autograph/operators/control_flow.py:902 _tf_while_stmt\n        aug_test, aug_body, init_vars, **while_loop_opts)\n    /opt/anaconda3/envs/QML/lib/python3.7/site-packages/tensorflow/python/ops/control_flow_ops.py:2696 while_loop\n        back_prop=back_prop)\n    /opt/anaconda3/envs/QML/lib/python3.7/site-packages/tensorflow/python/ops/while_v2.py:196 while_loop\n        add_control_dependencies=add_control_dependencies)\n    /opt/anaconda3/envs/QML/lib/python3.7/site-packages/tensorflow/python/framework/func_graph.py:986 func_graph_from_py_func\n        func_outputs = python_func(*func_args, **func_kwargs)\n    /opt/anaconda3/envs/QML/lib/python3.7/site-packages/tensorflow/python/ops/while_v2.py:174 wrapped_body\n        outputs = body(*_pack_sequence_as(orig_loop_vars, args))\n    /opt/anaconda3/envs/QML/lib/python3.7/site-packages/tensorflow/python/autograph/operators/control_flow.py:884 aug_body\n        body()\n    /opt/anaconda3/envs/QML/lib/python3.7/site-packages/tensorflow/python/autograph/operators/control_flow.py:521 aug_body\n        body(iterate.value)\n    /var/folders/jf/hlptkw5j70xcs_72pt_6t16r0000gn/T/tmpjh7pyhss.py:69 loop_body_2\n        ag__.converted_call(ag__.ld(qml).Hadamard, (), dict(wires=ag__.ld(wire)), fscope_3)\n    /Users/stefanomangini/pennylane/pennylane/operation.py:1027 __init__  **\n        super().__init__(*params, wires=wires, do_queue=do_queue)\n    /Users/stefanomangini/pennylane/pennylane/operation.py:761 __init__\n        super().__init__(*params, wires=wires, do_queue=do_queue)\n    /Users/stefanomangini/pennylane/pennylane/operation.py:404 __init__\n        self._wires = Wires(wires)  #: Wires: wires on which the operator acts\n    /Users/stefanomangini/pennylane/pennylane/wires.py:77 __init__\n        self._labels = _process(wires)\n    /Users/stefanomangini/pennylane/pennylane/wires.py:39 _process\n        return (wires.item(),)\n\n    AttributeError: 'Tensor' object has no attribute 'item'\n",
     "output_type": "error",
     "traceback": [
      "\u001b[0;31m---------------------------------------------------------------------------\u001b[0m",
      "\u001b[0;31mAttributeError\u001b[0m                            Traceback (most recent call last)",
      "\u001b[0;32m<ipython-input-181-e3c4adcf430c>\u001b[0m in \u001b[0;36m<module>\u001b[0;34m\u001b[0m\n\u001b[1;32m     12\u001b[0m \u001b[0;34m\u001b[0m\u001b[0m\n\u001b[1;32m     13\u001b[0m \u001b[0;31m# Manually creating the recurrent loops. In this case just two iterasions.\u001b[0m\u001b[0;34m\u001b[0m\u001b[0;34m\u001b[0m\u001b[0;34m\u001b[0m\u001b[0m\n\u001b[0;32m---> 14\u001b[0;31m \u001b[0mout0\u001b[0m \u001b[0;34m=\u001b[0m \u001b[0mrnn0\u001b[0m\u001b[0;34m(\u001b[0m\u001b[0;34m[\u001b[0m\u001b[0minp_cost\u001b[0m\u001b[0;34m,\u001b[0m \u001b[0minp_params\u001b[0m\u001b[0;34m,\u001b[0m \u001b[0minp_h\u001b[0m\u001b[0;34m,\u001b[0m \u001b[0minp_c\u001b[0m\u001b[0;34m,\u001b[0m \u001b[0minp_graph\u001b[0m\u001b[0;34m]\u001b[0m\u001b[0;34m)\u001b[0m\u001b[0;34m\u001b[0m\u001b[0;34m\u001b[0m\u001b[0m\n\u001b[0m\u001b[1;32m     15\u001b[0m \u001b[0mout1\u001b[0m \u001b[0;34m=\u001b[0m \u001b[0mrnn0\u001b[0m\u001b[0;34m(\u001b[0m\u001b[0mout0\u001b[0m\u001b[0;34m)\u001b[0m\u001b[0;34m\u001b[0m\u001b[0;34m\u001b[0m\u001b[0m\n\u001b[1;32m     16\u001b[0m \u001b[0mout2\u001b[0m \u001b[0;34m=\u001b[0m \u001b[0mrnn0\u001b[0m\u001b[0;34m(\u001b[0m\u001b[0mout1\u001b[0m\u001b[0;34m)\u001b[0m\u001b[0;34m\u001b[0m\u001b[0;34m\u001b[0m\u001b[0m\n",
      "\u001b[0;32m/opt/anaconda3/envs/QML/lib/python3.7/site-packages/tensorflow/python/keras/engine/base_layer.py\u001b[0m in \u001b[0;36m__call__\u001b[0;34m(self, *args, **kwargs)\u001b[0m\n\u001b[1;32m    924\u001b[0m     \u001b[0;32mif\u001b[0m \u001b[0m_in_functional_construction_mode\u001b[0m\u001b[0;34m(\u001b[0m\u001b[0mself\u001b[0m\u001b[0;34m,\u001b[0m \u001b[0minputs\u001b[0m\u001b[0;34m,\u001b[0m \u001b[0margs\u001b[0m\u001b[0;34m,\u001b[0m \u001b[0mkwargs\u001b[0m\u001b[0;34m,\u001b[0m \u001b[0minput_list\u001b[0m\u001b[0;34m)\u001b[0m\u001b[0;34m:\u001b[0m\u001b[0;34m\u001b[0m\u001b[0;34m\u001b[0m\u001b[0m\n\u001b[1;32m    925\u001b[0m       return self._functional_construction_call(inputs, args, kwargs,\n\u001b[0;32m--> 926\u001b[0;31m                                                 input_list)\n\u001b[0m\u001b[1;32m    927\u001b[0m \u001b[0;34m\u001b[0m\u001b[0m\n\u001b[1;32m    928\u001b[0m     \u001b[0;31m# Maintains info about the `Layer.call` stack.\u001b[0m\u001b[0;34m\u001b[0m\u001b[0;34m\u001b[0m\u001b[0;34m\u001b[0m\u001b[0m\n",
      "\u001b[0;32m/opt/anaconda3/envs/QML/lib/python3.7/site-packages/tensorflow/python/keras/engine/base_layer.py\u001b[0m in \u001b[0;36m_functional_construction_call\u001b[0;34m(self, inputs, args, kwargs, input_list)\u001b[0m\n\u001b[1;32m   1115\u001b[0m           \u001b[0;32mtry\u001b[0m\u001b[0;34m:\u001b[0m\u001b[0;34m\u001b[0m\u001b[0;34m\u001b[0m\u001b[0m\n\u001b[1;32m   1116\u001b[0m             \u001b[0;32mwith\u001b[0m \u001b[0mops\u001b[0m\u001b[0;34m.\u001b[0m\u001b[0menable_auto_cast_variables\u001b[0m\u001b[0;34m(\u001b[0m\u001b[0mself\u001b[0m\u001b[0;34m.\u001b[0m\u001b[0m_compute_dtype_object\u001b[0m\u001b[0;34m)\u001b[0m\u001b[0;34m:\u001b[0m\u001b[0;34m\u001b[0m\u001b[0;34m\u001b[0m\u001b[0m\n\u001b[0;32m-> 1117\u001b[0;31m               \u001b[0moutputs\u001b[0m \u001b[0;34m=\u001b[0m \u001b[0mcall_fn\u001b[0m\u001b[0;34m(\u001b[0m\u001b[0mcast_inputs\u001b[0m\u001b[0;34m,\u001b[0m \u001b[0;34m*\u001b[0m\u001b[0margs\u001b[0m\u001b[0;34m,\u001b[0m \u001b[0;34m**\u001b[0m\u001b[0mkwargs\u001b[0m\u001b[0;34m)\u001b[0m\u001b[0;34m\u001b[0m\u001b[0;34m\u001b[0m\u001b[0m\n\u001b[0m\u001b[1;32m   1118\u001b[0m \u001b[0;34m\u001b[0m\u001b[0m\n\u001b[1;32m   1119\u001b[0m           \u001b[0;32mexcept\u001b[0m \u001b[0merrors\u001b[0m\u001b[0;34m.\u001b[0m\u001b[0mOperatorNotAllowedInGraphError\u001b[0m \u001b[0;32mas\u001b[0m \u001b[0me\u001b[0m\u001b[0;34m:\u001b[0m\u001b[0;34m\u001b[0m\u001b[0;34m\u001b[0m\u001b[0m\n",
      "\u001b[0;32m/opt/anaconda3/envs/QML/lib/python3.7/site-packages/tensorflow/python/autograph/impl/api.py\u001b[0m in \u001b[0;36mwrapper\u001b[0;34m(*args, **kwargs)\u001b[0m\n\u001b[1;32m    256\u001b[0m       \u001b[0;32mexcept\u001b[0m \u001b[0mException\u001b[0m \u001b[0;32mas\u001b[0m \u001b[0me\u001b[0m\u001b[0;34m:\u001b[0m  \u001b[0;31m# pylint:disable=broad-except\u001b[0m\u001b[0;34m\u001b[0m\u001b[0;34m\u001b[0m\u001b[0m\n\u001b[1;32m    257\u001b[0m         \u001b[0;32mif\u001b[0m \u001b[0mhasattr\u001b[0m\u001b[0;34m(\u001b[0m\u001b[0me\u001b[0m\u001b[0;34m,\u001b[0m \u001b[0;34m'ag_error_metadata'\u001b[0m\u001b[0;34m)\u001b[0m\u001b[0;34m:\u001b[0m\u001b[0;34m\u001b[0m\u001b[0;34m\u001b[0m\u001b[0m\n\u001b[0;32m--> 258\u001b[0;31m           \u001b[0;32mraise\u001b[0m \u001b[0me\u001b[0m\u001b[0;34m.\u001b[0m\u001b[0mag_error_metadata\u001b[0m\u001b[0;34m.\u001b[0m\u001b[0mto_exception\u001b[0m\u001b[0;34m(\u001b[0m\u001b[0me\u001b[0m\u001b[0;34m)\u001b[0m\u001b[0;34m\u001b[0m\u001b[0;34m\u001b[0m\u001b[0m\n\u001b[0m\u001b[1;32m    259\u001b[0m         \u001b[0;32melse\u001b[0m\u001b[0;34m:\u001b[0m\u001b[0;34m\u001b[0m\u001b[0;34m\u001b[0m\u001b[0m\n\u001b[1;32m    260\u001b[0m           \u001b[0;32mraise\u001b[0m\u001b[0;34m\u001b[0m\u001b[0;34m\u001b[0m\u001b[0m\n",
      "\u001b[0;31mAttributeError\u001b[0m: in user code:\n\n    <ipython-input-178-500afb7dee94>:28 call  *\n        nn = self.explayer(x, edgelist = graph, n_layers = self.qaoa_layers)\n    <ipython-input-172-51252a9ff4f6>:54 circuit  *\n        qml.Hadamard(wires=wire)\n    /Users/stefanomangini/pennylane/pennylane/qnodes/base.py:830 __call__  *\n        return self.evaluate(args, kwargs)\n    /Users/stefanomangini/pennylane/pennylane/qnodes/base.py:850 evaluate  *\n        self._construct(args, kwargs)\n    /Users/stefanomangini/pennylane/pennylane/qnodes/passthru.py:117 _construct  *\n        res = self.func(*args, **kwargs)\n    /var/folders/jf/hlptkw5j70xcs_72pt_6t16r0000gn/T/tmpjh7pyhss.py:71 circuit  **\n        ag__.for_stmt(ag__.ld(wires), None, loop_body_2, get_state_2, set_state_2, (), {'iterate_names': 'wire'})\n    /opt/anaconda3/envs/QML/lib/python3.7/site-packages/tensorflow/python/autograph/operators/control_flow.py:338 for_stmt\n        symbol_names, opts)\n    /opt/anaconda3/envs/QML/lib/python3.7/site-packages/tensorflow/python/autograph/operators/control_flow.py:543 _tf_range_for_stmt\n        opts)\n    /opt/anaconda3/envs/QML/lib/python3.7/site-packages/tensorflow/python/autograph/operators/control_flow.py:902 _tf_while_stmt\n        aug_test, aug_body, init_vars, **while_loop_opts)\n    /opt/anaconda3/envs/QML/lib/python3.7/site-packages/tensorflow/python/ops/control_flow_ops.py:2696 while_loop\n        back_prop=back_prop)\n    /opt/anaconda3/envs/QML/lib/python3.7/site-packages/tensorflow/python/ops/while_v2.py:196 while_loop\n        add_control_dependencies=add_control_dependencies)\n    /opt/anaconda3/envs/QML/lib/python3.7/site-packages/tensorflow/python/framework/func_graph.py:986 func_graph_from_py_func\n        func_outputs = python_func(*func_args, **func_kwargs)\n    /opt/anaconda3/envs/QML/lib/python3.7/site-packages/tensorflow/python/ops/while_v2.py:174 wrapped_body\n        outputs = body(*_pack_sequence_as(orig_loop_vars, args))\n    /opt/anaconda3/envs/QML/lib/python3.7/site-packages/tensorflow/python/autograph/operators/control_flow.py:884 aug_body\n        body()\n    /opt/anaconda3/envs/QML/lib/python3.7/site-packages/tensorflow/python/autograph/operators/control_flow.py:521 aug_body\n        body(iterate.value)\n    /var/folders/jf/hlptkw5j70xcs_72pt_6t16r0000gn/T/tmpjh7pyhss.py:69 loop_body_2\n        ag__.converted_call(ag__.ld(qml).Hadamard, (), dict(wires=ag__.ld(wire)), fscope_3)\n    /Users/stefanomangini/pennylane/pennylane/operation.py:1027 __init__  **\n        super().__init__(*params, wires=wires, do_queue=do_queue)\n    /Users/stefanomangini/pennylane/pennylane/operation.py:761 __init__\n        super().__init__(*params, wires=wires, do_queue=do_queue)\n    /Users/stefanomangini/pennylane/pennylane/operation.py:404 __init__\n        self._wires = Wires(wires)  #: Wires: wires on which the operator acts\n    /Users/stefanomangini/pennylane/pennylane/wires.py:77 __init__\n        self._labels = _process(wires)\n    /Users/stefanomangini/pennylane/pennylane/wires.py:39 _process\n        return (wires.item(),)\n\n    AttributeError: 'Tensor' object has no attribute 'item'\n"
     ]
    }
   ],
   "source": [
    "n_qubits = 7\n",
    "\n",
    "# Instanciate the lstm cells\n",
    "rnn0 = QRNN()\n",
    "\n",
    "# Create some input layers to feed the datas\n",
    "inp_cost = tf.keras.layers.Input(shape = (1,))\n",
    "inp_params = tf.keras.layers.Input(shape = (2,))\n",
    "inp_h = tf.keras.layers.Input(shape = (2,))\n",
    "inp_c = tf.keras.layers.Input(shape = (2,))\n",
    "inp_graph = tf.keras.layers.Input(shape = (2,))\n",
    "\n",
    "# Manually creating the recurrent loops. In this case just two iterasions.\n",
    "out0 = rnn0([inp_cost, inp_params, inp_h, inp_c, inp_graph])\n",
    "out1 = rnn0(out0)\n",
    "out2 = rnn0(out1)\n",
    "\n",
    "loss = tf.keras.layers.average([0.15 * out0[0], 0.35 * out1[0], 0.5 * out2[0]])\n",
    "\n",
    "model = tf.keras.Model(inputs=[inp_cost, inp_params, inp_h, inp_c],\n",
    "                       outputs=[out0[1], out1[1], out2[1], loss])"
   ]
  },
  {
   "cell_type": "markdown",
   "metadata": {},
   "source": [
    "## Model optimization with single graph"
   ]
  },
  {
   "cell_type": "markdown",
   "metadata": {},
   "source": [
    "> Note: Check that `model` and the function `circ` are defined for the same graph"
   ]
  },
  {
   "cell_type": "code",
   "execution_count": 17,
   "metadata": {
    "scrolled": true
   },
   "outputs": [
    {
     "name": "stdout",
     "output_type": "stream",
     "text": [
      "Step 0 - Loss = [[-1.7256287]] - Cost = [-5.26403914]\n",
      "Step 1 - Loss = [[-1.7345535]] - Cost = [-5.30190134]\n",
      "Step 2 - Loss = [[-1.7444768]] - Cost = [-5.34361275]\n",
      "Step 3 - Loss = [[-1.7554582]] - Cost = [-5.38932918]\n",
      "Step 4 - Loss = [[-1.7675514]] - Cost = [-5.43917028]\n",
      "Final Loss: [[-1.7675514]]\n",
      "Final Outs:\n",
      "Step 0: [[ 0.03987983 -0.03986517]]\n",
      "Step 1: [[ 0.13414423 -0.08816063]]\n",
      "Step 2: [[ 0.21781927 -0.11360594]]\n",
      "Loss: [[-1.7675514]]\n"
     ]
    }
   ],
   "source": [
    "p = 1\n",
    "\n",
    "inp_costA = tf.zeros(shape = (1, 1))\n",
    "inp_paramsA = tf.zeros(shape = (1, 2*p))\n",
    "inp_hA = tf.zeros(shape = (1, 2*p))\n",
    "inp_cA = tf.zeros(shape = (1, 2*p))\n",
    "\n",
    "inputs = [inp_costA, inp_paramsA, inp_hA, inp_cA]\n",
    "\n",
    "opt = tf.keras.optimizers.Adam(learning_rate=0.01)\n",
    "step = 5\n",
    "\n",
    "for _ in range(step):\n",
    "    with tf.GradientTape() as tape:\n",
    "        pred = model(inputs)\n",
    "        loss = pred[3]\n",
    "            \n",
    "    gradients = tape.gradient(loss, model.trainable_variables)\n",
    "    opt.apply_gradients(zip(gradients, model.trainable_variables))\n",
    "    print(f\"Step {_} - Loss = {loss} - Cost = {circ(np.reshape(pred[2].numpy(),(2, p)))}\")\n",
    "    \n",
    "print(\"Final Loss:\", loss.numpy())\n",
    "print(\"Final Outs:\")\n",
    "for t, s in zip(pred, [\"Step 0\",\"Step 1\",\"Step 2\",\"Loss\"]):\n",
    "    print(f\" >{s}: {t.numpy()}\")"
   ]
  },
  {
   "cell_type": "markdown",
   "metadata": {},
   "source": [
    "## Wrap the time-loop inside a custom model"
   ]
  },
  {
   "cell_type": "markdown",
   "metadata": {},
   "source": [
    "#### Define a custom model, given a graph"
   ]
  },
  {
   "cell_type": "code",
   "execution_count": 18,
   "metadata": {},
   "outputs": [],
   "source": [
    "class CustomModel(tf.keras.Model):\n",
    "    def __init__(self, graph = None, p = 1):\n",
    "        super(CustomModel, self).__init__()\n",
    "        self.custom_LSTMcell = QRNN(graph = graph, p = p)\n",
    "\n",
    "    def call(self, inputs):\n",
    "        # Here just three iterations are used, but feel free to increase/decrease it. Remember to modify the loss \n",
    "        # accordingly. \n",
    "        out0 = self.custom_LSTMcell(inputs)\n",
    "        out1 = self.custom_LSTMcell(out0)\n",
    "        out2 = self.custom_LSTMcell(out1)\n",
    "        loss = tf.keras.layers.average([0.15 * out0[0], 0.35 * out1[0], 0.5 * out2[0]])\n",
    "    \n",
    "        return [out0[1], out1[1], out2[1], loss]"
   ]
  },
  {
   "cell_type": "markdown",
   "metadata": {},
   "source": [
    "#### Build all models"
   ]
  },
  {
   "cell_type": "code",
   "execution_count": 19,
   "metadata": {},
   "outputs": [],
   "source": [
    "p = 1\n",
    "\n",
    "# Create some input layers to feed the datas\n",
    "inp_cost = tf.keras.layers.Input(shape = (1,))\n",
    "inp_params = tf.keras.layers.Input(shape = (2*p,))\n",
    "inp_h = tf.keras.layers.Input(shape = (2*p,))\n",
    "inp_c = tf.keras.layers.Input(shape = (2*p,))\n",
    "\n",
    "num_models = 10\n",
    "models = [CustomModel(graph = g) for g in graphs[:num_models]]\n",
    "\n",
    "# Build all models\n",
    "for model in models:\n",
    "    model([inp_cost, inp_params, inp_h, inp_c])"
   ]
  },
  {
   "cell_type": "markdown",
   "metadata": {},
   "source": [
    "#### Learning procedure"
   ]
  },
  {
   "cell_type": "code",
   "execution_count": 20,
   "metadata": {},
   "outputs": [
    {
     "name": "stdout",
     "output_type": "stream",
     "text": [
      "Epoch: 0\n",
      "> Model/Graph 0 - Loss = [[-1.6779934]] - Cost = [-5.04169567]\n",
      "> Model/Graph 1 - Loss = [[-1.7032155]] - Cost = [-5.16394033]\n",
      "> Model/Graph 2 - Loss = [[-1.7228265]] - Cost = [-5.25485479]\n",
      "> Model/Graph 3 - Loss = [[-1.0385228]] - Cost = [-3.17653464]\n",
      "> Model/Graph 4 - Loss = [[-1.5863186]] - Cost = [-4.8907442]\n",
      "> Model/Graph 5 - Loss = [[-1.2417403]] - Cost = [-3.84103451]\n",
      "> Model/Graph 6 - Loss = [[-1.4342026]] - Cost = [-4.45008343]\n",
      "> Model/Graph 7 - Loss = [[-1.2631977]] - Cost = [-3.93179651]\n",
      "> Model/Graph 8 - Loss = [[-1.4587173]] - Cost = [-4.54983687]\n",
      "> Model/Graph 9 - Loss = [[-1.6603569]] - Cost = [-5.21213585]\n",
      "Epoch: 1\n",
      "> Model/Graph 0 - Loss = [[-1.8471912]] - Cost = [-5.79276295]\n",
      "> Model/Graph 1 - Loss = [[-1.8644495]] - Cost = [-5.87832055]\n",
      "> Model/Graph 2 - Loss = [[-1.8729581]] - Cost = [-5.89415799]\n",
      "> Model/Graph 3 - Loss = [[-1.1410531]] - Cost = [-3.65141121]\n",
      "> Model/Graph 4 - Loss = [[-1.7547871]] - Cost = [-5.63207384]\n",
      "> Model/Graph 5 - Loss = [[-1.3698877]] - Cost = [-4.40710643]\n",
      "> Model/Graph 6 - Loss = [[-1.5619777]] - Cost = [-4.96876042]\n",
      "> Model/Graph 7 - Loss = [[-1.3758386]] - Cost = [-4.40743423]\n",
      "> Model/Graph 8 - Loss = [[-1.5858446]] - Cost = [-5.07399984]\n",
      "> Model/Graph 9 - Loss = [[-1.8238244]] - Cost = [-5.91022512]\n",
      "Epoch: 2\n",
      "> Model/Graph 0 - Loss = [[-1.9902997]] - Cost = [-6.35705235]\n",
      "> Model/Graph 1 - Loss = [[-2.0012805]] - Cost = [-6.41113039]\n",
      "> Model/Graph 2 - Loss = [[-1.9845697]] - Cost = [-6.27792113]\n",
      "> Model/Graph 3 - Loss = [[-1.2460593]] - Cost = [-4.10483911]\n",
      "> Model/Graph 4 - Loss = [[-1.9054922]] - Cost = [-6.22190707]\n",
      "> Model/Graph 5 - Loss = [[-1.4798588]] - Cost = [-4.82360469]\n",
      "> Model/Graph 6 - Loss = [[-1.6425303]] - Cost = [-5.19663925]\n",
      "> Model/Graph 7 - Loss = [[-1.444428]] - Cost = [-4.61303887]\n",
      "> Model/Graph 8 - Loss = [[-1.6554984]] - Cost = [-5.26719492]\n",
      "> Model/Graph 9 - Loss = [[-1.9195528]] - Cost = [-6.20634969]\n",
      "Epoch: 3\n",
      "> Model/Graph 0 - Loss = [[-2.0514421]] - Cost = [-6.44986858]\n",
      "> Model/Graph 1 - Loss = [[-2.05258]] - Cost = [-6.46165155]\n",
      "> Model/Graph 2 - Loss = [[-2.0195556]] - Cost = [-6.26494729]\n",
      "> Model/Graph 3 - Loss = [[-1.3072964]] - Cost = [-4.27280495]\n",
      "> Model/Graph 4 - Loss = [[-1.9590341]] - Cost = [-6.26447559]\n",
      "> Model/Graph 5 - Loss = [[-1.5290147]] - Cost = [-4.88933568]\n",
      "> Model/Graph 6 - Loss = [[-1.6578089]] - Cost = [-5.10993585]\n",
      "> Model/Graph 7 - Loss = [[-1.4628696]] - Cost = [-4.57100729]\n",
      "> Model/Graph 8 - Loss = [[-1.665577]] - Cost = [-5.18242863]\n",
      "> Model/Graph 9 - Loss = [[-1.9362597]] - Cost = [-6.10093151]\n",
      "Epoch: 4\n",
      "> Model/Graph 0 - Loss = [[-2.0509222]] - Cost = [-6.30176791]\n",
      "> Model/Graph 1 - Loss = [[-2.049286]] - Cost = [-6.30082784]\n",
      "> Model/Graph 2 - Loss = [[-2.0152204]] - Cost = [-6.13659579]\n",
      "> Model/Graph 3 - Loss = [[-1.3337404]] - Cost = [-4.25452444]\n",
      "> Model/Graph 4 - Loss = [[-1.9633061]] - Cost = [-6.11808113]\n",
      "> Model/Graph 5 - Loss = [[-1.5456728]] - Cost = [-4.82944958]\n",
      "> Model/Graph 6 - Loss = [[-1.6523393]] - Cost = [-5.00044221]\n",
      "> Model/Graph 7 - Loss = [[-1.4660679]] - Cost = [-4.50498531]\n",
      "> Model/Graph 8 - Loss = [[-1.6620005]] - Cost = [-5.08761151]\n",
      "> Model/Graph 9 - Loss = [[-1.935881]] - Cost = [-5.97721621]\n",
      "Final Loss: tf.Tensor([[-1.935881]], shape=(1, 1), dtype=float32)\n",
      "Final Outs:\n",
      "Outputs: [[-0.11388605  0.06173501]]\n",
      "Outputs: [[-0.6385679   0.27484816]]\n",
      "Outputs: [[-0.89275     0.34528515]]\n",
      "Outputs: [[-1.935881]]\n"
     ]
    }
   ],
   "source": [
    "p = 1\n",
    "\n",
    "inp_costA = tf.zeros(shape = (1, 1))\n",
    "inp_paramsA = tf.zeros(shape = (1, 2*p))\n",
    "inp_hA = tf.zeros(shape = (1, 2*p))\n",
    "inp_cA = tf.zeros(shape = (1, 2*p))\n",
    "\n",
    "inputs = [inp_costA, inp_paramsA, inp_hA, inp_cA]\n",
    "\n",
    "opt = tf.keras.optimizers.Adam(learning_rate=0.01)\n",
    "step = 2\n",
    "\n",
    "num_models = 10\n",
    "W = models[0].get_weights()\n",
    "\n",
    "for epoch in range(5):\n",
    "    print(f\"Epoch: {epoch}\")\n",
    "    for i in range(num_models):\n",
    "        models[i].set_weights(W)\n",
    "        with tf.GradientTape() as tape:\n",
    "            pred = models[i](inputs)\n",
    "            loss = pred[3]\n",
    "                \n",
    "        gradients = tape.gradient(loss, models[i].trainable_variables)\n",
    "        opt.apply_gradients(zip(gradients, models[i].trainable_variables))\n",
    "        print(f\"> Model/Graph {i} - Loss = {loss} - Cost = {qaoa_from_graph(graph = graphs[i])(np.reshape(pred[2].numpy(),(2, p)))}\")\n",
    "        W = models[i].get_weights()\n",
    "    \n",
    "print(\"Final Loss:\", loss)\n",
    "print(\"Final Outs:\")\n",
    "for t in pred:\n",
    "    print(\"Outputs:\", t.numpy())"
   ]
  },
  {
   "cell_type": "code",
   "execution_count": 33,
   "metadata": {},
   "outputs": [
    {
     "data": {
      "image/png": "[encoded data removed]",
      "text/plain": [
       "<Figure size 432x288 with 1 Axes>"
      ]
     },
     "metadata": {},
     "output_type": "display_data"
    }
   ],
   "source": [
    "nx.draw(graphs[0])"
   ]
  },
  {
   "cell_type": "code",
   "execution_count": 30,
   "metadata": {},
   "outputs": [
    {
     "data": {
      "text/plain": [
       "matrix([[0, 1, 1, 0, 0, 0, 1],\n",
       "        [1, 0, 0, 0, 0, 1, 0],\n",
       "        [1, 0, 0, 0, 1, 1, 1],\n",
       "        [0, 0, 0, 0, 0, 1, 1],\n",
       "        [0, 0, 1, 0, 0, 0, 0],\n",
       "        [0, 1, 1, 1, 0, 0, 1],\n",
       "        [1, 0, 1, 1, 0, 1, 0]], dtype=int64)"
      ]
     },
     "execution_count": 30,
     "metadata": {},
     "output_type": "execute_result"
    }
   ],
   "source": [
    "qwe = nx.adjacency_matrix(graphs[0]).todense()\n",
    "qwe"
   ]
  },
  {
   "cell_type": "code",
   "execution_count": 31,
   "metadata": {},
   "outputs": [
    {
     "data": {
      "text/plain": [
       "<tf.Tensor: shape=(7, 7), dtype=int64, numpy=\n",
       "array([[0, 1, 1, 0, 0, 0, 1],\n",
       "       [1, 0, 0, 0, 0, 1, 0],\n",
       "       [1, 0, 0, 0, 1, 1, 1],\n",
       "       [0, 0, 0, 0, 0, 1, 1],\n",
       "       [0, 0, 1, 0, 0, 0, 0],\n",
       "       [0, 1, 1, 1, 0, 0, 1],\n",
       "       [1, 0, 1, 1, 0, 1, 0]])>"
      ]
     },
     "execution_count": 31,
     "metadata": {},
     "output_type": "execute_result"
    }
   ],
   "source": [
    "tf.convert_to_tensor(qwe)"
   ]
  },
  {
   "cell_type": "markdown",
   "metadata": {},
   "source": [
    "## Loss landscape"
   ]
  },
  {
   "cell_type": "code",
   "execution_count": 143,
   "metadata": {},
   "outputs": [],
   "source": [
    "p = 1\n",
    "\n",
    "inp_costA = tf.zeros(shape = (1, 1))\n",
    "inp_paramsA = tf.zeros(shape = (1, 2*p))\n",
    "inp_hA = tf.zeros(shape = (1, 2*p))\n",
    "inp_cA = tf.zeros(shape = (1, 2*p))\n",
    "\n",
    "inputs = [inp_costA, inp_paramsA, inp_hA, inp_cA]\n",
    "\n",
    "#model = CustomModel(graph = graphs[9])\n",
    "#model.set_weights(W)\n",
    "\n",
    "predictions = models[9](inputs)"
   ]
  },
  {
   "cell_type": "code",
   "execution_count": 154,
   "metadata": {},
   "outputs": [
    {
     "data": {
      "text/plain": [
       "tensor(0.6288744, dtype=float32, requires_grad=True)"
      ]
     },
     "execution_count": 154,
     "metadata": {},
     "output_type": "execute_result"
    }
   ],
   "source": [
    "steps = [item.numpy() for item in predictions[:-1]]\n",
    "px = np.ndarray.flatten(np.array(steps).transpose()[0])\n",
    "py = np.ndarray.flatten(np.array(steps).transpose()[1])\n",
    "px[-1]"
   ]
  },
  {
   "cell_type": "code",
   "execution_count": 147,
   "metadata": {},
   "outputs": [],
   "source": [
    "# Create an instance of a QAOA circuit given a graph\n",
    "circ = qaoa_from_graph(graph = graphs[9], p = 1)\n",
    "\n",
    "# Evaluate the cost function given some angles for the QAOA instance just created\n",
    "dx = dy = np.linspace(-np.pi/2, np.pi/2, 11)\n",
    "dz = np.array([circ([[xx],[yy]]).numpy() for yy in dy for xx in dx])\n",
    "Z = dz.reshape((11,11))"
   ]
  },
  {
   "cell_type": "code",
   "execution_count": 159,
   "metadata": {},
   "outputs": [
    {
     "data": {
      "image/png": "[encoded data removed]",
      "text/plain": [
       "<Figure size 432x288 with 2 Axes>"
      ]
     },
     "metadata": {
      "needs_background": "light"
     },
     "output_type": "display_data"
    }
   ],
   "source": [
    "# Plot cost landscape\n",
    "plt.contourf(dx, dy, Z)\n",
    "plt.colorbar()\n",
    "\n",
    "# Optimizer steps\n",
    "plt.plot(px, py, linestyle = \"--\", color = \"red\", marker = \"x\")\n",
    "plt.plot(px[-1], py[-1], marker = \"X\", markersize = 15, color = \"r\")\n",
    "\n",
    "plt.show()"
   ]
  },
  {
   "cell_type": "code",
   "execution_count": null,
   "metadata": {},
   "outputs": [],
   "source": []
  },
  {
   "cell_type": "code",
   "execution_count": null,
   "metadata": {},
   "outputs": [],
   "source": []
  },
  {
   "cell_type": "code",
   "execution_count": null,
   "metadata": {},
   "outputs": [],
   "source": []
  },
  {
   "cell_type": "code",
   "execution_count": null,
   "metadata": {},
   "outputs": [],
   "source": []
  },
  {
   "cell_type": "code",
   "execution_count": null,
   "metadata": {},
   "outputs": [],
   "source": []
  },
  {
   "cell_type": "code",
   "execution_count": null,
   "metadata": {},
   "outputs": [],
   "source": []
  },
  {
   "cell_type": "code",
   "execution_count": null,
   "metadata": {},
   "outputs": [],
   "source": []
  },
  {
   "cell_type": "code",
   "execution_count": null,
   "metadata": {},
   "outputs": [],
   "source": []
  },
  {
   "cell_type": "code",
   "execution_count": null,
   "metadata": {},
   "outputs": [],
   "source": []
  },
  {
   "cell_type": "code",
   "execution_count": null,
   "metadata": {},
   "outputs": [],
   "source": []
  },
  {
   "cell_type": "code",
   "execution_count": null,
   "metadata": {},
   "outputs": [],
   "source": [
    "class superModel(tf.keras.Model):\n",
    "    def __init__(self, graph = None, p = 1):\n",
    "        super(CustomModel, self).__init__()\n",
    "        # self.single_model = customModel\n",
    "        # self.custom_LSTMcell = QRNN(graph = graph, p = p)\n",
    "\n",
    "    def call(self, inputs):\n",
    "        out0 = self.custom_LSTMcell(inputs)\n",
    "        out1 = self.custom_LSTMcell(out0)\n",
    "        out2 = self.custom_LSTMcell(out1)\n",
    "        loss = tf.keras.layers.average([0.15 * out0[0], 0.35 * out1[0], 0.5 * out2[0]])\n",
    "    \n",
    "        return [out0[1], out1[1], out2[1], loss]"
   ]
  },
  {
   "cell_type": "code",
   "execution_count": null,
   "metadata": {},
   "outputs": [],
   "source": []
  },
  {
   "cell_type": "code",
   "execution_count": null,
   "metadata": {},
   "outputs": [],
   "source": []
  },
  {
   "cell_type": "code",
   "execution_count": null,
   "metadata": {},
   "outputs": [],
   "source": []
  },
  {
   "cell_type": "code",
   "execution_count": null,
   "metadata": {},
   "outputs": [],
   "source": []
  },
  {
   "cell_type": "code",
   "execution_count": null,
   "metadata": {},
   "outputs": [],
   "source": []
  },
  {
   "cell_type": "code",
   "execution_count": null,
   "metadata": {},
   "outputs": [],
   "source": []
  },
  {
   "cell_type": "code",
   "execution_count": null,
   "metadata": {},
   "outputs": [],
   "source": [
    "inp_costA = tf.zeros(shape = (1, 1))\n",
    "inp_paramsA = tf.zeros(shape = (1, 4))\n",
    "inp_hA = tf.zeros(shape = (1, 4))\n",
    "inp_cA = tf.zeros(shape = (1, 4))\n",
    "\n",
    "inputs = [inp_costA, inp_paramsA, inp_hA, inp_cA]\n",
    "\n",
    "opt = tf.keras.optimizers.Adam(learning_rate=0.01)\n",
    "step = 2\n",
    "\n",
    "num_models = 3\n",
    "W = models[0].get_weights()\n",
    "\n",
    "for epoch in range(2):\n",
    "    print(f\"Epoch: {epoch}\")\n",
    "    for i in range(num_models):\n",
    "        models[i].set_weights(W)\n",
    "        with tf.GradientTape() as tape:\n",
    "            pred = models[i](inputs)\n",
    "            loss = pred[3]\n",
    "                \n",
    "        gradients = tape.gradient(loss, models[i].trainable_variables)\n",
    "        opt.apply_gradients(zip(gradients, models[i].trainable_variables))\n",
    "        print(f\"> Model {i} - Loss = {loss} - Cost = {qaoa_from_graph(graph = graphs[i])(np.reshape(pred[2].numpy(),(2,2)))}\")\n",
    "        W = models[i].get_weights()\n",
    "    \n",
    "print(\"Final Loss:\", loss)\n",
    "print(\"Final Outs:\", pred)"
   ]
  },
  {
   "cell_type": "code",
   "execution_count": null,
   "metadata": {},
   "outputs": [],
   "source": []
  },
  {
   "cell_type": "code",
   "execution_count": null,
   "metadata": {},
   "outputs": [],
   "source": []
  },
  {
   "cell_type": "code",
   "execution_count": null,
   "metadata": {},
   "outputs": [],
   "source": []
  },
  {
   "cell_type": "code",
   "execution_count": null,
   "metadata": {},
   "outputs": [],
   "source": []
  },
  {
   "cell_type": "code",
   "execution_count": 168,
   "metadata": {},
   "outputs": [
    {
     "data": {
      "text/plain": [
       "<tf.Variable 'Variable:0' shape=(3,) dtype=int32, numpy=array([2, 2, 2], dtype=int32)>"
      ]
     },
     "execution_count": 168,
     "metadata": {},
     "output_type": "execute_result"
    }
   ],
   "source": [
    "def shareWeightsModel(model, targetModel):\n",
    "    modelWeights       = model.trainable_weights\n",
    "    targetModelWeights = targetModel.trainable_weights\n",
    "\n",
    "    for i in range(len(targetModelWeights)):\n",
    "        targetModelWeights[i].assign(modelWeights[i])\n",
    "        \n",
    "for model in models:\n",
    "    updateTargetModel(models[-1], model)"
   ]
  },
  {
   "cell_type": "code",
   "execution_count": 25,
   "metadata": {},
   "outputs": [],
   "source": [
    "@tf.function\n",
    "def value_loss(unused, outputs):\n",
    "    return tf.reduce_mean(outputs)\n",
    "\n",
    "# It's important to have a good guess on the last shot of the optimization\n",
    "loss = tf.keras.layers.average([0.1 * out0[0], 0.2 * out1[0], 0.3 * out2[0]])\n",
    "\n",
    "# Penalize jumping around randomly in the landscape.\n",
    "# Add penalizer\n",
    "\n",
    "full_loss = loss #+ penalizer"
   ]
  },
  {
   "cell_type": "code",
   "execution_count": 26,
   "metadata": {},
   "outputs": [],
   "source": [
    "# Can change these to random along with longer tine horizon and greater training\n",
    "# data for more robust test set performance\n",
    "\n",
    "# Our model will output it's parameter guesses along with the loss value that is\n",
    "# computed over them. This way we can use the model to guess parameters later on\n",
    "model = tf.keras.Model(inputs=[inp_cost, inp_params, inp_h, inp_c],\n",
    "                       outputs=[out0[1], out1[1], out2[1], full_loss])"
   ]
  },
  {
   "cell_type": "code",
   "execution_count": 27,
   "metadata": {},
   "outputs": [],
   "source": [
    "model.compile(optimizer=tf.keras.optimizers.Adam(learning_rate=0.0001),\n",
    "              loss=value_loss, loss_weights=[0, 0, 0, 1])"
   ]
  },
  {
   "cell_type": "code",
   "execution_count": 29,
   "metadata": {},
   "outputs": [
    {
     "name": "stdout",
     "output_type": "stream",
     "text": [
      "Epoch 1/3\n"
     ]
    },
    {
     "ename": "ValueError",
     "evalue": "in user code:\n\n    /opt/anaconda3/envs/QML/lib/python3.7/site-packages/tensorflow/python/keras/engine/training.py:806 train_function  *\n        return step_function(self, iterator)\n    <ipython-input-10-ebacd62dde43>:24 call  *\n        _params = tf.reshape(new_params, shape = (2,2))\n    /opt/anaconda3/envs/QML/lib/python3.7/site-packages/tensorflow/python/util/dispatch.py:201 wrapper  **\n        return target(*args, **kwargs)\n    /opt/anaconda3/envs/QML/lib/python3.7/site-packages/tensorflow/python/ops/array_ops.py:195 reshape\n        result = gen_array_ops.reshape(tensor, shape, name)\n    /opt/anaconda3/envs/QML/lib/python3.7/site-packages/tensorflow/python/ops/gen_array_ops.py:8234 reshape\n        \"Reshape\", tensor=tensor, shape=shape, name=name)\n    /opt/anaconda3/envs/QML/lib/python3.7/site-packages/tensorflow/python/framework/op_def_library.py:744 _apply_op_helper\n        attrs=attr_protos, op_def=op_def)\n    /opt/anaconda3/envs/QML/lib/python3.7/site-packages/tensorflow/python/framework/func_graph.py:593 _create_op_internal\n        compute_device)\n    /opt/anaconda3/envs/QML/lib/python3.7/site-packages/tensorflow/python/framework/ops.py:3485 _create_op_internal\n        op_def=op_def)\n    /opt/anaconda3/envs/QML/lib/python3.7/site-packages/tensorflow/python/framework/ops.py:1975 __init__\n        control_input_ops, op_def)\n    /opt/anaconda3/envs/QML/lib/python3.7/site-packages/tensorflow/python/framework/ops.py:1815 _create_c_op\n        raise ValueError(str(e))\n\n    ValueError: Cannot reshape a tensor with 20 elements to shape [2,2] (4 elements) for '{{node functional_1/qrnn_4/Reshape}} = Reshape[T=DT_FLOAT, Tshape=DT_INT32](functional_1/qrnn_4/lstm_cell_4/mul_2, functional_1/qrnn_4/Reshape/shape)' with input shapes: [5,4], [2] and with input tensors computed as partial shapes: input[1] = [2,2].\n",
     "output_type": "error",
     "traceback": [
      "\u001b[0;31m---------------------------------------------------------------------------\u001b[0m",
      "\u001b[0;31mValueError\u001b[0m                                Traceback (most recent call last)",
      "\u001b[0;32m<ipython-input-29-5c738d203ab6>\u001b[0m in \u001b[0;36m<module>\u001b[0;34m\u001b[0m\n\u001b[1;32m     15\u001b[0m           \u001b[0mepochs\u001b[0m\u001b[0;34m=\u001b[0m\u001b[0;36m3\u001b[0m\u001b[0;34m,\u001b[0m\u001b[0;34m\u001b[0m\u001b[0;34m\u001b[0m\u001b[0m\n\u001b[1;32m     16\u001b[0m           \u001b[0mbatch_size\u001b[0m\u001b[0;34m=\u001b[0m\u001b[0;36m5\u001b[0m\u001b[0;34m,\u001b[0m\u001b[0;34m\u001b[0m\u001b[0;34m\u001b[0m\u001b[0m\n\u001b[0;32m---> 17\u001b[0;31m           verbose=1)\n\u001b[0m",
      "\u001b[0;32m/opt/anaconda3/envs/QML/lib/python3.7/site-packages/tensorflow/python/keras/engine/training.py\u001b[0m in \u001b[0;36m_method_wrapper\u001b[0;34m(self, *args, **kwargs)\u001b[0m\n\u001b[1;32m    106\u001b[0m   \u001b[0;32mdef\u001b[0m \u001b[0m_method_wrapper\u001b[0m\u001b[0;34m(\u001b[0m\u001b[0mself\u001b[0m\u001b[0;34m,\u001b[0m \u001b[0;34m*\u001b[0m\u001b[0margs\u001b[0m\u001b[0;34m,\u001b[0m \u001b[0;34m**\u001b[0m\u001b[0mkwargs\u001b[0m\u001b[0;34m)\u001b[0m\u001b[0;34m:\u001b[0m\u001b[0;34m\u001b[0m\u001b[0;34m\u001b[0m\u001b[0m\n\u001b[1;32m    107\u001b[0m     \u001b[0;32mif\u001b[0m \u001b[0;32mnot\u001b[0m \u001b[0mself\u001b[0m\u001b[0;34m.\u001b[0m\u001b[0m_in_multi_worker_mode\u001b[0m\u001b[0;34m(\u001b[0m\u001b[0;34m)\u001b[0m\u001b[0;34m:\u001b[0m  \u001b[0;31m# pylint: disable=protected-access\u001b[0m\u001b[0;34m\u001b[0m\u001b[0;34m\u001b[0m\u001b[0m\n\u001b[0;32m--> 108\u001b[0;31m       \u001b[0;32mreturn\u001b[0m \u001b[0mmethod\u001b[0m\u001b[0;34m(\u001b[0m\u001b[0mself\u001b[0m\u001b[0;34m,\u001b[0m \u001b[0;34m*\u001b[0m\u001b[0margs\u001b[0m\u001b[0;34m,\u001b[0m \u001b[0;34m**\u001b[0m\u001b[0mkwargs\u001b[0m\u001b[0;34m)\u001b[0m\u001b[0;34m\u001b[0m\u001b[0;34m\u001b[0m\u001b[0m\n\u001b[0m\u001b[1;32m    109\u001b[0m \u001b[0;34m\u001b[0m\u001b[0m\n\u001b[1;32m    110\u001b[0m     \u001b[0;31m# Running inside `run_distribute_coordinator` already.\u001b[0m\u001b[0;34m\u001b[0m\u001b[0;34m\u001b[0m\u001b[0;34m\u001b[0m\u001b[0m\n",
      "\u001b[0;32m/opt/anaconda3/envs/QML/lib/python3.7/site-packages/tensorflow/python/keras/engine/training.py\u001b[0m in \u001b[0;36mfit\u001b[0;34m(self, x, y, batch_size, epochs, verbose, callbacks, validation_split, validation_data, shuffle, class_weight, sample_weight, initial_epoch, steps_per_epoch, validation_steps, validation_batch_size, validation_freq, max_queue_size, workers, use_multiprocessing)\u001b[0m\n\u001b[1;32m   1096\u001b[0m                 batch_size=batch_size):\n\u001b[1;32m   1097\u001b[0m               \u001b[0mcallbacks\u001b[0m\u001b[0;34m.\u001b[0m\u001b[0mon_train_batch_begin\u001b[0m\u001b[0;34m(\u001b[0m\u001b[0mstep\u001b[0m\u001b[0;34m)\u001b[0m\u001b[0;34m\u001b[0m\u001b[0;34m\u001b[0m\u001b[0m\n\u001b[0;32m-> 1098\u001b[0;31m               \u001b[0mtmp_logs\u001b[0m \u001b[0;34m=\u001b[0m \u001b[0mtrain_function\u001b[0m\u001b[0;34m(\u001b[0m\u001b[0miterator\u001b[0m\u001b[0;34m)\u001b[0m\u001b[0;34m\u001b[0m\u001b[0;34m\u001b[0m\u001b[0m\n\u001b[0m\u001b[1;32m   1099\u001b[0m               \u001b[0;32mif\u001b[0m \u001b[0mdata_handler\u001b[0m\u001b[0;34m.\u001b[0m\u001b[0mshould_sync\u001b[0m\u001b[0;34m:\u001b[0m\u001b[0;34m\u001b[0m\u001b[0;34m\u001b[0m\u001b[0m\n\u001b[1;32m   1100\u001b[0m                 \u001b[0mcontext\u001b[0m\u001b[0;34m.\u001b[0m\u001b[0masync_wait\u001b[0m\u001b[0;34m(\u001b[0m\u001b[0;34m)\u001b[0m\u001b[0;34m\u001b[0m\u001b[0;34m\u001b[0m\u001b[0m\n",
      "\u001b[0;32m/opt/anaconda3/envs/QML/lib/python3.7/site-packages/tensorflow/python/eager/def_function.py\u001b[0m in \u001b[0;36m__call__\u001b[0;34m(self, *args, **kwds)\u001b[0m\n\u001b[1;32m    778\u001b[0m       \u001b[0;32melse\u001b[0m\u001b[0;34m:\u001b[0m\u001b[0;34m\u001b[0m\u001b[0;34m\u001b[0m\u001b[0m\n\u001b[1;32m    779\u001b[0m         \u001b[0mcompiler\u001b[0m \u001b[0;34m=\u001b[0m \u001b[0;34m\"nonXla\"\u001b[0m\u001b[0;34m\u001b[0m\u001b[0;34m\u001b[0m\u001b[0m\n\u001b[0;32m--> 780\u001b[0;31m         \u001b[0mresult\u001b[0m \u001b[0;34m=\u001b[0m \u001b[0mself\u001b[0m\u001b[0;34m.\u001b[0m\u001b[0m_call\u001b[0m\u001b[0;34m(\u001b[0m\u001b[0;34m*\u001b[0m\u001b[0margs\u001b[0m\u001b[0;34m,\u001b[0m \u001b[0;34m**\u001b[0m\u001b[0mkwds\u001b[0m\u001b[0;34m)\u001b[0m\u001b[0;34m\u001b[0m\u001b[0;34m\u001b[0m\u001b[0m\n\u001b[0m\u001b[1;32m    781\u001b[0m \u001b[0;34m\u001b[0m\u001b[0m\n\u001b[1;32m    782\u001b[0m       \u001b[0mnew_tracing_count\u001b[0m \u001b[0;34m=\u001b[0m \u001b[0mself\u001b[0m\u001b[0;34m.\u001b[0m\u001b[0m_get_tracing_count\u001b[0m\u001b[0;34m(\u001b[0m\u001b[0;34m)\u001b[0m\u001b[0;34m\u001b[0m\u001b[0;34m\u001b[0m\u001b[0m\n",
      "\u001b[0;32m/opt/anaconda3/envs/QML/lib/python3.7/site-packages/tensorflow/python/eager/def_function.py\u001b[0m in \u001b[0;36m_call\u001b[0;34m(self, *args, **kwds)\u001b[0m\n\u001b[1;32m    821\u001b[0m       \u001b[0;31m# This is the first call of __call__, so we have to initialize.\u001b[0m\u001b[0;34m\u001b[0m\u001b[0;34m\u001b[0m\u001b[0;34m\u001b[0m\u001b[0m\n\u001b[1;32m    822\u001b[0m       \u001b[0minitializers\u001b[0m \u001b[0;34m=\u001b[0m \u001b[0;34m[\u001b[0m\u001b[0;34m]\u001b[0m\u001b[0;34m\u001b[0m\u001b[0;34m\u001b[0m\u001b[0m\n\u001b[0;32m--> 823\u001b[0;31m       \u001b[0mself\u001b[0m\u001b[0;34m.\u001b[0m\u001b[0m_initialize\u001b[0m\u001b[0;34m(\u001b[0m\u001b[0margs\u001b[0m\u001b[0;34m,\u001b[0m \u001b[0mkwds\u001b[0m\u001b[0;34m,\u001b[0m \u001b[0madd_initializers_to\u001b[0m\u001b[0;34m=\u001b[0m\u001b[0minitializers\u001b[0m\u001b[0;34m)\u001b[0m\u001b[0;34m\u001b[0m\u001b[0;34m\u001b[0m\u001b[0m\n\u001b[0m\u001b[1;32m    824\u001b[0m     \u001b[0;32mfinally\u001b[0m\u001b[0;34m:\u001b[0m\u001b[0;34m\u001b[0m\u001b[0;34m\u001b[0m\u001b[0m\n\u001b[1;32m    825\u001b[0m       \u001b[0;31m# At this point we know that the initialization is complete (or less\u001b[0m\u001b[0;34m\u001b[0m\u001b[0;34m\u001b[0m\u001b[0;34m\u001b[0m\u001b[0m\n",
      "\u001b[0;32m/opt/anaconda3/envs/QML/lib/python3.7/site-packages/tensorflow/python/eager/def_function.py\u001b[0m in \u001b[0;36m_initialize\u001b[0;34m(self, args, kwds, add_initializers_to)\u001b[0m\n\u001b[1;32m    695\u001b[0m     self._concrete_stateful_fn = (\n\u001b[1;32m    696\u001b[0m         self._stateful_fn._get_concrete_function_internal_garbage_collected(  # pylint: disable=protected-access\n\u001b[0;32m--> 697\u001b[0;31m             *args, **kwds))\n\u001b[0m\u001b[1;32m    698\u001b[0m \u001b[0;34m\u001b[0m\u001b[0m\n\u001b[1;32m    699\u001b[0m     \u001b[0;32mdef\u001b[0m \u001b[0minvalid_creator_scope\u001b[0m\u001b[0;34m(\u001b[0m\u001b[0;34m*\u001b[0m\u001b[0munused_args\u001b[0m\u001b[0;34m,\u001b[0m \u001b[0;34m**\u001b[0m\u001b[0munused_kwds\u001b[0m\u001b[0;34m)\u001b[0m\u001b[0;34m:\u001b[0m\u001b[0;34m\u001b[0m\u001b[0;34m\u001b[0m\u001b[0m\n",
      "\u001b[0;32m/opt/anaconda3/envs/QML/lib/python3.7/site-packages/tensorflow/python/eager/function.py\u001b[0m in \u001b[0;36m_get_concrete_function_internal_garbage_collected\u001b[0;34m(self, *args, **kwargs)\u001b[0m\n\u001b[1;32m   2853\u001b[0m       \u001b[0margs\u001b[0m\u001b[0;34m,\u001b[0m \u001b[0mkwargs\u001b[0m \u001b[0;34m=\u001b[0m \u001b[0;32mNone\u001b[0m\u001b[0;34m,\u001b[0m \u001b[0;32mNone\u001b[0m\u001b[0;34m\u001b[0m\u001b[0;34m\u001b[0m\u001b[0m\n\u001b[1;32m   2854\u001b[0m     \u001b[0;32mwith\u001b[0m \u001b[0mself\u001b[0m\u001b[0;34m.\u001b[0m\u001b[0m_lock\u001b[0m\u001b[0;34m:\u001b[0m\u001b[0;34m\u001b[0m\u001b[0;34m\u001b[0m\u001b[0m\n\u001b[0;32m-> 2855\u001b[0;31m       \u001b[0mgraph_function\u001b[0m\u001b[0;34m,\u001b[0m \u001b[0m_\u001b[0m\u001b[0;34m,\u001b[0m \u001b[0m_\u001b[0m \u001b[0;34m=\u001b[0m \u001b[0mself\u001b[0m\u001b[0;34m.\u001b[0m\u001b[0m_maybe_define_function\u001b[0m\u001b[0;34m(\u001b[0m\u001b[0margs\u001b[0m\u001b[0;34m,\u001b[0m \u001b[0mkwargs\u001b[0m\u001b[0;34m)\u001b[0m\u001b[0;34m\u001b[0m\u001b[0;34m\u001b[0m\u001b[0m\n\u001b[0m\u001b[1;32m   2856\u001b[0m     \u001b[0;32mreturn\u001b[0m \u001b[0mgraph_function\u001b[0m\u001b[0;34m\u001b[0m\u001b[0;34m\u001b[0m\u001b[0m\n\u001b[1;32m   2857\u001b[0m \u001b[0;34m\u001b[0m\u001b[0m\n",
      "\u001b[0;32m/opt/anaconda3/envs/QML/lib/python3.7/site-packages/tensorflow/python/eager/function.py\u001b[0m in \u001b[0;36m_maybe_define_function\u001b[0;34m(self, args, kwargs)\u001b[0m\n\u001b[1;32m   3211\u001b[0m \u001b[0;34m\u001b[0m\u001b[0m\n\u001b[1;32m   3212\u001b[0m       \u001b[0mself\u001b[0m\u001b[0;34m.\u001b[0m\u001b[0m_function_cache\u001b[0m\u001b[0;34m.\u001b[0m\u001b[0mmissed\u001b[0m\u001b[0;34m.\u001b[0m\u001b[0madd\u001b[0m\u001b[0;34m(\u001b[0m\u001b[0mcall_context_key\u001b[0m\u001b[0;34m)\u001b[0m\u001b[0;34m\u001b[0m\u001b[0;34m\u001b[0m\u001b[0m\n\u001b[0;32m-> 3213\u001b[0;31m       \u001b[0mgraph_function\u001b[0m \u001b[0;34m=\u001b[0m \u001b[0mself\u001b[0m\u001b[0;34m.\u001b[0m\u001b[0m_create_graph_function\u001b[0m\u001b[0;34m(\u001b[0m\u001b[0margs\u001b[0m\u001b[0;34m,\u001b[0m \u001b[0mkwargs\u001b[0m\u001b[0;34m)\u001b[0m\u001b[0;34m\u001b[0m\u001b[0;34m\u001b[0m\u001b[0m\n\u001b[0m\u001b[1;32m   3214\u001b[0m       \u001b[0mself\u001b[0m\u001b[0;34m.\u001b[0m\u001b[0m_function_cache\u001b[0m\u001b[0;34m.\u001b[0m\u001b[0mprimary\u001b[0m\u001b[0;34m[\u001b[0m\u001b[0mcache_key\u001b[0m\u001b[0;34m]\u001b[0m \u001b[0;34m=\u001b[0m \u001b[0mgraph_function\u001b[0m\u001b[0;34m\u001b[0m\u001b[0;34m\u001b[0m\u001b[0m\n\u001b[1;32m   3215\u001b[0m       \u001b[0;32mreturn\u001b[0m \u001b[0mgraph_function\u001b[0m\u001b[0;34m,\u001b[0m \u001b[0margs\u001b[0m\u001b[0;34m,\u001b[0m \u001b[0mkwargs\u001b[0m\u001b[0;34m\u001b[0m\u001b[0;34m\u001b[0m\u001b[0m\n",
      "\u001b[0;32m/opt/anaconda3/envs/QML/lib/python3.7/site-packages/tensorflow/python/eager/function.py\u001b[0m in \u001b[0;36m_create_graph_function\u001b[0;34m(self, args, kwargs, override_flat_arg_shapes)\u001b[0m\n\u001b[1;32m   3073\u001b[0m             \u001b[0marg_names\u001b[0m\u001b[0;34m=\u001b[0m\u001b[0marg_names\u001b[0m\u001b[0;34m,\u001b[0m\u001b[0;34m\u001b[0m\u001b[0;34m\u001b[0m\u001b[0m\n\u001b[1;32m   3074\u001b[0m             \u001b[0moverride_flat_arg_shapes\u001b[0m\u001b[0;34m=\u001b[0m\u001b[0moverride_flat_arg_shapes\u001b[0m\u001b[0;34m,\u001b[0m\u001b[0;34m\u001b[0m\u001b[0;34m\u001b[0m\u001b[0m\n\u001b[0;32m-> 3075\u001b[0;31m             capture_by_value=self._capture_by_value),\n\u001b[0m\u001b[1;32m   3076\u001b[0m         \u001b[0mself\u001b[0m\u001b[0;34m.\u001b[0m\u001b[0m_function_attributes\u001b[0m\u001b[0;34m,\u001b[0m\u001b[0;34m\u001b[0m\u001b[0;34m\u001b[0m\u001b[0m\n\u001b[1;32m   3077\u001b[0m         \u001b[0mfunction_spec\u001b[0m\u001b[0;34m=\u001b[0m\u001b[0mself\u001b[0m\u001b[0;34m.\u001b[0m\u001b[0mfunction_spec\u001b[0m\u001b[0;34m,\u001b[0m\u001b[0;34m\u001b[0m\u001b[0;34m\u001b[0m\u001b[0m\n",
      "\u001b[0;32m/opt/anaconda3/envs/QML/lib/python3.7/site-packages/tensorflow/python/framework/func_graph.py\u001b[0m in \u001b[0;36mfunc_graph_from_py_func\u001b[0;34m(name, python_func, args, kwargs, signature, func_graph, autograph, autograph_options, add_control_dependencies, arg_names, op_return_value, collections, capture_by_value, override_flat_arg_shapes)\u001b[0m\n\u001b[1;32m    984\u001b[0m         \u001b[0m_\u001b[0m\u001b[0;34m,\u001b[0m \u001b[0moriginal_func\u001b[0m \u001b[0;34m=\u001b[0m \u001b[0mtf_decorator\u001b[0m\u001b[0;34m.\u001b[0m\u001b[0munwrap\u001b[0m\u001b[0;34m(\u001b[0m\u001b[0mpython_func\u001b[0m\u001b[0;34m)\u001b[0m\u001b[0;34m\u001b[0m\u001b[0;34m\u001b[0m\u001b[0m\n\u001b[1;32m    985\u001b[0m \u001b[0;34m\u001b[0m\u001b[0m\n\u001b[0;32m--> 986\u001b[0;31m       \u001b[0mfunc_outputs\u001b[0m \u001b[0;34m=\u001b[0m \u001b[0mpython_func\u001b[0m\u001b[0;34m(\u001b[0m\u001b[0;34m*\u001b[0m\u001b[0mfunc_args\u001b[0m\u001b[0;34m,\u001b[0m \u001b[0;34m**\u001b[0m\u001b[0mfunc_kwargs\u001b[0m\u001b[0;34m)\u001b[0m\u001b[0;34m\u001b[0m\u001b[0;34m\u001b[0m\u001b[0m\n\u001b[0m\u001b[1;32m    987\u001b[0m \u001b[0;34m\u001b[0m\u001b[0m\n\u001b[1;32m    988\u001b[0m       \u001b[0;31m# invariant: `func_outputs` contains only Tensors, CompositeTensors,\u001b[0m\u001b[0;34m\u001b[0m\u001b[0;34m\u001b[0m\u001b[0;34m\u001b[0m\u001b[0m\n",
      "\u001b[0;32m/opt/anaconda3/envs/QML/lib/python3.7/site-packages/tensorflow/python/eager/def_function.py\u001b[0m in \u001b[0;36mwrapped_fn\u001b[0;34m(*args, **kwds)\u001b[0m\n\u001b[1;32m    598\u001b[0m         \u001b[0;31m# __wrapped__ allows AutoGraph to swap in a converted function. We give\u001b[0m\u001b[0;34m\u001b[0m\u001b[0;34m\u001b[0m\u001b[0;34m\u001b[0m\u001b[0m\n\u001b[1;32m    599\u001b[0m         \u001b[0;31m# the function a weak reference to itself to avoid a reference cycle.\u001b[0m\u001b[0;34m\u001b[0m\u001b[0;34m\u001b[0m\u001b[0;34m\u001b[0m\u001b[0m\n\u001b[0;32m--> 600\u001b[0;31m         \u001b[0;32mreturn\u001b[0m \u001b[0mweak_wrapped_fn\u001b[0m\u001b[0;34m(\u001b[0m\u001b[0;34m)\u001b[0m\u001b[0;34m.\u001b[0m\u001b[0m__wrapped__\u001b[0m\u001b[0;34m(\u001b[0m\u001b[0;34m*\u001b[0m\u001b[0margs\u001b[0m\u001b[0;34m,\u001b[0m \u001b[0;34m**\u001b[0m\u001b[0mkwds\u001b[0m\u001b[0;34m)\u001b[0m\u001b[0;34m\u001b[0m\u001b[0;34m\u001b[0m\u001b[0m\n\u001b[0m\u001b[1;32m    601\u001b[0m     \u001b[0mweak_wrapped_fn\u001b[0m \u001b[0;34m=\u001b[0m \u001b[0mweakref\u001b[0m\u001b[0;34m.\u001b[0m\u001b[0mref\u001b[0m\u001b[0;34m(\u001b[0m\u001b[0mwrapped_fn\u001b[0m\u001b[0;34m)\u001b[0m\u001b[0;34m\u001b[0m\u001b[0;34m\u001b[0m\u001b[0m\n\u001b[1;32m    602\u001b[0m \u001b[0;34m\u001b[0m\u001b[0m\n",
      "\u001b[0;32m/opt/anaconda3/envs/QML/lib/python3.7/site-packages/tensorflow/python/framework/func_graph.py\u001b[0m in \u001b[0;36mwrapper\u001b[0;34m(*args, **kwargs)\u001b[0m\n\u001b[1;32m    971\u001b[0m           \u001b[0;32mexcept\u001b[0m \u001b[0mException\u001b[0m \u001b[0;32mas\u001b[0m \u001b[0me\u001b[0m\u001b[0;34m:\u001b[0m  \u001b[0;31m# pylint:disable=broad-except\u001b[0m\u001b[0;34m\u001b[0m\u001b[0;34m\u001b[0m\u001b[0m\n\u001b[1;32m    972\u001b[0m             \u001b[0;32mif\u001b[0m \u001b[0mhasattr\u001b[0m\u001b[0;34m(\u001b[0m\u001b[0me\u001b[0m\u001b[0;34m,\u001b[0m \u001b[0;34m\"ag_error_metadata\"\u001b[0m\u001b[0;34m)\u001b[0m\u001b[0;34m:\u001b[0m\u001b[0;34m\u001b[0m\u001b[0;34m\u001b[0m\u001b[0m\n\u001b[0;32m--> 973\u001b[0;31m               \u001b[0;32mraise\u001b[0m \u001b[0me\u001b[0m\u001b[0;34m.\u001b[0m\u001b[0mag_error_metadata\u001b[0m\u001b[0;34m.\u001b[0m\u001b[0mto_exception\u001b[0m\u001b[0;34m(\u001b[0m\u001b[0me\u001b[0m\u001b[0;34m)\u001b[0m\u001b[0;34m\u001b[0m\u001b[0;34m\u001b[0m\u001b[0m\n\u001b[0m\u001b[1;32m    974\u001b[0m             \u001b[0;32melse\u001b[0m\u001b[0;34m:\u001b[0m\u001b[0;34m\u001b[0m\u001b[0;34m\u001b[0m\u001b[0m\n\u001b[1;32m    975\u001b[0m               \u001b[0;32mraise\u001b[0m\u001b[0;34m\u001b[0m\u001b[0;34m\u001b[0m\u001b[0m\n",
      "\u001b[0;31mValueError\u001b[0m: in user code:\n\n    /opt/anaconda3/envs/QML/lib/python3.7/site-packages/tensorflow/python/keras/engine/training.py:806 train_function  *\n        return step_function(self, iterator)\n    <ipython-input-10-ebacd62dde43>:24 call  *\n        _params = tf.reshape(new_params, shape = (2,2))\n    /opt/anaconda3/envs/QML/lib/python3.7/site-packages/tensorflow/python/util/dispatch.py:201 wrapper  **\n        return target(*args, **kwargs)\n    /opt/anaconda3/envs/QML/lib/python3.7/site-packages/tensorflow/python/ops/array_ops.py:195 reshape\n        result = gen_array_ops.reshape(tensor, shape, name)\n    /opt/anaconda3/envs/QML/lib/python3.7/site-packages/tensorflow/python/ops/gen_array_ops.py:8234 reshape\n        \"Reshape\", tensor=tensor, shape=shape, name=name)\n    /opt/anaconda3/envs/QML/lib/python3.7/site-packages/tensorflow/python/framework/op_def_library.py:744 _apply_op_helper\n        attrs=attr_protos, op_def=op_def)\n    /opt/anaconda3/envs/QML/lib/python3.7/site-packages/tensorflow/python/framework/func_graph.py:593 _create_op_internal\n        compute_device)\n    /opt/anaconda3/envs/QML/lib/python3.7/site-packages/tensorflow/python/framework/ops.py:3485 _create_op_internal\n        op_def=op_def)\n    /opt/anaconda3/envs/QML/lib/python3.7/site-packages/tensorflow/python/framework/ops.py:1975 __init__\n        control_input_ops, op_def)\n    /opt/anaconda3/envs/QML/lib/python3.7/site-packages/tensorflow/python/framework/ops.py:1815 _create_c_op\n        raise ValueError(str(e))\n\n    ValueError: Cannot reshape a tensor with 20 elements to shape [2,2] (4 elements) for '{{node functional_1/qrnn_4/Reshape}} = Reshape[T=DT_FLOAT, Tshape=DT_INT32](functional_1/qrnn_4/lstm_cell_4/mul_2, functional_1/qrnn_4/Reshape/shape)' with input shapes: [5,4], [2] and with input tensors computed as partial shapes: input[1] = [2,2].\n"
     ]
    }
   ],
   "source": [
    "N_POINTS = 10\n",
    "\n",
    "inp_costA = tf.zeros(shape = (N_POINTS, 1))\n",
    "inp_paramsA = tf.zeros(shape = (N_POINTS, 4))\n",
    "inp_hA = tf.zeros(shape = (N_POINTS, 4))\n",
    "inp_cA = tf.zeros(shape = (N_POINTS, 4))\n",
    "\n",
    "model.fit(x=[inp_costA, inp_paramsA, inp_hA, inp_cA],\n",
    "          y=[\n",
    "              np.zeros((N_POINTS, 1)),\n",
    "              np.zeros((N_POINTS, 1)),\n",
    "              np.zeros((N_POINTS, 1)),\n",
    "              np.zeros((N_POINTS, 1))\n",
    "          ],\n",
    "          epochs=3,\n",
    "          batch_size=5,\n",
    "          verbose=1)"
   ]
  },
  {
   "cell_type": "code",
   "execution_count": 11,
   "metadata": {},
   "outputs": [],
   "source": [
    "model = tf.keras.Model(inputs = [inp_cost, inp_params, inp_h, inp_c], outputs = out2)"
   ]
  },
  {
   "cell_type": "code",
   "execution_count": 12,
   "metadata": {
    "scrolled": false
   },
   "outputs": [
    {
     "name": "stdout",
     "output_type": "stream",
     "text": [
      "Model: \"functional_1\"\n",
      "__________________________________________________________________________________________________\n",
      "Layer (type)                    Output Shape         Param #     Connected to                     \n",
      "==================================================================================================\n",
      "input_1 (InputLayer)            [(None, 1)]          0                                            \n",
      "__________________________________________________________________________________________________\n",
      "input_2 (InputLayer)            [(None, 4)]          0                                            \n",
      "__________________________________________________________________________________________________\n",
      "input_3 (InputLayer)            [(None, 4)]          0                                            \n",
      "__________________________________________________________________________________________________\n",
      "input_4 (InputLayer)            [(None, 4)]          0                                            \n",
      "__________________________________________________________________________________________________\n",
      "qrnn (QRNN)                     [(1, 1), (None, 4),  160         input_1[0][0]                    \n",
      "                                                                 input_2[0][0]                    \n",
      "                                                                 input_3[0][0]                    \n",
      "                                                                 input_4[0][0]                    \n",
      "                                                                 qrnn[0][0]                       \n",
      "                                                                 qrnn[0][2]                       \n",
      "                                                                 qrnn[0][2]                       \n",
      "                                                                 qrnn[0][3]                       \n",
      "                                                                 qrnn[1][0]                       \n",
      "                                                                 qrnn[1][2]                       \n",
      "                                                                 qrnn[1][2]                       \n",
      "                                                                 qrnn[1][3]                       \n",
      "==================================================================================================\n",
      "Total params: 160\n",
      "Trainable params: 160\n",
      "Non-trainable params: 0\n",
      "__________________________________________________________________________________________________\n"
     ]
    }
   ],
   "source": [
    "model.summary()"
   ]
  },
  {
   "cell_type": "code",
   "execution_count": 13,
   "metadata": {},
   "outputs": [
    {
     "data": {
      "image/png": "[encoded data removed]",
      "text/plain": [
       "<IPython.core.display.Image object>"
      ]
     },
     "execution_count": 13,
     "metadata": {},
     "output_type": "execute_result"
    }
   ],
   "source": [
    "tf.keras.utils.plot_model(model, show_shapes=True)"
   ]
  },
  {
   "cell_type": "code",
   "execution_count": 60,
   "metadata": {},
   "outputs": [
    {
     "data": {
      "text/plain": [
       "[<__main__.QRNN at 0x7fc64cc3bed0>, <__main__.QRNN at 0x7fc6ada45f90>]"
      ]
     },
     "execution_count": 60,
     "metadata": {},
     "output_type": "execute_result"
    }
   ],
   "source": [
    "[QRNN(graph = graphs[0]) for i in range(2)]"
   ]
  },
  {
   "cell_type": "code",
   "execution_count": null,
   "metadata": {},
   "outputs": [],
   "source": [
    "def create_model(num_qubits = 7, cycles = 5, graph = None):\n",
    "    q_cells = [QRNN(graph = graph) for i in range(cycles)]\n",
    "    "
   ]
  },
  {
   "cell_type": "code",
   "execution_count": null,
   "metadata": {},
   "outputs": [],
   "source": []
  },
  {
   "cell_type": "code",
   "execution_count": null,
   "metadata": {},
   "outputs": [],
   "source": []
  },
  {
   "cell_type": "markdown",
   "metadata": {},
   "source": [
    "## Test code (can ignore)"
   ]
  },
  {
   "cell_type": "code",
   "execution_count": null,
   "metadata": {},
   "outputs": [],
   "source": [
    "pauli_z = [[1, 0], [0, -1]]\n",
    "pauli_z_2 = np.kron(pauli_z, pauli_z)\n",
    "\n",
    "dev = qml.device(\"default.qubit.tf\", wires=7, analytic=True)\n",
    "\n",
    "\n",
    "@qml.qnode(dev)\n",
    "def circuit(gammas, betas, edge=None, n_layers=2, graph = None):\n",
    "    \n",
    "    n_wires = len(graph.nodes)\n",
    "    \n",
    "    # unitary operator U_B with parameter beta\n",
    "    def U_B(beta):\n",
    "        for wire in range(n_wires):\n",
    "            qml.RX(2 * beta, wires=wire)\n",
    "\n",
    "    # unitary operator U_C with parameter gamma\n",
    "    def U_C(gamma):\n",
    "        for edge in graph.edges:\n",
    "            wire1 = edge[0]\n",
    "            wire2 = edge[1]\n",
    "            qml.CNOT(wires=[wire1, wire2])\n",
    "            qml.RZ(gamma, wires=wire2)\n",
    "            qml.CNOT(wires=[wire1, wire2])\n",
    "            \n",
    "    def comp_basis_measurement(wires):\n",
    "        n_wires = len(wires)\n",
    "        return qml.Hermitian(np.diag(range(2 ** n_wires)), wires=wires)    \n",
    "    \n",
    "    # apply Hadamards to get the n qubit |+> state\n",
    "    for wire in range(n_wires):\n",
    "        qml.Hadamard(wires=wire)\n",
    "    # p instances of unitary operators\n",
    "    for i in range(n_layers):\n",
    "        U_C(gammas[i])\n",
    "        U_B(betas[i])\n",
    "    if edge is None:\n",
    "        # measurement phase\n",
    "        return qml.sample(comp_basis_measurement(range(n_wires)))\n",
    "    # during the optimization phase we are evaluating a term\n",
    "    # in the objective using expval\n",
    "    return qml.expval(qml.Hermitian(pauli_z_2, wires=edge))"
   ]
  },
  {
   "cell_type": "code",
   "execution_count": 16,
   "metadata": {},
   "outputs": [
    {
     "name": "stdout",
     "output_type": "stream",
     "text": [
      "tf.Tensor([[ 0.01506045  0.08822118  0.01831053 -0.30537358]], shape=(1, 4), dtype=float32) tf.Tensor([[ 0.01506045  0.08822118  0.01831053 -0.30537358]], shape=(1, 4), dtype=float32) tf.Tensor([[ 0.03009109  0.2579358   0.03984904 -0.6119622 ]], shape=(1, 4), dtype=float32)\n"
     ]
    }
   ],
   "source": [
    "cell0 = tf.keras.layers.LSTMCell(4)\n",
    "cell1 = tf.keras.layers.LSTMCell(4)\n",
    "cell2 = tf.keras.layers.LSTMCell(4)\n",
    "\n",
    "output, [h, c] = cell0(tf.ones(shape=(1,5)), states = [tf.zeros(shape=(1,4)), tf.zeros(shape=(1,4))])\n",
    "#output, [h, c] = cell1(output, states = [h, c])\n",
    "#output, [h, c] = cell2(output, states = [h, c])\n",
    "\n",
    "\n",
    "print(output, h, c)"
   ]
  },
  {
   "cell_type": "code",
   "execution_count": 34,
   "metadata": {},
   "outputs": [
    {
     "ename": "SyntaxError",
     "evalue": "invalid syntax (<ipython-input-34-8abbfdd40d59>, line 4)",
     "output_type": "error",
     "traceback": [
      "\u001b[0;36m  File \u001b[0;32m\"<ipython-input-34-8abbfdd40d59>\"\u001b[0;36m, line \u001b[0;32m4\u001b[0m\n\u001b[0;31m    f call(self, inputs):\u001b[0m\n\u001b[0m         ^\u001b[0m\n\u001b[0;31mSyntaxError\u001b[0m\u001b[0;31m:\u001b[0m invalid syntax\n"
     ]
    }
   ],
   "source": [
    "cell = tf.keras.layers.LSTMCell(4)\n",
    "self.expectation = qaoa_from_graph(graph)\n",
    "\n",
    "f call(self, inputs):\n",
    "prev_cost = inputs[0]\n",
    "prev_params = inputs[1]\n",
    "prev_h = inputs[2]\n",
    "prev_c = inputs[3]\n",
    "\n",
    "new_input = tf.keras.layers.concatenate([prev_cost, prev_params])\n",
    "new_params, new_h, new_c = self.cell(new_input, state = [prev_h, prev_c])\n",
    "\n",
    "new_cost = self.expectation([new_params[:2], new_params[2:]])\n",
    "\n",
    "return [new_cost, new_params, new_h, new_c]"
   ]
  },
  {
   "cell_type": "code",
   "execution_count": 10,
   "metadata": {},
   "outputs": [],
   "source": [
    "cost_inp = tf.keras.Input(shape=(1,))\n",
    "params_inp = tf.keras.Input(shape=(2,2))\n",
    "h_inp = tf.keras.Input(shape=(4,)) # it has the shape (batch, units)\n",
    "c_inp = tf.keras.Input(shape=(4,))"
   ]
  },
  {
   "cell_type": "code",
   "execution_count": null,
   "metadata": {},
   "outputs": [],
   "source": []
  },
  {
   "cell_type": "code",
   "execution_count": 147,
   "metadata": {},
   "outputs": [],
   "source": [
    "def generate_dataset(num_qubits, num_data):\n",
    "    p_edge = 3./num_qubits\n",
    "    circs = []\n",
    "    for _ in range(num_data):\n",
    "        random_graph = nx.gnp_random_graph(num_qubits, p = p_edge)\n",
    "        circ = qaoa_from_graph(random_graph)\n",
    "        circs.append(circ)\n",
    "    return circs"
   ]
  },
  {
   "cell_type": "code",
   "execution_count": 148,
   "metadata": {},
   "outputs": [],
   "source": [
    "circs = generate_dataset(5, 10)"
   ]
  },
  {
   "cell_type": "markdown",
   "metadata": {},
   "source": [
    "## Mapping of Graph to QAOA anstaze"
   ]
  },
  {
   "cell_type": "markdown",
   "metadata": {},
   "source": [
    "How to create a circuit in Pennylane"
   ]
  },
  {
   "cell_type": "code",
   "execution_count": 88,
   "metadata": {},
   "outputs": [
    {
     "name": "stdout",
     "output_type": "stream",
     "text": [
      " 0: ──H──┤     \n",
      " 1: ──X──┤ ⟨Z⟩ \n",
      "\n"
     ]
    }
   ],
   "source": [
    "dev = qml.device('default.qubit', wires=2, shots=1024, analytic=False)\n",
    "\n",
    "@qml.qnode(dev)\n",
    "def circuit():\n",
    "    qml.PauliX(1)\n",
    "    qml.Hadamard(0)\n",
    "    return qml.expval(qml.PauliZ(1))\n",
    "\n",
    "circuit()\n",
    "print(circuit.draw())"
   ]
  },
  {
   "cell_type": "code",
   "execution_count": 180,
   "metadata": {},
   "outputs": [
    {
     "name": "stdout",
     "output_type": "stream",
     "text": [
      " 0: ──H──╭C──╭C──────────────────────────────────────┤ ⟨Z⟩ \n",
      " 1: ──H──╰Z──│───╭C──────╭C──────╭C──────────────────┤ ⟨Z⟩ \n",
      " 2: ──H──────│───│───╭C──│───╭C──│───────╭C──────────┤ ⟨Z⟩ \n",
      " 3: ──H──────╰Z──╰Z──╰Z──│───│───│───╭C──│───────────┤ ⟨Z⟩ \n",
      " 4: ──H──────────────────╰Z──╰Z──│───╰Z──│───╭C──────┤ ⟨Z⟩ \n",
      " 5: ──H──────────────────────────│───────│───│───╭C──┤ ⟨Z⟩ \n",
      " 6: ──H──────────────────────────╰Z──────╰Z──╰Z──╰Z──┤ ⟨Z⟩ \n",
      "\n"
     ]
    }
   ],
   "source": [
    "# Transverse field\n",
    "def U_x(eta, n_wires = None):\n",
    "    for wire in range(n_wires):\n",
    "        qml.RX(2 * eta, wires = wire)\n",
    "\n",
    "# Actual hamiltonian\n",
    "def U_C(gamma, graph = None):\n",
    "    for edge in graph.edges():\n",
    "        wire1 = edge[0]\n",
    "        wire2 = edge[1]\n",
    "        qml.CNOT(wires=[wire1, wire2])\n",
    "        qml.RZ(gamma, wires=wire2)\n",
    "        qml.CNOT(wires=[wire1, wire2])\n",
    "\n",
    "def qaoa_from_graph(alphas, betas, graph = None, p = None):\n",
    "    n_qubits = len(graph.nodes)\n",
    "    \n",
    "    # All qubits to |+> state\n",
    "    for i in range(n_qubits):\n",
    "        qml.Hadamard(wires=i)\n",
    "    \n",
    "    # Repeat QAOA ansatze p times\n",
    "    for n_layers in range(p):\n",
    "        for e in graph.edges():\n",
    "            qml.CZ(wires = [e[0], e[1]])\n",
    "            \n",
    "    # Final measurement\n",
    "    return [qml.expval(qml.PauliZ(i)) for i in range(n_qubits)]\n",
    "\n",
    "dev = dev = qml.device('default.qubit', wires=7, shots=1024, analytic=False)\n",
    "\n",
    "qnode = qml.QNode(qaoa_from_graph, dev)\n",
    "\n",
    "qnode(0., 0., graph = graphs[0], p = 1)\n",
    "\n",
    "print(qnode.draw())"
   ]
  }
 ],
 "metadata": {
  "colab": {
   "name": "l2l_0.ipynb",
   "provenance": []
  },
  "kernelspec": {
   "display_name": "Python 3",
   "language": "python",
   "name": "python3"
  },
  "language_info": {
   "codemirror_mode": {
    "name": "ipython",
    "version": 3
   },
   "file_extension": ".py",
   "mimetype": "text/x-python",
   "name": "python",
   "nbconvert_exporter": "python",
   "pygments_lexer": "ipython3",
   "version": "3.7.6"
  }
 },
 "nbformat": 4,
 "nbformat_minor": 1
}
