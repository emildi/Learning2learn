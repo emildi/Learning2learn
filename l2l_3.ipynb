{
 "cells": [
  {
   "cell_type": "markdown",
   "metadata": {
    "id": "3ByYL2o9sJe8"
   },
   "source": [
    "# Learning to Learn with Quantum NN via Classical NN\n",
    "\n",
    "[![Open In Colab](https://colab.research.google.com/assets/colab-badge.svg)](https://colab.research.google.com/github/stfnmangini/QOSF-Mentorship/blob/main/l2l_1.ipynb)\n",
    "\n",
    "The aim of this notebook is to recreate the architecture proposed by Verdon et al. in the paper *Learning to learn with quantum neural networks via classical neural networks* [[1]](#1), using **PennyLane** [[2]](#2) and **Tensorflow** [[3]](#3).  \n",
    "\n",
    "We will start with a brief theoretical overview explaining the problem and the setup used to solve it. After that, we will deep dive into the code to build a fully functioning model, ready to be further developed or customized to your own needs. Without further ado, let's start!\n",
    "\n",
    "---\n",
    "\n",
    "### Problem: *Optimization of Variational Quantum Algorithms (VQAs)*\n",
    "\n",
    "Recently, a big effort by the quantum computing community has been devoted towards the study of variational quantum algorithms (VQAs, for short) which leverage quantum circuits with fixed shape but with tunable parameters to solve a desired target task. The idea is similar to classical neural networks, where the weights of the net are optimized during training in order to perform best in regression or classification tasks. Similarly, once the shape of variational quantum circuit is chosen — something that is very difficult and sensitive to the particular task at hand — its tunable parameters are optimized iteratively by minimizing a cost (or loss) function, which measures how good the quantum algorithm is performing (see [[4]](#4) for a thorough overview on VQAs). \n",
    "\n",
    "\n",
    "A major challange for VQAs relates to the optimization of tunable parameters, which was shown to be a very hard task to perform (see *barren plateus*). In particular, parameter initialization plays a key role in this scenario, since initializing the parameters in the proximity of an optimal solution leads to faster convergence and better results with respect to random initialization, which could bring the model in a region in parameter space far from any good solution. Thus, a good initialization strategy is crucial to promote the convergence of local optimizers to local extrema and to select reasonably good local minima.  \n",
    "\n",
    "One such strategy, could come from the classical machine learning literature. \n",
    "\n",
    "\n",
    "### Solution: *(Classical) Recurrent Neural Networks* \n",
    "\n",
    "By building up on results from *meta learning* literature in Classical ML, authors in [[1]](#1) propose to use a Recurrent Neural Network (RNN) as a black-box controller to optimize the tunable parameters of variational quantum algorithms, as shown in the figure below. The cost function used for the variational quantum circuits consists of the expectation value $\\langle H\\rangle_{\\boldsymbol{\\theta}} = \\langle \\psi_{\\boldsymbol{\\theta}}| H|\\psi_{\\boldsymbol{\\theta}}\\rangle $ of an hamiltonian $H$ evaluated on the parametrized state $\\psi_{\\boldsymbol{\\theta}}$ created by the variaitonal quantum circuit.\n",
    "\n",
    "|  |\n",
    "|:--|\n",
    "| |\n",
    "| <img src=\"image.jpg\" alt=\"Scheme of the proposed architecture, taken from [[1]](#1)\" width=\"600\"/> | \n",
    "| **Recurrent Neural Network Scheme**. Given the variational parameters of the quantum circuit $\\boldsymbol{\\theta}_{t-1}$, the cost function $y_{t-1}$, and the hidden state of the classical network $m_{t-1}$ at the previous time step, the CPU (classical computer) proposes a new guess for the parameters $\\boldsymbol{\\theta}_t$, which are then fed into the QPU (quantum computer) to evaluate the cost function $y_t$. By repeating this cycle few times, and by training the recurrent neural network's weights in order to minimize the loss function $y_t$, a good initialization heuristic for the quantum variational parameters $\\boldsymbol{\\theta}$ is found. The cost function taken into account here is given by the expectation value $\\langle H\\rangle_{\\boldsymbol{\\theta}}$, of an Hamiltonian $H$ on the quantum state $|\\psi_\\theta\\rangle$ parametrized by angles $\\boldsymbol{\\theta}$. This image is taken directly from the paper [[1]](#1).|\n",
    "\n",
    "At a given iteration, the RNN receives as input the previous cost function $y_t$ evaluated on the quantum computer, where $y_t$ is the estimate of $\\langle H\\rangle_{t}$, as well as the parameters for which the variational circuit was evaluated $\\boldsymbol{\\theta}_t$. The RNN at this time step also receives information stored in its internal hidden state from the previous time step $m_t$. The RNN itself has trainable parameters $\\phi$, and hence it applies the parameterized mapping:  \n",
    "\n",
    "$$ m_{t+1}, \\boldsymbol{\\theta}_{t+1} = \\text{RNN}_{\\phi}(m_{t}, \\boldsymbol{\\theta}_{t}, y_{t}) $$\n",
    "\n",
    "which generates a new suggestions for the variational parameters as well as a new internal state. Upon training the weights $\\phi$, the RNN eventually learns a good heuristic to suggest optimal parameters for the quantum circuit.  \n",
    "\n",
    "\n",
    "### Before starting: QAOA and MaxCut\n",
    "There are multiple VQAs for which this hybrid training routine could be used, some of them directly analyzed in [[1]](#1). In the following, we will only focus on one of such examples, that is the use of the QAOA (Quantum Approximate Optimization Algorithm) for solving the MaxCut problem for graphs. Thus, referring to the picture above, the shape of the variational circuit is the one dictated by the QAOA ansatze, and this quantum circuit is be used to evaluate the cost hamiltonian $H$ of the MaxCut problem of some graphs.  \n",
    "If you wish to refresh your memories about such topics, have a look at this great tutorial: https://pennylane.ai/qml/demos/tutorial_qaoa_maxcut.html\n",
    "\n",
    "---\n",
    "\n",
    "#### References\n",
    "<a id=\"1\">[1]</a> \n",
    "Verdon G., Broughton M., McClean J. R., Sung K. J., Babbush R., Jiang Z., Neven H. and Mohseni M. (2019),  \n",
    "Learning to learn with quantum neural networks via classical neural networks, [arXiv:1907.05415](https://arxiv.org/abs/1907.05415).\n",
    "\n",
    "<a id=\"2\">[2]</a> \n",
    "https://pennylane.ai/\n",
    "\n",
    "<a id=\"3\">[3]</a> \n",
    "https://www.tensorflow.org/\n",
    "\n",
    "<a id=\"4\">[4]</a> \n",
    "Cerezo M., Arrasmith A., Babbush R., Benjamin S. C., Endo S., Fujii K., McClean J. R., Mitarai K., Yuan X., Cincio L. and Coles P. J. (2020),  \n",
    "Variational Quantum Algorithms, [arXiv:2012.09265](https://arxiv.org/abs/2012.09265).  \n",
    "\n",
    "---\n"
   ]
  },
  {
   "cell_type": "markdown",
   "metadata": {
    "id": "kiP9yNVrw780"
   },
   "source": [
    "**Run cell below only if using this notebook in Colab**  \n",
    "If you're running this notebook on Colab, you need to install the following dependencies. On the other hand, if you're running this on your personal computer, be sure to have Tensorflow, Pennylane and Networkx installed"
   ]
  },
  {
   "cell_type": "code",
   "execution_count": null,
   "metadata": {
    "id": "3Zq4Bnbttkoh"
   },
   "outputs": [],
   "source": [
    "IS_COLAB = False\n",
    "if IS_COLAB:\n",
    "    # Tensorflow is installed by default on Colab \n",
    "    !pip install --upgrade pennylane\n",
    "    !pip install networkx"
   ]
  },
  {
   "cell_type": "markdown",
   "metadata": {},
   "source": [
    "#### Importation of required packages\n",
    "\n",
    "As already mentioned at the start of the notebook, we will use *Pennylane* for the quantum circuits execution and for its seamless integration with *Tensorflow*, which will be used for creating the RNN. "
   ]
  },
  {
   "cell_type": "code",
   "execution_count": 1,
   "metadata": {},
   "outputs": [],
   "source": [
    "# Quantum Machine Learning\n",
    "import pennylane as qml\n",
    "from pennylane import qaoa\n",
    "\n",
    "# Classical Machine Learning\n",
    "import tensorflow as tf\n",
    "\n",
    "# Generation of graphs\n",
    "import networkx as nx\n",
    "\n",
    "import numpy as np\n",
    "import matplotlib.pyplot as plt\n",
    "\n",
    "# Set the seed for reproducibility of results\n",
    "np.random.seed(42)\n",
    "tf.random.set_seed(42)"
   ]
  },
  {
   "cell_type": "markdown",
   "metadata": {},
   "source": [
    "---"
   ]
  },
  {
   "cell_type": "markdown",
   "metadata": {
    "id": "6aEd_oBHter4"
   },
   "source": [
    "### Generation of training data: Graphs"
   ]
  },
  {
   "cell_type": "markdown",
   "metadata": {},
   "source": [
    "As for any Machine Learning project, the first step is to gather (or in our case create) a good dataset, which will be used to train the model and test its performances. In our case, we are analyzing the MaxCut problem, with deals with the problem of finding a good binary partition of nodes in a *graph*, such that the number of edges *cut* by such separation is maximized. For this reason, we start by generating some random graphs $G_{n,p}$ where:\n",
    "- $n$ is the number of nodes in the graphs\n",
    "- $p$ is the probability of having an edge between two nodes"
   ]
  },
  {
   "cell_type": "code",
   "execution_count": 3,
   "metadata": {
    "pycharm": {
     "name": "#%%\n"
    }
   },
   "outputs": [],
   "source": [
    "def generate_graphs(n_graphs, n_nodes, p_edge):\n",
    "    \"\"\"\n",
    "    Generate a list containing random graphs generated by Networkx. \n",
    "    \n",
    "    Args:\n",
    "    n_graphs: length of final list, that is the number of graphs to generate.\n",
    "    n_nodes: number of nodes in each graph.\n",
    "    p_edge: probability of having an edge between two nodes. (See Networkx's documentation)\n",
    "    \n",
    "    Returns:\n",
    "    datapoints: list containing the generated graphs\n",
    "    \"\"\"\n",
    "    \n",
    "    datapoints = []\n",
    "    for _ in range(n_graphs):\n",
    "        random_graph = nx.gnp_random_graph(n_nodes, p = p_edge)\n",
    "        datapoints.append(random_graph)\n",
    "    return datapoints"
   ]
  },
  {
   "cell_type": "markdown",
   "metadata": {},
   "source": [
    "An example of random graph"
   ]
  },
  {
   "cell_type": "code",
   "execution_count": 5,
   "metadata": {
    "pycharm": {
     "name": "#%%\n"
    },
    "scrolled": true
   },
   "outputs": [
    {
     "name": "stdout",
     "output_type": "stream",
     "text": [
      "Sample of a random graph with 7 nodes and 7 edges (p=0.43)\n"
     ]
    },
    {
     "data": {
      "image/png": "[encoded data removed]",
      "text/plain": [
       "<Figure size 432x288 with 1 Axes>"
      ]
     },
     "metadata": {},
     "output_type": "display_data"
    }
   ],
   "source": [
    "# Define parameters of the graphs\n",
    "n_graphs = 100\n",
    "n_nodes = 7\n",
    "p_edge = 3./n_nodes\n",
    "graphs = generate_graphs(n_graphs, n_nodes, p_edge)\n",
    "\n",
    "print(f\"Sample of a random graph with {len(graphs[0].nodes)} nodes and {len(graphs[0].edges)} edges (p={p_edge:.2f})\")\n",
    "nx.draw(graphs[0])"
   ]
  },
  {
   "cell_type": "markdown",
   "metadata": {},
   "source": [
    "---"
   ]
  },
  {
   "cell_type": "markdown",
   "metadata": {},
   "source": [
    "### Variational Quantum Circuit: QAOA  \n",
    "\n",
    "Now that we have a dataset, we move on by creating the QAOA quantum circuits using Pennylane's builtin libraries. In particular, using Pennylane's `qaoa` module, we will able to create fully functioning quantum circuits with very few lines of code."
   ]
  },
  {
   "cell_type": "code",
   "execution_count": 7,
   "metadata": {},
   "outputs": [],
   "source": [
    "def qaoa_from_graph(graph, n_layers = 1):\n",
    "    \"\"\"\n",
    "    Creates a QAOA instance of the MaxCut problem given a graph. This function uses nested functions needed\n",
    "    for the creation of the quantum circuit. When called, it instantiate the QAOA circuit for the input graph \n",
    "    and outputs a function which, upon feeding of the parameters, evaluates the MaxCut cost function for the \n",
    "    given graph. \n",
    "    \n",
    "    Args:\n",
    "    ------\n",
    "    graph: A graph generated with Networkx.\n",
    "    n_layers: Number of repetitions in the QAOA ansatz.\n",
    "    \n",
    "    Returns:\n",
    "    ------\n",
    "    hamiltonian: A function which, given some parameters as input, evaluates the MaxCutcost function of the \n",
    "    QAOA quantum circuit for the specified graph.\n",
    "    \"\"\"\n",
    "        \n",
    "    # Number of qubits (wires) equal to the number of nodes in the graph\n",
    "    wires = range(len(graph.nodes))\n",
    "    \n",
    "    # Define the structure of the cost and mixer subcircuits\n",
    "    cost_h, mixer_h = qaoa.maxcut(graph)   \n",
    "    \n",
    "    # Defines a layer of the QAOA ansatz from the cost and mixer Hamiltonians\n",
    "    def qaoa_layer(gamma, alpha):\n",
    "        qaoa.cost_layer(gamma, cost_h)\n",
    "        qaoa.mixer_layer(alpha, mixer_h)\n",
    "       \n",
    "    # Creates the actual quantum circuit for the QAOA algorithm\n",
    "    def circuit(params, **kwargs): \n",
    "        for w in wires:\n",
    "            qml.Hadamard(wires=w)\n",
    "        qml.layer(qaoa_layer, n_layers, params[0], params[1])\n",
    "     \n",
    "    # Evaluates the cost function\n",
    "    def hamiltonian(params, **kwargs):\n",
    "        \"\"\"\n",
    "        Function that evaluates the actual MaxCut cost of the QAOA, given the angles for the circuit \n",
    "        and the specified graph. \n",
    "        \n",
    "        Args:\n",
    "        ------\n",
    "        params: List of angles for the QAOA circuit, with shape (n_layers x 2). \n",
    "        params has the shape [angles_1, ..., angles_(n_layers)], where angles_i = [alphas_i, gammas_i].\n",
    "        \n",
    "        Returns:\n",
    "        ------\n",
    "        cost: Cost hamiltonian evaluated with the input angles.\n",
    "        \n",
    "        \"\"\"\n",
    "        # We set the default.qubit.tf device for seamless integration with Tensorflow\n",
    "        dev = qml.device('default.qubit.tf', wires=len(graph.nodes))\n",
    "        # ExpvalCost evaluates the Expectation value of an operator on a circuit\n",
    "        cost = qml.ExpvalCost(circuit, cost_h, dev, interface=\"tf\",  diff_method = \"backprop\")\n",
    "        return cost(params)\n",
    "    \n",
    "    return hamiltonian"
   ]
  },
  {
   "cell_type": "markdown",
   "metadata": {},
   "source": [
    "Before moving on, let's see how to use these functions"
   ]
  },
  {
   "cell_type": "code",
   "execution_count": 8,
   "metadata": {
    "scrolled": true
   },
   "outputs": [
    {
     "data": {
      "text/plain": [
       "<tf.Tensor: shape=(1,), dtype=float64, numpy=array([-2.08162658])>"
      ]
     },
     "execution_count": 8,
     "metadata": {},
     "output_type": "execute_result"
    }
   ],
   "source": [
    "# Create an instance of a QAOA circuit given a graph.\n",
    "cost = qaoa_from_graph(graph = graphs[0], n_layers = 1)\n",
    "\n",
    "# Define some paramenters\n",
    "# Since we use only one layer in QAOA, params have the shape 1 x 2, in the form [[alpha, gamma]]. \n",
    "x = tf.Variable([[0.5], [0.5]], dtype = tf.float32)\n",
    "\n",
    "# Evaluate th QAOA instance just created with some angles.\n",
    "cost(x)"
   ]
  },
  {
   "cell_type": "markdown",
   "metadata": {},
   "source": [
    "Now we optimize the parameters to reduce the cost function `cost`. We can do this using the `tf.GradientTape()`, which works directly thanks to Pennylane seamless integration with Tensorflow when using the `default.qubit.tf` device."
   ]
  },
  {
   "cell_type": "code",
   "execution_count": 9,
   "metadata": {
    "scrolled": true
   },
   "outputs": [
    {
     "name": "stdout",
     "output_type": "stream",
     "text": [
      "Step 0 - Loss = [-2.08162658]\n",
      "Step 1 - Loss = [-2.52991851]\n",
      "Step 2 - Loss = [-3.05405209]\n",
      "Step 3 - Loss = [-3.47125931]\n",
      "Step 4 - Loss = [-3.64636716]\n",
      "Step 5 - Loss = [-3.64914416]\n",
      "Step 6 - Loss = [-3.67344869]\n",
      "Step 7 - Loss = [-3.77857654]\n",
      "Step 8 - Loss = [-3.92728955]\n",
      "Step 9 - Loss = [-4.06789741]\n",
      "Step 10 - Loss = [-4.17508691]\n",
      "Step 11 - Loss = [-4.26409672]\n",
      "Step 12 - Loss = [-4.36769486]\n",
      "Step 13 - Loss = [-4.49882886]\n",
      "Step 14 - Loss = [-4.63825216]\n",
      "Final cost function: [-4.74817983]\n",
      "Optimized angles: [[0.6159616]\n",
      " [1.2706409]]\n"
     ]
    }
   ],
   "source": [
    "x = tf.Variable([[0.5], [0.5]], dtype = tf.float32)\n",
    "\n",
    "# Select an optimizer\n",
    "opt = tf.keras.optimizers.Adam(learning_rate=0.1)\n",
    "\n",
    "# Choose the number of optimization steps\n",
    "step = 15\n",
    "\n",
    "# Start of optimization (or training)\n",
    "for _ in range(step):\n",
    "    with tf.GradientTape() as tape:\n",
    "        loss = cost(x)\n",
    "        \n",
    "    gradients = tape.gradient(loss, [x])\n",
    "    opt.apply_gradients(zip(gradients, [x]))\n",
    "    print(f\"Step {_} - Loss = {loss}\")\n",
    "    \n",
    "print(f\"\\nFinal cost function: {cost(x).numpy()}\\nOptimized angles: {x.numpy()}\")"
   ]
  },
  {
   "cell_type": "markdown",
   "metadata": {},
   "source": [
    "As you can see, the Loss function is correctly minimized throughout the optimization process, which eventually yields an optimal value for the angles in the QAOA ansatze. \n",
    "\n",
    "---"
   ]
  },
  {
   "cell_type": "markdown",
   "metadata": {},
   "source": [
    "### Recurrent Neural Network: LSTM  \n",
    "\n",
    "So far, we have defined the machinery which let us build the QAOA algorithm for solving the MaxCut problem of a graph.  \n",
    "Now we wish to implement the Recurrent Neural Network architecture explained previously. In particular, as proposed in the original paper, we will build a custom model of an LSTM (Long-Short Term Memory) network, capable of handling the hybrid data passing between classical and quantum procedures. For this task, we will use `Keras` and `Tensorflow`.  "
   ]
  },
  {
   "cell_type": "markdown",
   "metadata": {},
   "source": [
    "First of all, let's define the elemental building block of the model, that is an LSTM cell (see [Tensorflow documentation](https://www.tensorflow.org/api_docs/python/tf/keras/layers/LSTMCell) for further details)."
   ]
  },
  {
   "cell_type": "code",
   "execution_count": 11,
   "metadata": {},
   "outputs": [],
   "source": [
    "# Number of layers in QAOA ansatz. The higher the better in terms of performancec, \n",
    "# but it gets also more computationally hard. For simplicity, we will stick to the single layer case.\n",
    "n_layers = 1\n",
    "\n",
    "# Define a single LSTM cell. The cell has two units per layer\n",
    "# since each layer in QAOA ansatze make use of two angles (parameters). \n",
    "cell = tf.keras.layers.LSTMCell(2*n_layers)"
   ]
  },
  {
   "cell_type": "markdown",
   "metadata": {},
   "source": [
    "Using the `qaoa_from_graph` function, we create a list `graph_cost_list` containing the cost functions of a set of graphs. You can see this as a preprocessing step of the data."
   ]
  },
  {
   "cell_type": "code",
   "execution_count": 13,
   "metadata": {},
   "outputs": [],
   "source": [
    "# We create the QAOA MaxCut cost functions of some graphs\n",
    "graph_cost_list = [qaoa_from_graph(g) for g in graphs[:20]]"
   ]
  },
  {
   "cell_type": "markdown",
   "metadata": {},
   "source": [
    "At this stage, we seek to reproduce the recurrent behaviour depicted in the picture above, outlining the functioning of RNN as a black-box optimizer. We do so defining two functions:   \n",
    "- `rnn_iteration`: accounts for the computations happening on a single time step in the figure, that is it performs the calculation inside the CPU and evaluates the quantum circuit on the QPU to obtain the loss function for the current parameters.\n",
    "- `recurrent_loop`: as the name says, it accounts for the creation of the recurrent loop of the model. In particular, it makes consecutive calls to the `rnn_iteration` function, where the ouputs of a previous call are fed as inputs of the next call. "
   ]
  },
  {
   "cell_type": "code",
   "execution_count": 17,
   "metadata": {},
   "outputs": [],
   "source": [
    "def rnn_iteration(inputs, graph_cost, n_layers = 1):\n",
    "    \"\"\"\n",
    "    This function performs a single time step in the computational graph. It takes as inputs the outputs from\n",
    "    the previous time step and a graph cost function, and then goes through the Keras' LSTM cell whose output \n",
    "    is used to evaluated the QAOA MaxCut cost function. \n",
    "    \n",
    "    Args:\n",
    "    ------\n",
    "    inputs: List of inputs coming from the previous timestep: cost function, parameters, first LSTM hidden state,\n",
    "    second LSTM hidden state. \n",
    "    graph_cost: Cost function of a graph coming from the qaoa_from_graph function.\n",
    "    \n",
    "    Returns:\n",
    "    ------\n",
    "    List containing new value for the cost, parameters, and hidden states. \n",
    "    \"\"\"\n",
    "    # Unpack the inputs list containing previous cost, parameters, and hidden states (denoted as 'h' and 'c').\n",
    "    prev_cost = inputs[0]\n",
    "    prev_params = inputs[1]\n",
    "    prev_h = inputs[2]\n",
    "    prev_c = inputs[3]\n",
    "    \n",
    "    # Concatenate the previous parameters and previous cost to create new input\n",
    "    new_input = tf.keras.layers.concatenate([prev_cost, prev_params])\n",
    "        \n",
    "    # Call to the LSTM cell, which outputs new values for the parameters along with new internal states h and c\n",
    "    new_params, [new_h, new_c] = cell(new_input, states = [prev_h, prev_c])\n",
    "             \n",
    "    # Reshaping the parameters to correctly match those expected by Pennylane\n",
    "    _params = tf.reshape(new_params, shape = (2, n_layers))\n",
    "             \n",
    "    # Evaluation of the cost using new angles \n",
    "    _cost = graph_cost(_params)\n",
    "    \n",
    "    # Reshaping to be consistent with other tensors\n",
    "    new_cost = tf.reshape(tf.cast(_cost, dtype=tf.float32), shape = (1,1))\n",
    "    \n",
    "    return [new_cost, new_params, new_h, new_c] \n",
    "\n",
    "def recurrent_loop(graph_cost, n_layers = 1, intermediate_steps = False):\n",
    "    \"\"\"\n",
    "    This function actually creates the recurrent architecure, connecting multiple consecutive iterations \n",
    "    of the custom LSTM model creted in `rnn_iteration`.\n",
    "    \n",
    "    Args:\n",
    "    ------\n",
    "    graph_cost: Cost function of a graph coming from the qaoa_from_graph function.\n",
    "    intermediate_steps: Boolean flag, set to True if you wish to store values from intermediate iterations.\n",
    "\n",
    "    Returns:\n",
    "    ------\n",
    "    loss: Loss function driving the minimization process. \n",
    "    \"\"\"\n",
    "    # Initialize starting all inputs (cost, parameters, hidden states) as zeros.\n",
    "    initial_cost = tf.zeros(shape = (1, 1))\n",
    "    initial_params = tf.zeros(shape = (1, 2*n_layers))\n",
    "    initial_h = tf.zeros(shape = (1, 2*n_layers))\n",
    "    initial_c = tf.zeros(shape = (1, 2*n_layers))\n",
    "    \n",
    "    # We perform five consecutive calls to 'rnn_iteration', thus creating the recurrent loop.\n",
    "    # More iterations lead to better results, at the cost of a expensive computation.\n",
    "    out0 = rnn_iteration([initial_cost, initial_params, initial_h, initial_c], graph_cost)\n",
    "    out1 = rnn_iteration(out0, graph_cost)\n",
    "    out2 = rnn_iteration(out1, graph_cost)\n",
    "    out3 = rnn_iteration(out2, graph_cost)\n",
    "    out4 = rnn_iteration(out3, graph_cost)\n",
    "    \n",
    "    # This cost function takes into account the cost from all iteration but using different weights. \n",
    "    loss = tf.keras.layers.average([0.1 * out0[0], 0.2 * out1[0], 0.3 * out2[0], 0.4 * out3[0], 0.5 * out4[0]])\n",
    "    \n",
    "    if intermediate_steps:\n",
    "        return [out0[1], out1[1], out2[1], out3[1], loss]\n",
    "    else:\n",
    "        return loss"
   ]
  },
  {
   "cell_type": "markdown",
   "metadata": {},
   "source": [
    "#### The cost function\n",
    "A key part in the `recurrent_loop` function, is given by the definition of the variable `loss`. In order to drive the learning procedure of the weights in the LSTM cell, a cost function is needed. While in the original paper the authors suggest to use a measure called *observed improvement*, here we use a simpler cost function $\\cal{L}(\\phi)$ defined as:  \n",
    "\n",
    "$$\\cal{L}(\\phi) = {\\bf w} \\cdot {\\bf y}_t(\\phi)$$\n",
    "\n",
    "where ${\\bf y}_t(\\phi) = (y_1, \\cdots, y_5)$ is the history hamiltonian cost function from all iterations, and ${\\bf w}$ are just some coefficients. In this case we used ${\\bf w}=(0.1, 0.2, 0.3, 0.4, 0.5)$, thus giving more importance to last steps.  \n",
    "Note that while one could directly use even just the final cost function from the last iteration to drive the learning procedure of the RNN, using also values from intermediate steps allows for a smoother suggestion routine, since even non optimal parameter suggestions from early steps are penalized using $\\cal{L}(\\phi)$.\n",
    "\n",
    "---"
   ]
  },
  {
   "cell_type": "markdown",
   "metadata": {},
   "source": [
    "### Training\n",
    "\n",
    "Now all the cards are on the table and we just need to prepare a training routine and then run it!\n",
    "\n",
    "First of all, let's wrap a single gradient descent step inside a custom function `train_step`."
   ]
  },
  {
   "cell_type": "code",
   "execution_count": 18,
   "metadata": {},
   "outputs": [],
   "source": [
    "def train_step(graph_cost):\n",
    "    \"\"\"\n",
    "    Single optimization step in the training procedure. Given the cost/circuit of a graph, it evaluates the\n",
    "    corresponding loss and eventually computes the gradients and update of the prameters.\n",
    "    \n",
    "    Args:\n",
    "    ------\n",
    "    graph_cost: cost function of a graph coming from the qaoa_from_graph function.\n",
    "    \n",
    "    Returns:\n",
    "    ------\n",
    "    loss: loss for the specified graph, for current value of the parameters.\n",
    "    \"\"\"\n",
    "    with tf.GradientTape() as tape:\n",
    "        # Evaluates cost function\n",
    "        loss = recurrent_loop(graph_cost)\n",
    "    # Evaluates gradients. cell' is the LSTM cell defined previously\n",
    "    grads = tape.gradient(loss, cell.trainable_weights)\n",
    "    # Apply gradients and update the weights of the LSTM cell\n",
    "    opt.apply_gradients(zip(grads, cell.trainable_weights))\n",
    "    return loss"
   ]
  },
  {
   "cell_type": "markdown",
   "metadata": {},
   "source": [
    "We are now ready for starting the training. In particular, we will perform a stochastic gradient descent in the parameter space of the weights of the LSTM cell. For each graph in the training set, we evaluate gradients and update the weights accordingly. Then, we repeat this procedure for multiple times (epochs).\n",
    "\n",
    "> For a QAOA ansatze using one single layer, and for a training set of 20 graphs, each epoch takes approximately ~1m to run on a standard laptop. Be careful when using bigger dataset or training for larger epochs."
   ]
  },
  {
   "cell_type": "code",
   "execution_count": 19,
   "metadata": {
    "scrolled": false
   },
   "outputs": [
    {
     "name": "stdout",
     "output_type": "stream",
     "text": [
      "Epoch 0\n",
      " > Graph 0/20 - Loss: -1.0958744287490845\n",
      " > Graph 5/20 - Loss: -1.9112132787704468\n",
      " > Graph 10/20 - Loss: -0.93351811170578\n",
      " > Graph 15/20 - Loss: -1.5009876489639282\n",
      "------\n",
      " >  Mean Loss during epoch: -1.6746937304735183\n",
      "Epoch 1\n",
      " > Graph 0/20 - Loss: -1.409367561340332\n",
      " > Graph 5/20 - Loss: -1.9812055826187134\n",
      " > Graph 10/20 - Loss: -0.9737359881401062\n",
      " > Graph 15/20 - Loss: -1.4768927097320557\n",
      "------\n",
      " >  Mean Loss during epoch: -1.7434221237897873\n",
      "Epoch 2\n",
      " > Graph 0/20 - Loss: -1.4190870523452759\n",
      " > Graph 5/20 - Loss: -2.012418031692505\n",
      " > Graph 10/20 - Loss: -0.9720567464828491\n",
      " > Graph 15/20 - Loss: -1.5021851062774658\n",
      "------\n",
      " >  Mean Loss during epoch: -1.7623199701309205\n",
      "Epoch 3\n",
      " > Graph 0/20 - Loss: -1.4325796365737915\n",
      " > Graph 5/20 - Loss: -2.020969867706299\n",
      " > Graph 10/20 - Loss: -0.980493426322937\n",
      " > Graph 15/20 - Loss: -1.4880000352859497\n",
      "------\n",
      " >  Mean Loss during epoch: -1.767683321237564\n",
      "Epoch 4\n",
      " > Graph 0/20 - Loss: -1.4357184171676636\n",
      " > Graph 5/20 - Loss: -2.0173630714416504\n",
      " > Graph 10/20 - Loss: -0.9813116192817688\n",
      " > Graph 15/20 - Loss: -1.490473985671997\n",
      "------\n",
      " >  Mean Loss during epoch: -1.7707579523324966\n"
     ]
    }
   ],
   "source": [
    "# Select an optimizer \n",
    "opt = tf.keras.optimizers.Adam(learning_rate=0.1)\n",
    "\n",
    "# Set the number of training epochs\n",
    "epochs = 5\n",
    "\n",
    "for epoch in range(epochs):\n",
    "    print(f\"Epoch {epoch}\")\n",
    "    total_loss = np.array([])\n",
    "    for i, graph_cost in enumerate(graph_cost_list):\n",
    "        loss = train_step(graph_cost)\n",
    "        total_loss = np.append(total_loss, loss.numpy())\n",
    "        # Log every 5 batches.\n",
    "        if i % 5 == 0:\n",
    "            print(f\" > Graph {i}/{len(graph_cost_list)} - Loss: {loss[0][0]}\")\n",
    "    print(f\" >>  Mean Loss during epoch: {np.mean(total_loss)}\")"
   ]
  },
  {
   "cell_type": "markdown",
   "metadata": {},
   "source": [
    "As you can see, the Loss for each graph keeps decreasing accross epochs, indicating that the training routine is working correctly.  \n",
    "\n",
    "---"
   ]
  },
  {
   "cell_type": "markdown",
   "metadata": {},
   "source": [
    "### Results"
   ]
  },
  {
   "cell_type": "markdown",
   "metadata": {},
   "source": [
    "Let's see how to use the optimized RNN as an initializer for the angles in the QAOA algorithm. \n",
    "\n",
    "First, we pick a new graph, not present in the training set:"
   ]
  },
  {
   "cell_type": "code",
   "execution_count": 20,
   "metadata": {},
   "outputs": [
    {
     "data": {
      "image/png": "[encoded data removed]",
      "text/plain": [
       "<Figure size 432x288 with 1 Axes>"
      ]
     },
     "metadata": {},
     "output_type": "display_data"
    }
   ],
   "source": [
    "new_graph = nx.gnp_random_graph(7, p = 3/7)\n",
    "new_cost = qaoa_from_graph(new_graph)\n",
    "\n",
    "nx.draw(new_graph)"
   ]
  },
  {
   "cell_type": "markdown",
   "metadata": {},
   "source": [
    "Then we apply the trained RNN to this new graphs, saving intermediate results coming from all the recurrent iterations in the network"
   ]
  },
  {
   "cell_type": "code",
   "execution_count": 22,
   "metadata": {},
   "outputs": [],
   "source": [
    "# Apply the RNN (be sure that training was performed)\n",
    "res = recurrent_loop(new_cost, intermediate_steps = True)\n",
    "\n",
    "# Extract all angles suggestions\n",
    "guess_0 = tf.zeros(shape = (2*n_layers, 1))\n",
    "guess_1 = res[0]\n",
    "guess_2 = res[1]\n",
    "guess_3 = res[2]\n",
    "guess_4 = res[3]\n",
    "final_loss = res[4]\n",
    "\n",
    "# Wrap them into a list\n",
    "guesses = [guess_0, guess_1, guess_2, guess_3, guess_4]\n",
    "\n",
    "# Losses from the hybrid LSTM model\n",
    "lstm_losses = [new_cost(tf.reshape(guess, shape = (2, n_layers))) for guess in guesses]"
   ]
  },
  {
   "cell_type": "markdown",
   "metadata": {},
   "source": [
    "We can plot these losses in a graph"
   ]
  },
  {
   "cell_type": "code",
   "execution_count": 25,
   "metadata": {
    "scrolled": true
   },
   "outputs": [
    {
     "data": {
      "image/png": "[encoded data removed]",
      "text/plain": [
       "<Figure size 432x288 with 1 Axes>"
      ]
     },
     "metadata": {
      "needs_background": "light"
     },
     "output_type": "display_data"
    }
   ],
   "source": [
    "fig, ax = plt.subplots()\n",
    "\n",
    "plt.plot(lstm_losses, color = \"blue\", lw = 3, ls = \"-.\", label=\"LSTM\")\n",
    "\n",
    "plt.grid(ls = \"--\", lw = 2, alpha = 0.25)\n",
    "plt.ylabel(\"Cost function\", fontsize = 12)\n",
    "plt.xlabel(\"Iteration\", fontsize = 12)\n",
    "plt.legend()\n",
    "ax.set_xticks([0,5,10,15,20]);"
   ]
  },
  {
   "cell_type": "markdown",
   "metadata": {},
   "source": [
    "#### Comparison with standard Stochastic Gradient Descent (SGD)\n",
    "\n",
    "It is instructive to compare such method with a standard optimization technique leveraging stochastic gradient descent to optimize the parameters in the QAOA. "
   ]
  },
  {
   "cell_type": "code",
   "execution_count": 26,
   "metadata": {},
   "outputs": [
    {
     "name": "stdout",
     "output_type": "stream",
     "text": [
      "Step 0 - Loss = [-4.56850703]\n",
      "Step 1 - Loss = [-4.60551143]\n",
      "Step 2 - Loss = [-4.64448065]\n",
      "Step 3 - Loss = [-4.68810431]\n",
      "Step 4 - Loss = [-4.73832621]\n",
      "Step 5 - Loss = [-4.79641042]\n",
      "Step 6 - Loss = [-4.86288697]\n",
      "Step 7 - Loss = [-4.93743624]\n",
      "Step 8 - Loss = [-5.01879549]\n",
      "Step 9 - Loss = [-5.10478058]\n",
      "Step 10 - Loss = [-5.19249333]\n",
      "Step 11 - Loss = [-5.27871816]\n",
      "Step 12 - Loss = [-5.36042254]\n",
      "Step 13 - Loss = [-5.43521241]\n",
      "Step 14 - Loss = [-5.5016049]\n",
      "Final cost function: [-5.84209647]\n",
      "Optimized angles: [[0.6159616]\n",
      " [1.2706409]]\n"
     ]
    }
   ],
   "source": [
    "x0 = tf.Variable(np.random.rand(2,1))\n",
    "\n",
    "opt = tf.keras.optimizers.SGD(learning_rate=0.01)\n",
    "step = 15\n",
    "\n",
    "steps = []\n",
    "sdg_losses = []\n",
    "for _ in range(step):\n",
    "    with tf.GradientTape() as tape:\n",
    "        loss = new_cost(x0)\n",
    "        \n",
    "    steps.append(x0)\n",
    "    sdg_losses.append(loss)\n",
    "    \n",
    "    gradients = tape.gradient(loss, [x0])\n",
    "    opt.apply_gradients(zip(gradients, [x0]))\n",
    "    print(f\"Step {_} - Loss = {loss}\")\n",
    "    \n",
    "print(f\"Final cost function: {new_cost(x).numpy()}\\nOptimized angles: {x.numpy()}\")"
   ]
  },
  {
   "cell_type": "code",
   "execution_count": 29,
   "metadata": {
    "scrolled": true
   },
   "outputs": [
    {
     "data": {
      "image/png": "[encoded data removed]",
      "text/plain": [
       "<Figure size 432x288 with 1 Axes>"
      ]
     },
     "metadata": {
      "needs_background": "light"
     },
     "output_type": "display_data"
    }
   ],
   "source": [
    "fig, ax = plt.subplots()\n",
    "\n",
    "plt.plot(sdg_losses, color = \"orange\", lw = 3, label=\"SGD\")\n",
    "\n",
    "plt.plot(lstm_losses, color = \"blue\", lw = 3, ls = \"-.\", label=\"LSTM\")\n",
    "\n",
    "plt.grid(ls = \"--\", lw = 2, alpha = 0.25)\n",
    "plt.legend()\n",
    "plt.ylabel(\"Cost function\", fontsize = 12)\n",
    "plt.xlabel(\"Iteration\", fontsize = 12)\n",
    "ax.set_xticks([0,5,10,15,20]);"
   ]
  },
  {
   "cell_type": "markdown",
   "metadata": {},
   "source": [
    "Hurray! 🎉🎉   \n",
    "As is it clear from the picture, that the RNN reaches a better minimum in much fewer iteration compared to standard SGD (Stochastic Gradient Descent). Thus, as the authors suggest, the RNN can be used for few iterations at the start of the training procedure to actually initialize the parameters of the quantum circuit arbitrarly close to a optimal solution. Then, a standard optimizator, like the SGD, can be used to fine tune the proposed parameters and reach even better solutions."
   ]
  },
  {
   "cell_type": "markdown",
   "metadata": {},
   "source": [
    "#### Loss landscape in parameter space\n",
    "In addition, we can also plot the path in parameter space suggested by the RNN. Note that this is possible if using only one layer in the QAOA ansatze, since in this case only two angles are needed and they can be plotted on a 2D plane.  "
   ]
  },
  {
   "cell_type": "code",
   "execution_count": 31,
   "metadata": {},
   "outputs": [],
   "source": [
    "# Evaluate the cost function on a grid in parameter space\n",
    "dx = dy = np.linspace(-1., 1., 11)\n",
    "dz = np.array([new_cost([[xx],[yy]]).numpy() for yy in dy for xx in dx])\n",
    "Z = dz.reshape((11,11))"
   ]
  },
  {
   "cell_type": "code",
   "execution_count": 32,
   "metadata": {},
   "outputs": [
    {
     "data": {
      "image/png": "[encoded data removed]",
      "text/plain": [
       "<Figure size 432x288 with 2 Axes>"
      ]
     },
     "metadata": {
      "needs_background": "light"
     },
     "output_type": "display_data"
    }
   ],
   "source": [
    "# Plot cost landscape\n",
    "plt.contourf(dx, dy, Z)\n",
    "plt.colorbar()\n",
    "\n",
    "# Extract optimizer steps\n",
    "params_x = [0.]+[res[i].numpy()[0,0] for i in range(len(res[:-1]))]\n",
    "params_y = [0.]+[res[i].numpy()[0,1] for i in range(len(res[:-1]))]\n",
    "\n",
    "# Plot steps\n",
    "plt.plot(params_x, params_y, linestyle = \"--\", color = \"red\", marker = \"x\")\n",
    "\n",
    "plt.yticks(np.linspace(-1,1,5))\n",
    "plt.xticks(np.linspace(-1,1,5))\n",
    "plt.xlabel(r\"$\\alpha$\", fontsize = 12)\n",
    "plt.ylabel(r\"$\\gamma$\", fontsize = 12)\n",
    "plt.title(\"Loss Landscape\", fontsize = 12)\n",
    "plt.show()"
   ]
  },
  {
   "cell_type": "markdown",
   "metadata": {},
   "source": [
    "--- \n",
    "\n",
    "### Generalization performances"
   ]
  },
  {
   "cell_type": "markdown",
   "metadata": {},
   "source": [
    "A very interesting feature of this model, is that it can be straightforwardly applied to graphs having different number of nodes. In fact, until now our analysis focused to graphs having all the same number of nodes, but this was only for ease of explanation, but there is no restriction in this respect.  \n",
    "\n",
    "Thus, we might want to challange our model to learn a good initialization heuristic for a generic graph, with an generic number of nodes. For this purpose, let's create a training dataset containing graphs having different number of nodes in the interval $n \\in [7,9]$."
   ]
  },
  {
   "cell_type": "code",
   "execution_count": 33,
   "metadata": {},
   "outputs": [],
   "source": [
    "cell2 = tf.keras.layers.LSTMCell(2*n_layers)\n",
    "\n",
    "g7 = generate_graphs(5, 7, 3/7)\n",
    "g8 = generate_graphs(5, 8, 3/7)\n",
    "g9 = generate_graphs(5, 9, 3/7)\n",
    "\n",
    "gs = g7+g8+g9\n",
    "gs_cost_list = [qaoa_from_graph(g) for g in gs]\n",
    "\n",
    "import random\n",
    "gs_cost_list = random.shuffle(gs_cost_list)"
   ]
  },
  {
   "cell_type": "code",
   "execution_count": 27,
   "metadata": {},
   "outputs": [
    {
     "name": "stdout",
     "output_type": "stream",
     "text": [
      "Epoch 0\n",
      " > Graph 0/100 - Loss: [[-1.2435602]]\n",
      " > Graph 5/100 - Loss: [[-1.5571034]]\n",
      " > Graph 10/100 - Loss: [[-1.7631152]]\n",
      " > Graph 15/100 - Loss: [[-2.7989807]]\n",
      " > Graph 20/100 - Loss: [[-2.9342427]]\n",
      " > Graph 25/100 - Loss: [[-3.8080506]]\n",
      " > Mean Loss: -2.254596296946208\n",
      "Epoch 1\n",
      " > Graph 0/100 - Loss: [[-1.2460806]]\n",
      " > Graph 5/100 - Loss: [[-1.5977465]]\n",
      " > Graph 10/100 - Loss: [[-1.7737831]]\n",
      " > Graph 15/100 - Loss: [[-2.8268166]]\n",
      " > Graph 20/100 - Loss: [[-3.0138817]]\n",
      " > Graph 25/100 - Loss: [[-3.9591355]]\n",
      " > Mean Loss: -2.2909550110499066\n",
      "Epoch 2\n",
      " > Graph 0/100 - Loss: [[-1.2468221]]\n",
      " > Graph 5/100 - Loss: [[-1.5990384]]\n",
      " > Graph 10/100 - Loss: [[-1.7777874]]\n",
      " > Graph 15/100 - Loss: [[-2.8236213]]\n",
      " > Graph 20/100 - Loss: [[-2.9467366]]\n",
      " > Graph 25/100 - Loss: [[-3.8228824]]\n",
      " > Mean Loss: -2.2735650221506756\n"
     ]
    }
   ],
   "source": [
    "# Select an optimized \n",
    "opt = tf.keras.optimizers.Adam(learning_rate=0.1)\n",
    "\n",
    "# Set the number of training epochs\n",
    "epochs = 3\n",
    "\n",
    "for epoch in range(epochs):\n",
    "    print(f\"Epoch {epoch}\")\n",
    "    total_loss = np.array([])\n",
    "    for i, graph_cost in enumerate(gs_cost_list):\n",
    "        loss = train_step(graph_cost)\n",
    "        total_loss = np.append(total_loss, loss.numpy())\n",
    "        # Log every 5 batches.\n",
    "        if i % 5 == 0:\n",
    "            print(f\" > Graph {i}/{len(gs_cost_list)} - Loss: {loss}\")\n",
    "    print(f\" >> Mean Loss: {np.mean(total_loss)}\")"
   ]
  },
  {
   "cell_type": "markdown",
   "metadata": {},
   "source": [
    "These are optimized parameters for the LSTM cell:"
   ]
  },
  {
   "cell_type": "code",
   "execution_count": 28,
   "metadata": {},
   "outputs": [
    {
     "name": "stdout",
     "output_type": "stream",
     "text": [
      "Optimizer LSTM weights:\n",
      "\n"
     ]
    },
    {
     "data": {
      "text/plain": [
       "[array([[-1.4990977 , -1.6186686 , -1.6079012 , -1.4279009 , -1.7163923 ,\n",
       "          1.2226918 ,  0.2775383 ,  0.12405934],\n",
       "        [ 0.8265473 ,  0.9897082 ,  0.79212624,  1.4582858 ,  0.36939698,\n",
       "         -0.96255964, -0.69242704,  0.42092663],\n",
       "        [-1.8966941 , -1.338229  , -0.84331644, -1.5420448 , -0.55026186,\n",
       "          1.105887  , -0.6040543 ,  1.642047  ]], dtype=float32),\n",
       " array([[ 1.2750679 ,  1.5973562 ,  0.81222117,  0.9559596 ,  0.688454  ,\n",
       "         -1.8477833 , -1.037921  , -0.4739683 ],\n",
       "        [-1.5113798 , -1.434592  , -0.72621715, -1.043291  , -1.3425262 ,\n",
       "          1.0954412 , -0.70966566,  1.696478  ]], dtype=float32),\n",
       " array([ 0.70145464, -0.15719399,  2.1610892 ,  2.1626966 ,  1.8296447 ,\n",
       "        -1.6452899 ,  2.3302908 ,  1.171778  ], dtype=float32)]"
      ]
     },
     "execution_count": 28,
     "metadata": {},
     "output_type": "execute_result"
    }
   ],
   "source": [
    "optimized_weights = cell.get_weights()\n",
    "print(\"Optimizer LSTM weights:\\n\")\n",
    "optimized_weights\n",
    "\n",
    "# To set initial weights for the cell, use:\n",
    "# cell.set_weights(optimized_weights)"
   ]
  },
  {
   "cell_type": "markdown",
   "metadata": {},
   "source": [
    "# Performances"
   ]
  },
  {
   "cell_type": "markdown",
   "metadata": {},
   "source": [
    "Let's check if this hybrid model eventually learnt a good heuristic to propose new updates for the parameters in the QAOA ansatz of the Maxcut problem.  \n",
    "  \n",
    "\n",
    "For this reason, we consider a new graph. In particular, we can take a graph with 10 nodes, which is something that the recurrent network has never seen before."
   ]
  },
  {
   "cell_type": "code",
   "execution_count": 29,
   "metadata": {},
   "outputs": [
    {
     "data": {
      "image/png": "[encoded data removed]",
      "text/plain": [
       "<Figure size 432x288 with 1 Axes>"
      ]
     },
     "metadata": {},
     "output_type": "display_data"
    }
   ],
   "source": [
    "new_graph = nx.gnp_random_graph(10, p = 3/10)\n",
    "new_cost = qaoa_from_graph(new_graph)\n",
    "\n",
    "nx.draw(new_graph)"
   ]
  },
  {
   "cell_type": "markdown",
   "metadata": {},
   "source": [
    "We call the trained recurrent LSTM on this graph, saving all intermediate guesses for the parameters, not only the last one. "
   ]
  },
  {
   "cell_type": "code",
   "execution_count": 30,
   "metadata": {},
   "outputs": [],
   "source": [
    "res = recurrent_loop(new_cost, intermediate_steps = True)\n",
    "\n",
    "guess_0 = tf.zeros(shape = (2*n_layers, 1))\n",
    "guess_1 = res[0]\n",
    "guess_2 = res[1]\n",
    "guess_3 = res[2]\n",
    "guess_4 = res[3]\n",
    "final_loss = res[4]\n",
    "\n",
    "guesses = [guess_0, guess_1, guess_2, guess_3, guess_4]\n",
    "\n",
    "# Losses from the hybrid LSTM model\n",
    "lstm_losses = [new_cost(tf.reshape(guess, shape = (2, n_layers))) for guess in guesses]"
   ]
  },
  {
   "cell_type": "markdown",
   "metadata": {},
   "source": [
    "### Confrontation with usual gradient descent strategy"
   ]
  },
  {
   "cell_type": "code",
   "execution_count": 31,
   "metadata": {
    "scrolled": true
   },
   "outputs": [
    {
     "name": "stdout",
     "output_type": "stream",
     "text": [
      "Step 0 - Loss = [-7.15702164]\n",
      "Step 1 - Loss = [-7.77113772]\n",
      "Step 2 - Loss = [-8.31715217]\n",
      "Step 3 - Loss = [-8.75791054]\n",
      "Step 4 - Loss = [-9.0865965]\n",
      "Step 5 - Loss = [-9.31944272]\n",
      "Step 6 - Loss = [-9.4824355]\n",
      "Step 7 - Loss = [-9.59952742]\n",
      "Step 8 - Loss = [-9.68744988]\n",
      "Step 9 - Loss = [-9.75609336]\n",
      "Step 10 - Loss = [-9.81088848]\n",
      "Step 11 - Loss = [-9.85491868]\n",
      "Step 12 - Loss = [-9.89018614]\n",
      "Step 13 - Loss = [-9.91821331]\n",
      "Step 14 - Loss = [-9.94027775]\n",
      "Final cost function: [-9.90388333]\n",
      "Optimized angles: [0.6104711]\n"
     ]
    }
   ],
   "source": [
    "x0 = tf.Variable(np.random.rand(2,1))\n",
    "\n",
    "opt = tf.keras.optimizers.SGD(learning_rate=0.01)\n",
    "step = 15\n",
    "\n",
    "steps = []\n",
    "sdg_losses = []\n",
    "for _ in range(step):\n",
    "    with tf.GradientTape() as tape:\n",
    "        loss = new_cost(x0)\n",
    "        \n",
    "    steps.append(x0)\n",
    "    sdg_losses.append(loss)\n",
    "    \n",
    "    gradients = tape.gradient(loss, [x0])\n",
    "    opt.apply_gradients(zip(gradients, [x0]))\n",
    "    print(f\"Step {_} - Loss = {loss}\")\n",
    "    \n",
    "print(f\"Final cost function: {new_cost(x).numpy()}\\nOptimized angles: {x.numpy()}\")"
   ]
  },
  {
   "cell_type": "markdown",
   "metadata": {},
   "source": [
    "## Loss plot"
   ]
  },
  {
   "cell_type": "code",
   "execution_count": 32,
   "metadata": {
    "scrolled": true
   },
   "outputs": [
    {
     "data": {
      "image/png": "[encoded data removed]",
      "text/plain": [
       "<Figure size 432x288 with 1 Axes>"
      ]
     },
     "metadata": {
      "needs_background": "light"
     },
     "output_type": "display_data"
    }
   ],
   "source": [
    "fig, ax = plt.subplots()\n",
    "\n",
    "plt.plot(sdg_losses, color = \"orange\", lw = 3, label=\"SGD\")\n",
    "\n",
    "plt.plot(lstm_losses, color = \"blue\", lw = 3, ls = \"-.\", label=\"LSTM\")\n",
    "\n",
    "plt.grid(ls = \"--\", lw = 2, alpha = 0.25)\n",
    "plt.legend()\n",
    "plt.ylabel(\"Cost function\", fontsize = 12)\n",
    "plt.xlabel(\"Iteration\", fontsize = 12)\n",
    "ax.set_xticks([0,5,10,15,20]);"
   ]
  },
  {
   "cell_type": "markdown",
   "metadata": {},
   "source": [
    "See that the custom optimizer based on the LSTM quickly reaches a good value of the loss function, much faster than  standard stochastic gradient descent."
   ]
  },
  {
   "cell_type": "markdown",
   "metadata": {},
   "source": [
    "## Loss landscape in parameter space"
   ]
  },
  {
   "cell_type": "code",
   "execution_count": 33,
   "metadata": {},
   "outputs": [],
   "source": [
    "# Evaluate the cost function on a grid in parameter space\n",
    "dx = dy = np.linspace(-1., 1., 11)\n",
    "dz = np.array([new_cost([[xx],[yy]]).numpy() for yy in dy for xx in dx])\n",
    "Z = dz.reshape((11,11))"
   ]
  },
  {
   "cell_type": "code",
   "execution_count": 34,
   "metadata": {},
   "outputs": [
    {
     "data": {
      "image/png": "[encoded data removed]",
      "text/plain": [
       "<Figure size 432x288 with 2 Axes>"
      ]
     },
     "metadata": {
      "needs_background": "light"
     },
     "output_type": "display_data"
    }
   ],
   "source": [
    "# Plot cost landscape\n",
    "plt.contourf(dx, dy, Z)\n",
    "plt.colorbar()\n",
    "\n",
    "# Extract optimizer steps\n",
    "params_x = [0.]+[res[i].numpy()[0,0] for i in range(len(res[:-1]))]\n",
    "params_y = [0.]+[res[i].numpy()[0,1] for i in range(len(res[:-1]))]\n",
    "# Plot steps\n",
    "plt.plot(params_x, params_y, linestyle = \"--\", color = \"red\", marker = \"x\")\n",
    "\n",
    "plt.yticks(np.linspace(-1,1,5))\n",
    "plt.xticks(np.linspace(-1,1,5))\n",
    "plt.xlabel(r\"$\\alpha$\", fontsize = 12)\n",
    "plt.ylabel(r\"$\\gamma$\", fontsize = 12)\n",
    "plt.title(\"Loss Landscape\", fontsize = 12)\n",
    "plt.show()"
   ]
  },
  {
   "cell_type": "code",
   "execution_count": null,
   "metadata": {},
   "outputs": [],
   "source": []
  }
 ],
 "metadata": {
  "colab": {
   "name": "l2l_0.ipynb",
   "provenance": []
  },
  "kernelspec": {
   "display_name": "Python 3",
   "language": "python",
   "name": "python3"
  },
  "language_info": {
   "codemirror_mode": {
    "name": "ipython",
    "version": 3
   },
   "file_extension": ".py",
   "mimetype": "text/x-python",
   "name": "python",
   "nbconvert_exporter": "python",
   "pygments_lexer": "ipython3",
   "version": "3.7.6"
  }
 },
 "nbformat": 4,
 "nbformat_minor": 1
}
