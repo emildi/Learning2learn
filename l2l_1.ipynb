{
 "cells": [
  {
   "cell_type": "markdown",
   "metadata": {
    "id": "3ByYL2o9sJe8"
   },
   "source": [
    "# Learning to Learn w\\ Quantum NN via Classical NN\n",
    "\n",
    "[![Open In Colab](https://colab.research.google.com/assets/colab-badge.svg)](https://colab.research.google.com/github/stfnmangini/QOSF-Mentorship/blob/main/l2l_0.ipynb)\n",
    "\n",
    "This it the first jupyter notebook used to familiarize with _Pennylane_ and _RNNs_ and _LSTMs_.\n",
    "\n",
    "At first, the QAOA example for MAXCUT will be implemented."
   ]
  },
  {
   "cell_type": "markdown",
   "metadata": {
    "id": "kiP9yNVrw780"
   },
   "source": [
    "**Run cell below only if using this notebook in Colab**  \n",
    "Installing required dependencies and packages"
   ]
  },
  {
   "cell_type": "code",
   "execution_count": null,
   "metadata": {
    "id": "3Zq4Bnbttkoh"
   },
   "outputs": [],
   "source": [
    "IS_COLAB = False\n",
    "if IS_COLAB:\n",
    "    !pip install --upgrade qiskit\n",
    "    !pip install --upgrade pennylane\n",
    "    !pip install networkx"
   ]
  },
  {
   "cell_type": "markdown",
   "metadata": {},
   "source": [
    "#### Importation of required packages"
   ]
  },
  {
   "cell_type": "code",
   "execution_count": 2,
   "metadata": {},
   "outputs": [],
   "source": [
    "import pennylane as qml\n",
    "from pennylane import numpy as np\n",
    "from pennylane import qaoa\n",
    "\n",
    "import tensorflow as tf\n",
    "\n",
    "import networkx as nx\n",
    "import matplotlib.pyplot as plt\n",
    "\n",
    "#from tqdm.notebook import tqdm"
   ]
  },
  {
   "cell_type": "markdown",
   "metadata": {},
   "source": [
    "Set the seed for reproducibility of results"
   ]
  },
  {
   "cell_type": "code",
   "execution_count": 3,
   "metadata": {},
   "outputs": [],
   "source": [
    "np.random.seed(42)\n",
    "tf.random.set_seed(42)"
   ]
  },
  {
   "cell_type": "markdown",
   "metadata": {
    "id": "6aEd_oBHter4"
   },
   "source": [
    "## Generation of data: graphs"
   ]
  },
  {
   "cell_type": "markdown",
   "metadata": {},
   "source": [
    "Generation of a rangom graph $G_{n,p}$ where:\n",
    "- $n$ is the number of nodes in the graphs\n",
    "- $p$ is the probability of creation of an edge between two nodes"
   ]
  },
  {
   "cell_type": "code",
   "execution_count": 4,
   "metadata": {
    "pycharm": {
     "name": "#%%\n"
    }
   },
   "outputs": [],
   "source": [
    "def generate_graphs(n_graphs, n_nodes, p_edge):\n",
    "    datapoints = []\n",
    "    for _ in range(n_graphs):\n",
    "        random_graph = nx.gnp_random_graph(n_nodes, p = p_edge)\n",
    "        datapoints.append(random_graph)\n",
    "    return datapoints"
   ]
  },
  {
   "cell_type": "code",
   "execution_count": 5,
   "metadata": {
    "pycharm": {
     "name": "#%%\n"
    },
    "scrolled": true
   },
   "outputs": [
    {
     "name": "stdout",
     "output_type": "stream",
     "text": [
      "Sample of a generted graph with 7 nodes and 6 edges (p=0.43)\n"
     ]
    },
    {
     "data": {
      "image/png": "[encoded data removed]",
      "text/plain": [
       "<Figure size 432x288 with 1 Axes>"
      ]
     },
     "metadata": {},
     "output_type": "display_data"
    }
   ],
   "source": [
    "# Define parameters of the graph\n",
    "n_graphs = 10\n",
    "n_nodes = 7\n",
    "p_edge = 3./n_nodes\n",
    "graphs = generate_graphs(n_graphs, n_nodes, p_edge)\n",
    "\n",
    "print(f\"Sample of a generted graph with {len(graphs[0].nodes)} nodes and {len(graphs[0].edges)} edges (p={p_edge:.2f})\")\n",
    "nx.draw(graphs[0])"
   ]
  },
  {
   "cell_type": "markdown",
   "metadata": {},
   "source": [
    "## Creating QAOA circuit"
   ]
  },
  {
   "cell_type": "code",
   "execution_count": 6,
   "metadata": {},
   "outputs": [],
   "source": [
    "# Number of qubits (wires) equal to the number of nodes in the graph\n",
    "wires = range(len(graphs[0].nodes))\n",
    "\n",
    "# Number of repetition in QAOA ansatze\n",
    "num_p = 2\n",
    "\n",
    "#Defines a layer of the QAOA ansatz from the cost and mixer Hamiltonians\n",
    "def qaoa_layer(gamma, alpha):\n",
    "    qaoa.cost_layer(gamma, cost_h)\n",
    "    qaoa.mixer_layer(alpha, mixer_h)\n",
    "     \n",
    "# Creates the actual quantum circuit for the QAOA algorithm\n",
    "def circuit(params, **kwargs): \n",
    "    for w in wires:\n",
    "        qml.Hadamard(wires=w)\n",
    "    qml.layer(qaoa_layer, num_p, params[0], params[1])"
   ]
  },
  {
   "cell_type": "code",
   "execution_count": 7,
   "metadata": {},
   "outputs": [],
   "source": [
    "def qaoa_from_graph(graph):\n",
    "    \"\"\"\n",
    "    Creates a QAOA circuit instance of the MaxCut problem given a graph. Has nested function definitions needed for\n",
    "    the creation of the circuit. When called, it instantiate a the structure of the circuit given the input graph,\n",
    "    and outputs a function which needs only the parameters to be evaluated. \n",
    "    \n",
    "    Args\n",
    "    ------\n",
    "    graph: Graph coming generated with networkx.\n",
    "    \n",
    "    Return\n",
    "    ------\n",
    "    hamiltonian: A function which, given params as input, evaluates the cost function of the \n",
    "                 QAOA qautntum circuit.\n",
    "    \n",
    "    \"\"\"\n",
    "        \n",
    "    # Number of qubits (wires) equal to the number of nodes in the graph\n",
    "    wires = range(len(graph.nodes))\n",
    "    \n",
    "    # Define the structure of the cost and mixer subcircuits\n",
    "    cost_h, mixer_h = qaoa.maxcut(graph)   \n",
    "    \n",
    "    # Defines a layer of the QAOA ansatz from the cost and mixer Hamiltonians\n",
    "    def qaoa_layer(gamma, alpha):\n",
    "        qaoa.cost_layer(gamma, cost_h)\n",
    "        qaoa.mixer_layer(alpha, mixer_h)\n",
    "       \n",
    "    # Creates the actual quantum circuit for the QAOA algorithm\n",
    "    def circuit(params, **kwargs): \n",
    "        for w in wires:\n",
    "            qml.Hadamard(wires=w)\n",
    "        qml.layer(qaoa_layer, 2, params[0], params[1])\n",
    "     \n",
    "    # Evaluates the cost function\n",
    "    def hamiltonian(params, **kwargs):\n",
    "        dev = qml.device('default.qubit.tf', wires=len(graph.nodes))\n",
    "        cost = qml.ExpvalCost(circuit, cost_h, dev, interface=\"tf\",  diff_method = \"backprop\")\n",
    "        return cost(params)\n",
    "    \n",
    "    return hamiltonian"
   ]
  },
  {
   "cell_type": "markdown",
   "metadata": {},
   "source": [
    "#### Check the functioning"
   ]
  },
  {
   "cell_type": "code",
   "execution_count": 77,
   "metadata": {
    "scrolled": true
   },
   "outputs": [
    {
     "data": {
      "text/plain": [
       "<tf.Tensor: shape=(1,), dtype=float64, numpy=array([-4.58682894])>"
      ]
     },
     "execution_count": 77,
     "metadata": {},
     "output_type": "execute_result"
    }
   ],
   "source": [
    "# Define some paramenters, in the form [gamma, alpha]\n",
    "#x = tf.Variable([[1.,1.],[2.,2.]])\n",
    "x = tf.Variable([[ 0.73965585,  0.19356517],[ -0.32492718, -0.11556163]])\n",
    "#x = np.array([[1.,1.],[2.,2.]])\n",
    "\n",
    "# Create an instance of a QAOA circuit given a graph\n",
    "circ = qaoa_from_graph(graph = graphs[0])\n",
    "\n",
    "# Evaluate the cost function given some angles for the QAOA instance just created\n",
    "circ(x)"
   ]
  },
  {
   "cell_type": "markdown",
   "metadata": {},
   "source": [
    "#### Check evaluation of gradients"
   ]
  },
  {
   "cell_type": "code",
   "execution_count": 85,
   "metadata": {},
   "outputs": [
    {
     "name": "stdout",
     "output_type": "stream",
     "text": [
      "Step 0 - Loss = [-1.58033409]\n",
      "Step 1 - Loss = [-2.28031059]\n",
      "Step 2 - Loss = [-2.77674937]\n",
      "Step 3 - Loss = [-2.99019258]\n",
      "Step 4 - Loss = [-3.06969186]\n",
      "Step 5 - Loss = [-3.13903264]\n",
      "Step 6 - Loss = [-3.24393693]\n",
      "Step 7 - Loss = [-3.40466788]\n",
      "Step 8 - Loss = [-3.62411552]\n",
      "Step 9 - Loss = [-3.86945053]\n",
      "Step 10 - Loss = [-4.08737068]\n",
      "Step 11 - Loss = [-4.25849342]\n",
      "Step 12 - Loss = [-4.39410617]\n",
      "Step 13 - Loss = [-4.47343245]\n",
      "Step 14 - Loss = [-4.46684023]\n",
      "Step 15 - Loss = [-4.42179723]\n",
      "Step 16 - Loss = [-4.41561287]\n",
      "Step 17 - Loss = [-4.45898908]\n",
      "Step 18 - Loss = [-4.52085787]\n",
      "Step 19 - Loss = [-4.57613137]\n",
      "Step 20 - Loss = [-4.61329283]\n",
      "Step 21 - Loss = [-4.62726392]\n",
      "Step 22 - Loss = [-4.62011836]\n",
      "Step 23 - Loss = [-4.60503914]\n",
      "Step 24 - Loss = [-4.60207973]\n",
      "Step 25 - Loss = [-4.6211883]\n",
      "Step 26 - Loss = [-4.65368223]\n",
      "Step 27 - Loss = [-4.68148368]\n",
      "Step 28 - Loss = [-4.69135977]\n",
      "Step 29 - Loss = [-4.68295294]\n",
      "Final cost function: [-4.6665505]\n",
      "Optimized angles: [[ 0.33100604 -0.66596012]\n",
      " [ 1.09236907  3.39390074]]\n"
     ]
    }
   ],
   "source": [
    "x = tf.Variable(np.array([[1.,1.],[2.,2.]]))\n",
    "\n",
    "opt = tf.keras.optimizers.Adam(learning_rate=0.1)\n",
    "step = 30\n",
    "\n",
    "for _ in range(step):\n",
    "    with tf.GradientTape() as tape:\n",
    "        loss = circ(x)\n",
    "        \n",
    "    gradients = tape.gradient(loss, [x])\n",
    "    opt.apply_gradients(zip(gradients, [x]))\n",
    "    print(f\"Step {_} - Loss = {loss}\")\n",
    "    \n",
    "print(f\"Final cost function: {circ(x).numpy()}\\nOptimized angles: {x.numpy()}\")"
   ]
  },
  {
   "cell_type": "markdown",
   "metadata": {},
   "source": [
    "## Recurrent Neural Network"
   ]
  },
  {
   "cell_type": "markdown",
   "metadata": {},
   "source": [
    "Defining the custom LSTM architecture in Keras. It consists of a single step of an LSTM recurrent neural network.\n",
    "An LSTMCell does just that."
   ]
  },
  {
   "cell_type": "code",
   "execution_count": 49,
   "metadata": {},
   "outputs": [],
   "source": [
    "class QRNN(tf.keras.layers.Layer):\n",
    "    def __init__(self, p = 2, graph = None):\n",
    "        super(QRNN, self).__init__()\n",
    "        # p is the number of layers in the QAOA ansatz\n",
    "        self.cell = tf.keras.layers.LSTMCell(2*p)\n",
    "        self.expectation = qaoa_from_graph(graph)\n",
    "\n",
    "    def call(self, inputs):\n",
    "        prev_cost = inputs[0]\n",
    "        prev_params = inputs[1]\n",
    "        prev_h = inputs[2]\n",
    "        prev_c = inputs[3]\n",
    "        \n",
    "        # Concatenate the previous parameters and previous cost to create new input\n",
    "        new_input = tf.keras.layers.concatenate([prev_cost, prev_params])\n",
    "        \n",
    "        # New parameters obtained by the LSTM cell, along with new internsal states: h and c\n",
    "        new_params, [new_h, new_c] = self.cell(new_input, states = [prev_h, prev_c])\n",
    "                \n",
    "        # This part is used to feed the parameters to the Pennylane function\n",
    "        _params = tf.reshape(new_params, shape = (2,2))\n",
    "                \n",
    "        # Cost evaluation, and reshaping to be consistent with other Keras tensors\n",
    "        new_cost = tf.reshape(tf.cast(self.expectation(_params), \n",
    "                                      dtype=tf.float32),\n",
    "                              shape = (1,1))\n",
    "    \n",
    "        return [new_cost, new_params, new_h, new_c]"
   ]
  },
  {
   "cell_type": "code",
   "execution_count": 107,
   "metadata": {},
   "outputs": [
    {
     "name": "stdout",
     "output_type": "stream",
     "text": [
      "Model: \"custom_model_4\"\n",
      "_________________________________________________________________\n",
      "Layer (type)                 Output Shape              Param #   \n",
      "=================================================================\n",
      "qrnn_19 (QRNN)               [(1, 1), (None, 4), (None 160       \n",
      "=================================================================\n",
      "Total params: 160\n",
      "Trainable params: 160\n",
      "Non-trainable params: 0\n",
      "_________________________________________________________________\n"
     ]
    }
   ],
   "source": []
  },
  {
   "cell_type": "code",
   "execution_count": 13,
   "metadata": {},
   "outputs": [],
   "source": [
    "# Create some input layers to feed the datas\n",
    "inp_cost = tf.keras.layers.Input(shape = (1,))\n",
    "inp_params = tf.keras.layers.Input(shape = (4,))\n",
    "inp_h = tf.keras.layers.Input(shape = (4,))\n",
    "inp_c = tf.keras.layers.Input(shape = (4,))\n",
    "\n",
    "model([inp_cost, inp_params, inp_h, inp_c])"
   ]
  },
  {
   "cell_type": "code",
   "execution_count": 96,
   "metadata": {},
   "outputs": [],
   "source": [
    "n_qubits = 7\n",
    "\n",
    "# Instanciate the lstm cells\n",
    "rnn0 = QRNN(graph = graphs[0])\n",
    "\n",
    "# Create some input layers to feed the datas\n",
    "inp_cost = tf.keras.layers.Input(shape = (1,))\n",
    "inp_params = tf.keras.layers.Input(shape = (4,))\n",
    "inp_h = tf.keras.layers.Input(shape = (4,))\n",
    "inp_c = tf.keras.layers.Input(shape = (4,))\n",
    "\n",
    "# Manually creating the recurrent loops\n",
    "out0 = rnn0([inp_cost, inp_params, inp_h, inp_c])\n",
    "out1 = rnn0(out0)\n",
    "out2 = rnn0(out1)\n",
    "\n",
    "loss = tf.keras.layers.average([0.1 * out0[0], 0.2 * out1[0], 0.3 * out2[0]])\n",
    "\n",
    "model = tf.keras.Model(inputs=[inp_cost, inp_params, inp_h, inp_c],\n",
    "                       outputs=[out0[1], out1[1], out2[1], loss])"
   ]
  },
  {
   "cell_type": "code",
   "execution_count": 99,
   "metadata": {
    "scrolled": true
   },
   "outputs": [
    {
     "name": "stdout",
     "output_type": "stream",
     "text": [
      "Step 0 - Loss = [[-0.6520157]] - Cost = [-3.39023598]\n",
      "Step 1 - Loss = [[-0.6592565]] - Cost = [-3.44210577]\n",
      "Step 2 - Loss = [[-0.6667352]] - Cost = [-3.49517649]\n",
      "Step 3 - Loss = [[-0.67443424]] - Cost = [-3.54931492]\n",
      "Step 4 - Loss = [[-0.6823459]] - Cost = [-3.60448152]\n",
      "Final Loss: tf.Tensor([[-0.6823459]], shape=(1, 1), dtype=float32)\n",
      "Final Outs: [<tf.Tensor: shape=(1, 4), dtype=float32, numpy=\n",
      "array([[ 0.00932984,  0.01039701,  0.01025091, -0.01042722]],\n",
      "      dtype=float32)>, <tf.Tensor: shape=(1, 4), dtype=float32, numpy=\n",
      "array([[-0.06344067,  0.31056294,  0.05578193, -0.10402972]],\n",
      "      dtype=float32)>, <tf.Tensor: shape=(1, 4), dtype=float32, numpy=\n",
      "array([[-0.05273523,  0.42208984,  0.10471864, -0.1421794 ]],\n",
      "      dtype=float32)>, <tf.Tensor: shape=(1, 1), dtype=float32, numpy=array([[-0.6823459]], dtype=float32)>]\n"
     ]
    }
   ],
   "source": [
    "inp_costA = tf.zeros(shape = (1, 1))\n",
    "inp_paramsA = tf.zeros(shape = (1, 4))\n",
    "inp_hA = tf.zeros(shape = (1, 4))\n",
    "inp_cA = tf.zeros(shape = (1, 4))\n",
    "\n",
    "inputs = [inp_costA, inp_paramsA, inp_hA, inp_cA]\n",
    "\n",
    "opt = tf.keras.optimizers.Adam(learning_rate=0.01)\n",
    "step = 5\n",
    "\n",
    "for _ in range(step):\n",
    "    with tf.GradientTape() as tape:\n",
    "        pred = model(inputs)\n",
    "        loss = pred[3]\n",
    "            \n",
    "    gradients = tape.gradient(loss, model.trainable_variables)\n",
    "    opt.apply_gradients(zip(gradients, model.trainable_variables))\n",
    "    print(f\"Step {_} - Loss = {loss} - Cost = {circ(np.reshape(pred[2].numpy(),(2,2)))}\")\n",
    "    \n",
    "print(\"Final Loss:\", loss)\n",
    "print(\"Final Outs:\", pred)"
   ]
  },
  {
   "cell_type": "markdown",
   "metadata": {},
   "source": [
    "## Wrap the time-loop inside a custom model"
   ]
  },
  {
   "cell_type": "markdown",
   "metadata": {},
   "source": [
    "#### Define a custom model, given a graph"
   ]
  },
  {
   "cell_type": "code",
   "execution_count": 180,
   "metadata": {},
   "outputs": [],
   "source": [
    "class CustomModel(tf.keras.Model):\n",
    "    def __init__(self, graph = None):\n",
    "        super(CustomModel, self).__init__()\n",
    "        self.custom_LSTMcell = QRNN(graph = graph)\n",
    "\n",
    "    def call(self, inputs):\n",
    "        out0 = self.custom_LSTMcell(inputs)\n",
    "        out1 = self.custom_LSTMcell(out0)\n",
    "        out2 = self.custom_LSTMcell(out1)\n",
    "        loss = tf.keras.layers.average([0.1 * out0[0], 0.2 * out1[0], 0.3 * out2[0]])\n",
    "    \n",
    "        return [out0[1], out1[1], out2[1], loss]"
   ]
  },
  {
   "cell_type": "markdown",
   "metadata": {},
   "source": [
    "#### Build all models"
   ]
  },
  {
   "cell_type": "code",
   "execution_count": 171,
   "metadata": {},
   "outputs": [],
   "source": [
    "# Create some input layers to feed the datas\n",
    "inp_cost = tf.keras.layers.Input(shape = (1,))\n",
    "inp_params = tf.keras.layers.Input(shape = (4,))\n",
    "inp_h = tf.keras.layers.Input(shape = (4,))\n",
    "inp_c = tf.keras.layers.Input(shape = (4,))\n",
    "\n",
    "num_models = 3\n",
    "models = [CustomModel(graph = g) for g in graphs[:num_models]]\n",
    "\n",
    "# Build all models\n",
    "for model in models:\n",
    "    model([inp_cost, inp_params, inp_h, inp_c])"
   ]
  },
  {
   "cell_type": "markdown",
   "metadata": {},
   "source": [
    "#### Learning procedure"
   ]
  },
  {
   "cell_type": "code",
   "execution_count": 188,
   "metadata": {},
   "outputs": [
    {
     "name": "stdout",
     "output_type": "stream",
     "text": [
      "Epoch: 0\n",
      "> Model 0 - Loss = [[-0.6972899]] - Cost = [-3.70207851]\n",
      "> Model 1 - Loss = [[-1.063217]] - Cost = [-5.44371483]\n",
      "> Model 2 - Loss = [[-0.9829355]] - Cost = [-5.07984167]\n",
      "Epoch: 1\n",
      "> Model 0 - Loss = [[-0.721565]] - Cost = [-3.86318793]\n",
      "> Model 1 - Loss = [[-1.0849468]] - Cost = [-5.58673628]\n",
      "> Model 2 - Loss = [[-1.0067874]] - Cost = [-5.23442585]\n",
      "Final Loss: tf.Tensor([[-1.0067874]], shape=(1, 1), dtype=float32)\n",
      "Final Outs: [<tf.Tensor: shape=(1, 4), dtype=float32, numpy=\n",
      "array([[-0.02763179, -0.02763112,  0.02762215,  0.02762665]],\n",
      "      dtype=float32)>, <tf.Tensor: shape=(1, 4), dtype=float32, numpy=\n",
      "array([[-0.0755222 , -0.14479722,  0.13831787,  0.09385875]],\n",
      "      dtype=float32)>, <tf.Tensor: shape=(1, 4), dtype=float32, numpy=\n",
      "array([[-0.10499392, -0.20244575,  0.18289888,  0.10942326]],\n",
      "      dtype=float32)>, <tf.Tensor: shape=(1, 1), dtype=float32, numpy=array([[-1.0067874]], dtype=float32)>]\n"
     ]
    }
   ],
   "source": [
    "inp_costA = tf.zeros(shape = (1, 1))\n",
    "inp_paramsA = tf.zeros(shape = (1, 4))\n",
    "inp_hA = tf.zeros(shape = (1, 4))\n",
    "inp_cA = tf.zeros(shape = (1, 4))\n",
    "\n",
    "inputs = [inp_costA, inp_paramsA, inp_hA, inp_cA]\n",
    "\n",
    "opt = tf.keras.optimizers.Adam(learning_rate=0.01)\n",
    "step = 2\n",
    "\n",
    "num_models = 3\n",
    "W = models[0].get_weights()\n",
    "\n",
    "for epoch in range(2):\n",
    "    print(f\"Epoch: {epoch}\")\n",
    "    for i in range(num_models):\n",
    "        models[i].set_weights(W)\n",
    "        with tf.GradientTape() as tape:\n",
    "            pred = models[i](inputs)\n",
    "            loss = pred[3]\n",
    "                \n",
    "        gradients = tape.gradient(loss, models[i].trainable_variables)\n",
    "        opt.apply_gradients(zip(gradients, models[i].trainable_variables))\n",
    "        print(f\"> Model {i} - Loss = {loss} - Cost = {qaoa_from_graph(graph = graphs[i])(np.reshape(pred[2].numpy(),(2,2)))}\")\n",
    "        W = models[i].get_weights()\n",
    "    \n",
    "print(\"Final Loss:\", loss)\n",
    "print(\"Final Outs:\", pred)"
   ]
  },
  {
   "cell_type": "code",
   "execution_count": null,
   "metadata": {},
   "outputs": [],
   "source": [
    "inp_costA = tf.zeros(shape = (1, 1))\n",
    "inp_paramsA = tf.zeros(shape = (1, 4))\n",
    "inp_hA = tf.zeros(shape = (1, 4))\n",
    "inp_cA = tf.zeros(shape = (1, 4))\n",
    "\n",
    "inputs = [inp_costA, inp_paramsA, inp_hA, inp_cA]\n",
    "\n",
    "opt = tf.keras.optimizers.Adam(learning_rate=0.01)\n",
    "step = 2\n",
    "\n",
    "num_models = 3\n",
    "W = models[0].get_weights()\n",
    "\n",
    "for epoch in range(2):\n",
    "    print(f\"Epoch: {epoch}\")\n",
    "    for i in range(num_models):\n",
    "        models[i].set_weights(W)\n",
    "        with tf.GradientTape() as tape:\n",
    "            pred = models[i](inputs)\n",
    "            loss = pred[3]\n",
    "                \n",
    "        gradients = tape.gradient(loss, models[i].trainable_variables)\n",
    "        opt.apply_gradients(zip(gradients, models[i].trainable_variables))\n",
    "        print(f\"> Model {i} - Loss = {loss} - Cost = {qaoa_from_graph(graph = graphs[i])(np.reshape(pred[2].numpy(),(2,2)))}\")\n",
    "        W = models[i].get_weights()\n",
    "    \n",
    "print(\"Final Loss:\", loss)\n",
    "print(\"Final Outs:\", pred)"
   ]
  },
  {
   "cell_type": "code",
   "execution_count": null,
   "metadata": {},
   "outputs": [],
   "source": []
  },
  {
   "cell_type": "code",
   "execution_count": null,
   "metadata": {},
   "outputs": [],
   "source": []
  },
  {
   "cell_type": "code",
   "execution_count": null,
   "metadata": {},
   "outputs": [],
   "source": []
  },
  {
   "cell_type": "code",
   "execution_count": null,
   "metadata": {},
   "outputs": [],
   "source": []
  },
  {
   "cell_type": "code",
   "execution_count": 168,
   "metadata": {},
   "outputs": [
    {
     "data": {
      "text/plain": [
       "<tf.Variable 'Variable:0' shape=(3,) dtype=int32, numpy=array([2, 2, 2], dtype=int32)>"
      ]
     },
     "execution_count": 168,
     "metadata": {},
     "output_type": "execute_result"
    }
   ],
   "source": [
    "def shareWeightsModel(model, targetModel):\n",
    "    modelWeights       = model.trainable_weights\n",
    "    targetModelWeights = targetModel.trainable_weights\n",
    "\n",
    "    for i in range(len(targetModelWeights)):\n",
    "        targetModelWeights[i].assign(modelWeights[i])\n",
    "        \n",
    "for model in models:\n",
    "    updateTargetModel(models[-1], model)"
   ]
  },
  {
   "cell_type": "code",
   "execution_count": 25,
   "metadata": {},
   "outputs": [],
   "source": [
    "@tf.function\n",
    "def value_loss(unused, outputs):\n",
    "    return tf.reduce_mean(outputs)\n",
    "\n",
    "# It's important to have a good guess on the last shot of the optimization\n",
    "loss = tf.keras.layers.average([0.1 * out0[0], 0.2 * out1[0], 0.3 * out2[0]])\n",
    "\n",
    "# Penalize jumping around randomly in the landscape.\n",
    "# Add penalizer\n",
    "\n",
    "full_loss = loss #+ penalizer"
   ]
  },
  {
   "cell_type": "code",
   "execution_count": 26,
   "metadata": {},
   "outputs": [],
   "source": [
    "# Can change these to random along with longer tine horizon and greater training\n",
    "# data for more robust test set performance\n",
    "\n",
    "# Our model will output it's parameter guesses along with the loss value that is\n",
    "# computed over them. This way we can use the model to guess parameters later on\n",
    "model = tf.keras.Model(inputs=[inp_cost, inp_params, inp_h, inp_c],\n",
    "                       outputs=[out0[1], out1[1], out2[1], full_loss])"
   ]
  },
  {
   "cell_type": "code",
   "execution_count": 27,
   "metadata": {},
   "outputs": [],
   "source": [
    "model.compile(optimizer=tf.keras.optimizers.Adam(learning_rate=0.0001),\n",
    "              loss=value_loss, loss_weights=[0, 0, 0, 1])"
   ]
  },
  {
   "cell_type": "code",
   "execution_count": 29,
   "metadata": {},
   "outputs": [
    {
     "name": "stdout",
     "output_type": "stream",
     "text": [
      "Epoch 1/3\n"
     ]
    },
    {
     "ename": "ValueError",
     "evalue": "in user code:\n\n    /opt/anaconda3/envs/QML/lib/python3.7/site-packages/tensorflow/python/keras/engine/training.py:806 train_function  *\n        return step_function(self, iterator)\n    <ipython-input-10-ebacd62dde43>:24 call  *\n        _params = tf.reshape(new_params, shape = (2,2))\n    /opt/anaconda3/envs/QML/lib/python3.7/site-packages/tensorflow/python/util/dispatch.py:201 wrapper  **\n        return target(*args, **kwargs)\n    /opt/anaconda3/envs/QML/lib/python3.7/site-packages/tensorflow/python/ops/array_ops.py:195 reshape\n        result = gen_array_ops.reshape(tensor, shape, name)\n    /opt/anaconda3/envs/QML/lib/python3.7/site-packages/tensorflow/python/ops/gen_array_ops.py:8234 reshape\n        \"Reshape\", tensor=tensor, shape=shape, name=name)\n    /opt/anaconda3/envs/QML/lib/python3.7/site-packages/tensorflow/python/framework/op_def_library.py:744 _apply_op_helper\n        attrs=attr_protos, op_def=op_def)\n    /opt/anaconda3/envs/QML/lib/python3.7/site-packages/tensorflow/python/framework/func_graph.py:593 _create_op_internal\n        compute_device)\n    /opt/anaconda3/envs/QML/lib/python3.7/site-packages/tensorflow/python/framework/ops.py:3485 _create_op_internal\n        op_def=op_def)\n    /opt/anaconda3/envs/QML/lib/python3.7/site-packages/tensorflow/python/framework/ops.py:1975 __init__\n        control_input_ops, op_def)\n    /opt/anaconda3/envs/QML/lib/python3.7/site-packages/tensorflow/python/framework/ops.py:1815 _create_c_op\n        raise ValueError(str(e))\n\n    ValueError: Cannot reshape a tensor with 20 elements to shape [2,2] (4 elements) for '{{node functional_1/qrnn_4/Reshape}} = Reshape[T=DT_FLOAT, Tshape=DT_INT32](functional_1/qrnn_4/lstm_cell_4/mul_2, functional_1/qrnn_4/Reshape/shape)' with input shapes: [5,4], [2] and with input tensors computed as partial shapes: input[1] = [2,2].\n",
     "output_type": "error",
     "traceback": [
      "\u001b[0;31m---------------------------------------------------------------------------\u001b[0m",
      "\u001b[0;31mValueError\u001b[0m                                Traceback (most recent call last)",
      "\u001b[0;32m<ipython-input-29-5c738d203ab6>\u001b[0m in \u001b[0;36m<module>\u001b[0;34m\u001b[0m\n\u001b[1;32m     15\u001b[0m           \u001b[0mepochs\u001b[0m\u001b[0;34m=\u001b[0m\u001b[0;36m3\u001b[0m\u001b[0;34m,\u001b[0m\u001b[0;34m\u001b[0m\u001b[0;34m\u001b[0m\u001b[0m\n\u001b[1;32m     16\u001b[0m           \u001b[0mbatch_size\u001b[0m\u001b[0;34m=\u001b[0m\u001b[0;36m5\u001b[0m\u001b[0;34m,\u001b[0m\u001b[0;34m\u001b[0m\u001b[0;34m\u001b[0m\u001b[0m\n\u001b[0;32m---> 17\u001b[0;31m           verbose=1)\n\u001b[0m",
      "\u001b[0;32m/opt/anaconda3/envs/QML/lib/python3.7/site-packages/tensorflow/python/keras/engine/training.py\u001b[0m in \u001b[0;36m_method_wrapper\u001b[0;34m(self, *args, **kwargs)\u001b[0m\n\u001b[1;32m    106\u001b[0m   \u001b[0;32mdef\u001b[0m \u001b[0m_method_wrapper\u001b[0m\u001b[0;34m(\u001b[0m\u001b[0mself\u001b[0m\u001b[0;34m,\u001b[0m \u001b[0;34m*\u001b[0m\u001b[0margs\u001b[0m\u001b[0;34m,\u001b[0m \u001b[0;34m**\u001b[0m\u001b[0mkwargs\u001b[0m\u001b[0;34m)\u001b[0m\u001b[0;34m:\u001b[0m\u001b[0;34m\u001b[0m\u001b[0;34m\u001b[0m\u001b[0m\n\u001b[1;32m    107\u001b[0m     \u001b[0;32mif\u001b[0m \u001b[0;32mnot\u001b[0m \u001b[0mself\u001b[0m\u001b[0;34m.\u001b[0m\u001b[0m_in_multi_worker_mode\u001b[0m\u001b[0;34m(\u001b[0m\u001b[0;34m)\u001b[0m\u001b[0;34m:\u001b[0m  \u001b[0;31m# pylint: disable=protected-access\u001b[0m\u001b[0;34m\u001b[0m\u001b[0;34m\u001b[0m\u001b[0m\n\u001b[0;32m--> 108\u001b[0;31m       \u001b[0;32mreturn\u001b[0m \u001b[0mmethod\u001b[0m\u001b[0;34m(\u001b[0m\u001b[0mself\u001b[0m\u001b[0;34m,\u001b[0m \u001b[0;34m*\u001b[0m\u001b[0margs\u001b[0m\u001b[0;34m,\u001b[0m \u001b[0;34m**\u001b[0m\u001b[0mkwargs\u001b[0m\u001b[0;34m)\u001b[0m\u001b[0;34m\u001b[0m\u001b[0;34m\u001b[0m\u001b[0m\n\u001b[0m\u001b[1;32m    109\u001b[0m \u001b[0;34m\u001b[0m\u001b[0m\n\u001b[1;32m    110\u001b[0m     \u001b[0;31m# Running inside `run_distribute_coordinator` already.\u001b[0m\u001b[0;34m\u001b[0m\u001b[0;34m\u001b[0m\u001b[0;34m\u001b[0m\u001b[0m\n",
      "\u001b[0;32m/opt/anaconda3/envs/QML/lib/python3.7/site-packages/tensorflow/python/keras/engine/training.py\u001b[0m in \u001b[0;36mfit\u001b[0;34m(self, x, y, batch_size, epochs, verbose, callbacks, validation_split, validation_data, shuffle, class_weight, sample_weight, initial_epoch, steps_per_epoch, validation_steps, validation_batch_size, validation_freq, max_queue_size, workers, use_multiprocessing)\u001b[0m\n\u001b[1;32m   1096\u001b[0m                 batch_size=batch_size):\n\u001b[1;32m   1097\u001b[0m               \u001b[0mcallbacks\u001b[0m\u001b[0;34m.\u001b[0m\u001b[0mon_train_batch_begin\u001b[0m\u001b[0;34m(\u001b[0m\u001b[0mstep\u001b[0m\u001b[0;34m)\u001b[0m\u001b[0;34m\u001b[0m\u001b[0;34m\u001b[0m\u001b[0m\n\u001b[0;32m-> 1098\u001b[0;31m               \u001b[0mtmp_logs\u001b[0m \u001b[0;34m=\u001b[0m \u001b[0mtrain_function\u001b[0m\u001b[0;34m(\u001b[0m\u001b[0miterator\u001b[0m\u001b[0;34m)\u001b[0m\u001b[0;34m\u001b[0m\u001b[0;34m\u001b[0m\u001b[0m\n\u001b[0m\u001b[1;32m   1099\u001b[0m               \u001b[0;32mif\u001b[0m \u001b[0mdata_handler\u001b[0m\u001b[0;34m.\u001b[0m\u001b[0mshould_sync\u001b[0m\u001b[0;34m:\u001b[0m\u001b[0;34m\u001b[0m\u001b[0;34m\u001b[0m\u001b[0m\n\u001b[1;32m   1100\u001b[0m                 \u001b[0mcontext\u001b[0m\u001b[0;34m.\u001b[0m\u001b[0masync_wait\u001b[0m\u001b[0;34m(\u001b[0m\u001b[0;34m)\u001b[0m\u001b[0;34m\u001b[0m\u001b[0;34m\u001b[0m\u001b[0m\n",
      "\u001b[0;32m/opt/anaconda3/envs/QML/lib/python3.7/site-packages/tensorflow/python/eager/def_function.py\u001b[0m in \u001b[0;36m__call__\u001b[0;34m(self, *args, **kwds)\u001b[0m\n\u001b[1;32m    778\u001b[0m       \u001b[0;32melse\u001b[0m\u001b[0;34m:\u001b[0m\u001b[0;34m\u001b[0m\u001b[0;34m\u001b[0m\u001b[0m\n\u001b[1;32m    779\u001b[0m         \u001b[0mcompiler\u001b[0m \u001b[0;34m=\u001b[0m \u001b[0;34m\"nonXla\"\u001b[0m\u001b[0;34m\u001b[0m\u001b[0;34m\u001b[0m\u001b[0m\n\u001b[0;32m--> 780\u001b[0;31m         \u001b[0mresult\u001b[0m \u001b[0;34m=\u001b[0m \u001b[0mself\u001b[0m\u001b[0;34m.\u001b[0m\u001b[0m_call\u001b[0m\u001b[0;34m(\u001b[0m\u001b[0;34m*\u001b[0m\u001b[0margs\u001b[0m\u001b[0;34m,\u001b[0m \u001b[0;34m**\u001b[0m\u001b[0mkwds\u001b[0m\u001b[0;34m)\u001b[0m\u001b[0;34m\u001b[0m\u001b[0;34m\u001b[0m\u001b[0m\n\u001b[0m\u001b[1;32m    781\u001b[0m \u001b[0;34m\u001b[0m\u001b[0m\n\u001b[1;32m    782\u001b[0m       \u001b[0mnew_tracing_count\u001b[0m \u001b[0;34m=\u001b[0m \u001b[0mself\u001b[0m\u001b[0;34m.\u001b[0m\u001b[0m_get_tracing_count\u001b[0m\u001b[0;34m(\u001b[0m\u001b[0;34m)\u001b[0m\u001b[0;34m\u001b[0m\u001b[0;34m\u001b[0m\u001b[0m\n",
      "\u001b[0;32m/opt/anaconda3/envs/QML/lib/python3.7/site-packages/tensorflow/python/eager/def_function.py\u001b[0m in \u001b[0;36m_call\u001b[0;34m(self, *args, **kwds)\u001b[0m\n\u001b[1;32m    821\u001b[0m       \u001b[0;31m# This is the first call of __call__, so we have to initialize.\u001b[0m\u001b[0;34m\u001b[0m\u001b[0;34m\u001b[0m\u001b[0;34m\u001b[0m\u001b[0m\n\u001b[1;32m    822\u001b[0m       \u001b[0minitializers\u001b[0m \u001b[0;34m=\u001b[0m \u001b[0;34m[\u001b[0m\u001b[0;34m]\u001b[0m\u001b[0;34m\u001b[0m\u001b[0;34m\u001b[0m\u001b[0m\n\u001b[0;32m--> 823\u001b[0;31m       \u001b[0mself\u001b[0m\u001b[0;34m.\u001b[0m\u001b[0m_initialize\u001b[0m\u001b[0;34m(\u001b[0m\u001b[0margs\u001b[0m\u001b[0;34m,\u001b[0m \u001b[0mkwds\u001b[0m\u001b[0;34m,\u001b[0m \u001b[0madd_initializers_to\u001b[0m\u001b[0;34m=\u001b[0m\u001b[0minitializers\u001b[0m\u001b[0;34m)\u001b[0m\u001b[0;34m\u001b[0m\u001b[0;34m\u001b[0m\u001b[0m\n\u001b[0m\u001b[1;32m    824\u001b[0m     \u001b[0;32mfinally\u001b[0m\u001b[0;34m:\u001b[0m\u001b[0;34m\u001b[0m\u001b[0;34m\u001b[0m\u001b[0m\n\u001b[1;32m    825\u001b[0m       \u001b[0;31m# At this point we know that the initialization is complete (or less\u001b[0m\u001b[0;34m\u001b[0m\u001b[0;34m\u001b[0m\u001b[0;34m\u001b[0m\u001b[0m\n",
      "\u001b[0;32m/opt/anaconda3/envs/QML/lib/python3.7/site-packages/tensorflow/python/eager/def_function.py\u001b[0m in \u001b[0;36m_initialize\u001b[0;34m(self, args, kwds, add_initializers_to)\u001b[0m\n\u001b[1;32m    695\u001b[0m     self._concrete_stateful_fn = (\n\u001b[1;32m    696\u001b[0m         self._stateful_fn._get_concrete_function_internal_garbage_collected(  # pylint: disable=protected-access\n\u001b[0;32m--> 697\u001b[0;31m             *args, **kwds))\n\u001b[0m\u001b[1;32m    698\u001b[0m \u001b[0;34m\u001b[0m\u001b[0m\n\u001b[1;32m    699\u001b[0m     \u001b[0;32mdef\u001b[0m \u001b[0minvalid_creator_scope\u001b[0m\u001b[0;34m(\u001b[0m\u001b[0;34m*\u001b[0m\u001b[0munused_args\u001b[0m\u001b[0;34m,\u001b[0m \u001b[0;34m**\u001b[0m\u001b[0munused_kwds\u001b[0m\u001b[0;34m)\u001b[0m\u001b[0;34m:\u001b[0m\u001b[0;34m\u001b[0m\u001b[0;34m\u001b[0m\u001b[0m\n",
      "\u001b[0;32m/opt/anaconda3/envs/QML/lib/python3.7/site-packages/tensorflow/python/eager/function.py\u001b[0m in \u001b[0;36m_get_concrete_function_internal_garbage_collected\u001b[0;34m(self, *args, **kwargs)\u001b[0m\n\u001b[1;32m   2853\u001b[0m       \u001b[0margs\u001b[0m\u001b[0;34m,\u001b[0m \u001b[0mkwargs\u001b[0m \u001b[0;34m=\u001b[0m \u001b[0;32mNone\u001b[0m\u001b[0;34m,\u001b[0m \u001b[0;32mNone\u001b[0m\u001b[0;34m\u001b[0m\u001b[0;34m\u001b[0m\u001b[0m\n\u001b[1;32m   2854\u001b[0m     \u001b[0;32mwith\u001b[0m \u001b[0mself\u001b[0m\u001b[0;34m.\u001b[0m\u001b[0m_lock\u001b[0m\u001b[0;34m:\u001b[0m\u001b[0;34m\u001b[0m\u001b[0;34m\u001b[0m\u001b[0m\n\u001b[0;32m-> 2855\u001b[0;31m       \u001b[0mgraph_function\u001b[0m\u001b[0;34m,\u001b[0m \u001b[0m_\u001b[0m\u001b[0;34m,\u001b[0m \u001b[0m_\u001b[0m \u001b[0;34m=\u001b[0m \u001b[0mself\u001b[0m\u001b[0;34m.\u001b[0m\u001b[0m_maybe_define_function\u001b[0m\u001b[0;34m(\u001b[0m\u001b[0margs\u001b[0m\u001b[0;34m,\u001b[0m \u001b[0mkwargs\u001b[0m\u001b[0;34m)\u001b[0m\u001b[0;34m\u001b[0m\u001b[0;34m\u001b[0m\u001b[0m\n\u001b[0m\u001b[1;32m   2856\u001b[0m     \u001b[0;32mreturn\u001b[0m \u001b[0mgraph_function\u001b[0m\u001b[0;34m\u001b[0m\u001b[0;34m\u001b[0m\u001b[0m\n\u001b[1;32m   2857\u001b[0m \u001b[0;34m\u001b[0m\u001b[0m\n",
      "\u001b[0;32m/opt/anaconda3/envs/QML/lib/python3.7/site-packages/tensorflow/python/eager/function.py\u001b[0m in \u001b[0;36m_maybe_define_function\u001b[0;34m(self, args, kwargs)\u001b[0m\n\u001b[1;32m   3211\u001b[0m \u001b[0;34m\u001b[0m\u001b[0m\n\u001b[1;32m   3212\u001b[0m       \u001b[0mself\u001b[0m\u001b[0;34m.\u001b[0m\u001b[0m_function_cache\u001b[0m\u001b[0;34m.\u001b[0m\u001b[0mmissed\u001b[0m\u001b[0;34m.\u001b[0m\u001b[0madd\u001b[0m\u001b[0;34m(\u001b[0m\u001b[0mcall_context_key\u001b[0m\u001b[0;34m)\u001b[0m\u001b[0;34m\u001b[0m\u001b[0;34m\u001b[0m\u001b[0m\n\u001b[0;32m-> 3213\u001b[0;31m       \u001b[0mgraph_function\u001b[0m \u001b[0;34m=\u001b[0m \u001b[0mself\u001b[0m\u001b[0;34m.\u001b[0m\u001b[0m_create_graph_function\u001b[0m\u001b[0;34m(\u001b[0m\u001b[0margs\u001b[0m\u001b[0;34m,\u001b[0m \u001b[0mkwargs\u001b[0m\u001b[0;34m)\u001b[0m\u001b[0;34m\u001b[0m\u001b[0;34m\u001b[0m\u001b[0m\n\u001b[0m\u001b[1;32m   3214\u001b[0m       \u001b[0mself\u001b[0m\u001b[0;34m.\u001b[0m\u001b[0m_function_cache\u001b[0m\u001b[0;34m.\u001b[0m\u001b[0mprimary\u001b[0m\u001b[0;34m[\u001b[0m\u001b[0mcache_key\u001b[0m\u001b[0;34m]\u001b[0m \u001b[0;34m=\u001b[0m \u001b[0mgraph_function\u001b[0m\u001b[0;34m\u001b[0m\u001b[0;34m\u001b[0m\u001b[0m\n\u001b[1;32m   3215\u001b[0m       \u001b[0;32mreturn\u001b[0m \u001b[0mgraph_function\u001b[0m\u001b[0;34m,\u001b[0m \u001b[0margs\u001b[0m\u001b[0;34m,\u001b[0m \u001b[0mkwargs\u001b[0m\u001b[0;34m\u001b[0m\u001b[0;34m\u001b[0m\u001b[0m\n",
      "\u001b[0;32m/opt/anaconda3/envs/QML/lib/python3.7/site-packages/tensorflow/python/eager/function.py\u001b[0m in \u001b[0;36m_create_graph_function\u001b[0;34m(self, args, kwargs, override_flat_arg_shapes)\u001b[0m\n\u001b[1;32m   3073\u001b[0m             \u001b[0marg_names\u001b[0m\u001b[0;34m=\u001b[0m\u001b[0marg_names\u001b[0m\u001b[0;34m,\u001b[0m\u001b[0;34m\u001b[0m\u001b[0;34m\u001b[0m\u001b[0m\n\u001b[1;32m   3074\u001b[0m             \u001b[0moverride_flat_arg_shapes\u001b[0m\u001b[0;34m=\u001b[0m\u001b[0moverride_flat_arg_shapes\u001b[0m\u001b[0;34m,\u001b[0m\u001b[0;34m\u001b[0m\u001b[0;34m\u001b[0m\u001b[0m\n\u001b[0;32m-> 3075\u001b[0;31m             capture_by_value=self._capture_by_value),\n\u001b[0m\u001b[1;32m   3076\u001b[0m         \u001b[0mself\u001b[0m\u001b[0;34m.\u001b[0m\u001b[0m_function_attributes\u001b[0m\u001b[0;34m,\u001b[0m\u001b[0;34m\u001b[0m\u001b[0;34m\u001b[0m\u001b[0m\n\u001b[1;32m   3077\u001b[0m         \u001b[0mfunction_spec\u001b[0m\u001b[0;34m=\u001b[0m\u001b[0mself\u001b[0m\u001b[0;34m.\u001b[0m\u001b[0mfunction_spec\u001b[0m\u001b[0;34m,\u001b[0m\u001b[0;34m\u001b[0m\u001b[0;34m\u001b[0m\u001b[0m\n",
      "\u001b[0;32m/opt/anaconda3/envs/QML/lib/python3.7/site-packages/tensorflow/python/framework/func_graph.py\u001b[0m in \u001b[0;36mfunc_graph_from_py_func\u001b[0;34m(name, python_func, args, kwargs, signature, func_graph, autograph, autograph_options, add_control_dependencies, arg_names, op_return_value, collections, capture_by_value, override_flat_arg_shapes)\u001b[0m\n\u001b[1;32m    984\u001b[0m         \u001b[0m_\u001b[0m\u001b[0;34m,\u001b[0m \u001b[0moriginal_func\u001b[0m \u001b[0;34m=\u001b[0m \u001b[0mtf_decorator\u001b[0m\u001b[0;34m.\u001b[0m\u001b[0munwrap\u001b[0m\u001b[0;34m(\u001b[0m\u001b[0mpython_func\u001b[0m\u001b[0;34m)\u001b[0m\u001b[0;34m\u001b[0m\u001b[0;34m\u001b[0m\u001b[0m\n\u001b[1;32m    985\u001b[0m \u001b[0;34m\u001b[0m\u001b[0m\n\u001b[0;32m--> 986\u001b[0;31m       \u001b[0mfunc_outputs\u001b[0m \u001b[0;34m=\u001b[0m \u001b[0mpython_func\u001b[0m\u001b[0;34m(\u001b[0m\u001b[0;34m*\u001b[0m\u001b[0mfunc_args\u001b[0m\u001b[0;34m,\u001b[0m \u001b[0;34m**\u001b[0m\u001b[0mfunc_kwargs\u001b[0m\u001b[0;34m)\u001b[0m\u001b[0;34m\u001b[0m\u001b[0;34m\u001b[0m\u001b[0m\n\u001b[0m\u001b[1;32m    987\u001b[0m \u001b[0;34m\u001b[0m\u001b[0m\n\u001b[1;32m    988\u001b[0m       \u001b[0;31m# invariant: `func_outputs` contains only Tensors, CompositeTensors,\u001b[0m\u001b[0;34m\u001b[0m\u001b[0;34m\u001b[0m\u001b[0;34m\u001b[0m\u001b[0m\n",
      "\u001b[0;32m/opt/anaconda3/envs/QML/lib/python3.7/site-packages/tensorflow/python/eager/def_function.py\u001b[0m in \u001b[0;36mwrapped_fn\u001b[0;34m(*args, **kwds)\u001b[0m\n\u001b[1;32m    598\u001b[0m         \u001b[0;31m# __wrapped__ allows AutoGraph to swap in a converted function. We give\u001b[0m\u001b[0;34m\u001b[0m\u001b[0;34m\u001b[0m\u001b[0;34m\u001b[0m\u001b[0m\n\u001b[1;32m    599\u001b[0m         \u001b[0;31m# the function a weak reference to itself to avoid a reference cycle.\u001b[0m\u001b[0;34m\u001b[0m\u001b[0;34m\u001b[0m\u001b[0;34m\u001b[0m\u001b[0m\n\u001b[0;32m--> 600\u001b[0;31m         \u001b[0;32mreturn\u001b[0m \u001b[0mweak_wrapped_fn\u001b[0m\u001b[0;34m(\u001b[0m\u001b[0;34m)\u001b[0m\u001b[0;34m.\u001b[0m\u001b[0m__wrapped__\u001b[0m\u001b[0;34m(\u001b[0m\u001b[0;34m*\u001b[0m\u001b[0margs\u001b[0m\u001b[0;34m,\u001b[0m \u001b[0;34m**\u001b[0m\u001b[0mkwds\u001b[0m\u001b[0;34m)\u001b[0m\u001b[0;34m\u001b[0m\u001b[0;34m\u001b[0m\u001b[0m\n\u001b[0m\u001b[1;32m    601\u001b[0m     \u001b[0mweak_wrapped_fn\u001b[0m \u001b[0;34m=\u001b[0m \u001b[0mweakref\u001b[0m\u001b[0;34m.\u001b[0m\u001b[0mref\u001b[0m\u001b[0;34m(\u001b[0m\u001b[0mwrapped_fn\u001b[0m\u001b[0;34m)\u001b[0m\u001b[0;34m\u001b[0m\u001b[0;34m\u001b[0m\u001b[0m\n\u001b[1;32m    602\u001b[0m \u001b[0;34m\u001b[0m\u001b[0m\n",
      "\u001b[0;32m/opt/anaconda3/envs/QML/lib/python3.7/site-packages/tensorflow/python/framework/func_graph.py\u001b[0m in \u001b[0;36mwrapper\u001b[0;34m(*args, **kwargs)\u001b[0m\n\u001b[1;32m    971\u001b[0m           \u001b[0;32mexcept\u001b[0m \u001b[0mException\u001b[0m \u001b[0;32mas\u001b[0m \u001b[0me\u001b[0m\u001b[0;34m:\u001b[0m  \u001b[0;31m# pylint:disable=broad-except\u001b[0m\u001b[0;34m\u001b[0m\u001b[0;34m\u001b[0m\u001b[0m\n\u001b[1;32m    972\u001b[0m             \u001b[0;32mif\u001b[0m \u001b[0mhasattr\u001b[0m\u001b[0;34m(\u001b[0m\u001b[0me\u001b[0m\u001b[0;34m,\u001b[0m \u001b[0;34m\"ag_error_metadata\"\u001b[0m\u001b[0;34m)\u001b[0m\u001b[0;34m:\u001b[0m\u001b[0;34m\u001b[0m\u001b[0;34m\u001b[0m\u001b[0m\n\u001b[0;32m--> 973\u001b[0;31m               \u001b[0;32mraise\u001b[0m \u001b[0me\u001b[0m\u001b[0;34m.\u001b[0m\u001b[0mag_error_metadata\u001b[0m\u001b[0;34m.\u001b[0m\u001b[0mto_exception\u001b[0m\u001b[0;34m(\u001b[0m\u001b[0me\u001b[0m\u001b[0;34m)\u001b[0m\u001b[0;34m\u001b[0m\u001b[0;34m\u001b[0m\u001b[0m\n\u001b[0m\u001b[1;32m    974\u001b[0m             \u001b[0;32melse\u001b[0m\u001b[0;34m:\u001b[0m\u001b[0;34m\u001b[0m\u001b[0;34m\u001b[0m\u001b[0m\n\u001b[1;32m    975\u001b[0m               \u001b[0;32mraise\u001b[0m\u001b[0;34m\u001b[0m\u001b[0;34m\u001b[0m\u001b[0m\n",
      "\u001b[0;31mValueError\u001b[0m: in user code:\n\n    /opt/anaconda3/envs/QML/lib/python3.7/site-packages/tensorflow/python/keras/engine/training.py:806 train_function  *\n        return step_function(self, iterator)\n    <ipython-input-10-ebacd62dde43>:24 call  *\n        _params = tf.reshape(new_params, shape = (2,2))\n    /opt/anaconda3/envs/QML/lib/python3.7/site-packages/tensorflow/python/util/dispatch.py:201 wrapper  **\n        return target(*args, **kwargs)\n    /opt/anaconda3/envs/QML/lib/python3.7/site-packages/tensorflow/python/ops/array_ops.py:195 reshape\n        result = gen_array_ops.reshape(tensor, shape, name)\n    /opt/anaconda3/envs/QML/lib/python3.7/site-packages/tensorflow/python/ops/gen_array_ops.py:8234 reshape\n        \"Reshape\", tensor=tensor, shape=shape, name=name)\n    /opt/anaconda3/envs/QML/lib/python3.7/site-packages/tensorflow/python/framework/op_def_library.py:744 _apply_op_helper\n        attrs=attr_protos, op_def=op_def)\n    /opt/anaconda3/envs/QML/lib/python3.7/site-packages/tensorflow/python/framework/func_graph.py:593 _create_op_internal\n        compute_device)\n    /opt/anaconda3/envs/QML/lib/python3.7/site-packages/tensorflow/python/framework/ops.py:3485 _create_op_internal\n        op_def=op_def)\n    /opt/anaconda3/envs/QML/lib/python3.7/site-packages/tensorflow/python/framework/ops.py:1975 __init__\n        control_input_ops, op_def)\n    /opt/anaconda3/envs/QML/lib/python3.7/site-packages/tensorflow/python/framework/ops.py:1815 _create_c_op\n        raise ValueError(str(e))\n\n    ValueError: Cannot reshape a tensor with 20 elements to shape [2,2] (4 elements) for '{{node functional_1/qrnn_4/Reshape}} = Reshape[T=DT_FLOAT, Tshape=DT_INT32](functional_1/qrnn_4/lstm_cell_4/mul_2, functional_1/qrnn_4/Reshape/shape)' with input shapes: [5,4], [2] and with input tensors computed as partial shapes: input[1] = [2,2].\n"
     ]
    }
   ],
   "source": [
    "N_POINTS = 10\n",
    "\n",
    "inp_costA = tf.zeros(shape = (N_POINTS, 1))\n",
    "inp_paramsA = tf.zeros(shape = (N_POINTS, 4))\n",
    "inp_hA = tf.zeros(shape = (N_POINTS, 4))\n",
    "inp_cA = tf.zeros(shape = (N_POINTS, 4))\n",
    "\n",
    "model.fit(x=[inp_costA, inp_paramsA, inp_hA, inp_cA],\n",
    "          y=[\n",
    "              np.zeros((N_POINTS, 1)),\n",
    "              np.zeros((N_POINTS, 1)),\n",
    "              np.zeros((N_POINTS, 1)),\n",
    "              np.zeros((N_POINTS, 1))\n",
    "          ],\n",
    "          epochs=3,\n",
    "          batch_size=5,\n",
    "          verbose=1)"
   ]
  },
  {
   "cell_type": "code",
   "execution_count": 11,
   "metadata": {},
   "outputs": [],
   "source": [
    "model = tf.keras.Model(inputs = [inp_cost, inp_params, inp_h, inp_c], outputs = out2)"
   ]
  },
  {
   "cell_type": "code",
   "execution_count": 12,
   "metadata": {
    "scrolled": false
   },
   "outputs": [
    {
     "name": "stdout",
     "output_type": "stream",
     "text": [
      "Model: \"functional_1\"\n",
      "__________________________________________________________________________________________________\n",
      "Layer (type)                    Output Shape         Param #     Connected to                     \n",
      "==================================================================================================\n",
      "input_1 (InputLayer)            [(None, 1)]          0                                            \n",
      "__________________________________________________________________________________________________\n",
      "input_2 (InputLayer)            [(None, 4)]          0                                            \n",
      "__________________________________________________________________________________________________\n",
      "input_3 (InputLayer)            [(None, 4)]          0                                            \n",
      "__________________________________________________________________________________________________\n",
      "input_4 (InputLayer)            [(None, 4)]          0                                            \n",
      "__________________________________________________________________________________________________\n",
      "qrnn (QRNN)                     [(1, 1), (None, 4),  160         input_1[0][0]                    \n",
      "                                                                 input_2[0][0]                    \n",
      "                                                                 input_3[0][0]                    \n",
      "                                                                 input_4[0][0]                    \n",
      "                                                                 qrnn[0][0]                       \n",
      "                                                                 qrnn[0][2]                       \n",
      "                                                                 qrnn[0][2]                       \n",
      "                                                                 qrnn[0][3]                       \n",
      "                                                                 qrnn[1][0]                       \n",
      "                                                                 qrnn[1][2]                       \n",
      "                                                                 qrnn[1][2]                       \n",
      "                                                                 qrnn[1][3]                       \n",
      "==================================================================================================\n",
      "Total params: 160\n",
      "Trainable params: 160\n",
      "Non-trainable params: 0\n",
      "__________________________________________________________________________________________________\n"
     ]
    }
   ],
   "source": [
    "model.summary()"
   ]
  },
  {
   "cell_type": "code",
   "execution_count": 13,
   "metadata": {},
   "outputs": [
    {
     "data": {
      "image/png": "[encoded data removed]",
      "text/plain": [
       "<IPython.core.display.Image object>"
      ]
     },
     "execution_count": 13,
     "metadata": {},
     "output_type": "execute_result"
    }
   ],
   "source": [
    "tf.keras.utils.plot_model(model, show_shapes=True)"
   ]
  },
  {
   "cell_type": "code",
   "execution_count": 60,
   "metadata": {},
   "outputs": [
    {
     "data": {
      "text/plain": [
       "[<__main__.QRNN at 0x7fc64cc3bed0>, <__main__.QRNN at 0x7fc6ada45f90>]"
      ]
     },
     "execution_count": 60,
     "metadata": {},
     "output_type": "execute_result"
    }
   ],
   "source": [
    "[QRNN(graph = graphs[0]) for i in range(2)]"
   ]
  },
  {
   "cell_type": "code",
   "execution_count": null,
   "metadata": {},
   "outputs": [],
   "source": [
    "def create_model(num_qubits = 7, cycles = 5, graph = None):\n",
    "    q_cells = [QRNN(graph = graph) for i in range(cycles)]\n",
    "    "
   ]
  },
  {
   "cell_type": "code",
   "execution_count": null,
   "metadata": {},
   "outputs": [],
   "source": []
  },
  {
   "cell_type": "code",
   "execution_count": null,
   "metadata": {},
   "outputs": [],
   "source": []
  },
  {
   "cell_type": "markdown",
   "metadata": {},
   "source": [
    "## Test code (can ignore)"
   ]
  },
  {
   "cell_type": "code",
   "execution_count": null,
   "metadata": {},
   "outputs": [],
   "source": [
    "pauli_z = [[1, 0], [0, -1]]\n",
    "pauli_z_2 = np.kron(pauli_z, pauli_z)\n",
    "\n",
    "dev = qml.device(\"default.qubit.tf\", wires=7, analytic=True)\n",
    "\n",
    "\n",
    "@qml.qnode(dev)\n",
    "def circuit(gammas, betas, edge=None, n_layers=2, graph = None):\n",
    "    \n",
    "    n_wires = len(graph.nodes)\n",
    "    \n",
    "    # unitary operator U_B with parameter beta\n",
    "    def U_B(beta):\n",
    "        for wire in range(n_wires):\n",
    "            qml.RX(2 * beta, wires=wire)\n",
    "\n",
    "    # unitary operator U_C with parameter gamma\n",
    "    def U_C(gamma):\n",
    "        for edge in graph.edges:\n",
    "            wire1 = edge[0]\n",
    "            wire2 = edge[1]\n",
    "            qml.CNOT(wires=[wire1, wire2])\n",
    "            qml.RZ(gamma, wires=wire2)\n",
    "            qml.CNOT(wires=[wire1, wire2])\n",
    "            \n",
    "    def comp_basis_measurement(wires):\n",
    "        n_wires = len(wires)\n",
    "        return qml.Hermitian(np.diag(range(2 ** n_wires)), wires=wires)    \n",
    "    \n",
    "    # apply Hadamards to get the n qubit |+> state\n",
    "    for wire in range(n_wires):\n",
    "        qml.Hadamard(wires=wire)\n",
    "    # p instances of unitary operators\n",
    "    for i in range(n_layers):\n",
    "        U_C(gammas[i])\n",
    "        U_B(betas[i])\n",
    "    if edge is None:\n",
    "        # measurement phase\n",
    "        return qml.sample(comp_basis_measurement(range(n_wires)))\n",
    "    # during the optimization phase we are evaluating a term\n",
    "    # in the objective using expval\n",
    "    return qml.expval(qml.Hermitian(pauli_z_2, wires=edge))"
   ]
  },
  {
   "cell_type": "code",
   "execution_count": 16,
   "metadata": {},
   "outputs": [
    {
     "name": "stdout",
     "output_type": "stream",
     "text": [
      "tf.Tensor([[ 0.01506045  0.08822118  0.01831053 -0.30537358]], shape=(1, 4), dtype=float32) tf.Tensor([[ 0.01506045  0.08822118  0.01831053 -0.30537358]], shape=(1, 4), dtype=float32) tf.Tensor([[ 0.03009109  0.2579358   0.03984904 -0.6119622 ]], shape=(1, 4), dtype=float32)\n"
     ]
    }
   ],
   "source": [
    "cell0 = tf.keras.layers.LSTMCell(4)\n",
    "cell1 = tf.keras.layers.LSTMCell(4)\n",
    "cell2 = tf.keras.layers.LSTMCell(4)\n",
    "\n",
    "output, [h, c] = cell0(tf.ones(shape=(1,5)), states = [tf.zeros(shape=(1,4)), tf.zeros(shape=(1,4))])\n",
    "#output, [h, c] = cell1(output, states = [h, c])\n",
    "#output, [h, c] = cell2(output, states = [h, c])\n",
    "\n",
    "\n",
    "print(output, h, c)"
   ]
  },
  {
   "cell_type": "code",
   "execution_count": 34,
   "metadata": {},
   "outputs": [
    {
     "ename": "SyntaxError",
     "evalue": "invalid syntax (<ipython-input-34-8abbfdd40d59>, line 4)",
     "output_type": "error",
     "traceback": [
      "\u001b[0;36m  File \u001b[0;32m\"<ipython-input-34-8abbfdd40d59>\"\u001b[0;36m, line \u001b[0;32m4\u001b[0m\n\u001b[0;31m    f call(self, inputs):\u001b[0m\n\u001b[0m         ^\u001b[0m\n\u001b[0;31mSyntaxError\u001b[0m\u001b[0;31m:\u001b[0m invalid syntax\n"
     ]
    }
   ],
   "source": [
    "cell = tf.keras.layers.LSTMCell(4)\n",
    "self.expectation = qaoa_from_graph(graph)\n",
    "\n",
    "f call(self, inputs):\n",
    "prev_cost = inputs[0]\n",
    "prev_params = inputs[1]\n",
    "prev_h = inputs[2]\n",
    "prev_c = inputs[3]\n",
    "\n",
    "new_input = tf.keras.layers.concatenate([prev_cost, prev_params])\n",
    "new_params, new_h, new_c = self.cell(new_input, state = [prev_h, prev_c])\n",
    "\n",
    "new_cost = self.expectation([new_params[:2], new_params[2:]])\n",
    "\n",
    "return [new_cost, new_params, new_h, new_c]"
   ]
  },
  {
   "cell_type": "code",
   "execution_count": 10,
   "metadata": {},
   "outputs": [],
   "source": [
    "cost_inp = tf.keras.Input(shape=(1,))\n",
    "params_inp = tf.keras.Input(shape=(2,2))\n",
    "h_inp = tf.keras.Input(shape=(4,)) # it has the shape (batch, units)\n",
    "c_inp = tf.keras.Input(shape=(4,))"
   ]
  },
  {
   "cell_type": "code",
   "execution_count": null,
   "metadata": {},
   "outputs": [],
   "source": []
  },
  {
   "cell_type": "code",
   "execution_count": 147,
   "metadata": {},
   "outputs": [],
   "source": [
    "def generate_dataset(num_qubits, num_data):\n",
    "    p_edge = 3./num_qubits\n",
    "    circs = []\n",
    "    for _ in range(num_data):\n",
    "        random_graph = nx.gnp_random_graph(num_qubits, p = p_edge)\n",
    "        circ = qaoa_from_graph(random_graph)\n",
    "        circs.append(circ)\n",
    "    return circs"
   ]
  },
  {
   "cell_type": "code",
   "execution_count": 148,
   "metadata": {},
   "outputs": [],
   "source": [
    "circs = generate_dataset(5, 10)"
   ]
  },
  {
   "cell_type": "markdown",
   "metadata": {},
   "source": [
    "## Mapping of Graph to QAOA anstaze"
   ]
  },
  {
   "cell_type": "markdown",
   "metadata": {},
   "source": [
    "How to create a circuit in Pennylane"
   ]
  },
  {
   "cell_type": "code",
   "execution_count": 88,
   "metadata": {},
   "outputs": [
    {
     "name": "stdout",
     "output_type": "stream",
     "text": [
      " 0: ──H──┤     \n",
      " 1: ──X──┤ ⟨Z⟩ \n",
      "\n"
     ]
    }
   ],
   "source": [
    "dev = qml.device('default.qubit', wires=2, shots=1024, analytic=False)\n",
    "\n",
    "@qml.qnode(dev)\n",
    "def circuit():\n",
    "    qml.PauliX(1)\n",
    "    qml.Hadamard(0)\n",
    "    return qml.expval(qml.PauliZ(1))\n",
    "\n",
    "circuit()\n",
    "print(circuit.draw())"
   ]
  },
  {
   "cell_type": "code",
   "execution_count": 180,
   "metadata": {},
   "outputs": [
    {
     "name": "stdout",
     "output_type": "stream",
     "text": [
      " 0: ──H──╭C──╭C──────────────────────────────────────┤ ⟨Z⟩ \n",
      " 1: ──H──╰Z──│───╭C──────╭C──────╭C──────────────────┤ ⟨Z⟩ \n",
      " 2: ──H──────│───│───╭C──│───╭C──│───────╭C──────────┤ ⟨Z⟩ \n",
      " 3: ──H──────╰Z──╰Z──╰Z──│───│───│───╭C──│───────────┤ ⟨Z⟩ \n",
      " 4: ──H──────────────────╰Z──╰Z──│───╰Z──│───╭C──────┤ ⟨Z⟩ \n",
      " 5: ──H──────────────────────────│───────│───│───╭C──┤ ⟨Z⟩ \n",
      " 6: ──H──────────────────────────╰Z──────╰Z──╰Z──╰Z──┤ ⟨Z⟩ \n",
      "\n"
     ]
    }
   ],
   "source": [
    "# Transverse field\n",
    "def U_x(eta, n_wires = None):\n",
    "    for wire in range(n_wires):\n",
    "        qml.RX(2 * eta, wires = wire)\n",
    "\n",
    "# Actual hamiltonian\n",
    "def U_C(gamma, graph = None):\n",
    "    for edge in graph.edges():\n",
    "        wire1 = edge[0]\n",
    "        wire2 = edge[1]\n",
    "        qml.CNOT(wires=[wire1, wire2])\n",
    "        qml.RZ(gamma, wires=wire2)\n",
    "        qml.CNOT(wires=[wire1, wire2])\n",
    "\n",
    "def qaoa_from_graph(alphas, betas, graph = None, p = None):\n",
    "    n_qubits = len(graph.nodes)\n",
    "    \n",
    "    # All qubits to |+> state\n",
    "    for i in range(n_qubits):\n",
    "        qml.Hadamard(wires=i)\n",
    "    \n",
    "    # Repeat QAOA ansatze p times\n",
    "    for n_layers in range(p):\n",
    "        for e in graph.edges():\n",
    "            qml.CZ(wires = [e[0], e[1]])\n",
    "            \n",
    "    # Final measurement\n",
    "    return [qml.expval(qml.PauliZ(i)) for i in range(n_qubits)]\n",
    "\n",
    "dev = dev = qml.device('default.qubit', wires=7, shots=1024, analytic=False)\n",
    "\n",
    "qnode = qml.QNode(qaoa_from_graph, dev)\n",
    "\n",
    "qnode(0., 0., graph = graphs[0], p = 1)\n",
    "\n",
    "print(qnode.draw())"
   ]
  }
 ],
 "metadata": {
  "colab": {
   "name": "l2l_0.ipynb",
   "provenance": []
  },
  "kernelspec": {
   "display_name": "Python 3",
   "language": "python",
   "name": "python3"
  },
  "language_info": {
   "codemirror_mode": {
    "name": "ipython",
    "version": 3
   },
   "file_extension": ".py",
   "mimetype": "text/x-python",
   "name": "python",
   "nbconvert_exporter": "python",
   "pygments_lexer": "ipython3",
   "version": "3.7.6"
  }
 },
 "nbformat": 4,
 "nbformat_minor": 1
}
