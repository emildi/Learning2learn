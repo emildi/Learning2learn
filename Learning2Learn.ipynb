{
 "cells": [
  {
   "cell_type": "markdown",
   "metadata": {
    "id": "3ByYL2o9sJe8"
   },
   "source": [
    "# Learning to Learn with Quantum NN via Classical NN\n",
    "\n",
    "[![Open In Colab](https://colab.research.google.com/assets/colab-badge.svg)](https://colab.research.google.com/github/stfnmangini/Learning2learn/blob/main/Learning2Learn.ipynb)\n",
    "\n",
    "This notebook aims to recreate the architecture proposed by Verdon et al. in the paper *Learning to learn with quantum neural networks via classical neural networks* [[1]](#1), using **PennyLane** [[2]](#2) and **TensorFlow** [[3]](#3). PennyLane is a cross-platform Python library for differentiable programming of quantum computers, which, in this tutorial will be used to create quantum circuits and interface them with TensorFlow, an open-source platform for machine learning, here used to build a custom model of a Recurrent Neural Network (RNN).\n",
    "\n",
    "We will start with a brief theoretical overview explaining the problem and the setup used to solve it. After that, we will deep dive into the code to build a fully functioning model, ready to be further developed or customized for your own needs. Without further ado, let's start!\n",
    "\n",
    "---\n",
    "\n",
    "### Problem: *Optimization of Variational Quantum Algorithms (VQAs)*\n",
    "\n",
    "Recently, a big effort by the quantum computing community has been devoted to the study of variational quantum algorithms (VQAs, for short) which leverage quantum circuits with fixed shape but with tunable parameters to solve a desired target task. The idea is similar to classical neural networks, where the weights of the network are optimized during training to perform best in regression or classification tasks. Similarly, once the shape of variational quantum circuit is chosen — something that is very difficult and sensitive to the particular task at hand — its tunable parameters are optimized iteratively by minimizing a cost (or loss) function, which measures how good the quantum algorithm is performing (see [[4]](#4) for a thorough overview on VQAs). \n",
    "\n",
    "\n",
    "A major challenge for VQAs relates to the optimization of tunable parameters, which was shown to be a very hard task to perform (a possible challenge is posed by the so called *barren plateaus*). In particular, parameters initialization plays a key role in this scenario, since initializing the parameters in the proximity of an optimal solution leads to faster convergence and better results with respect to random initialization, which could bring the model in a region in parameter space far from any good solution. Thus, a good initialization strategy is crucial to promote the convergence of local optimizers to local extrema and to select reasonably good local minima. Here, by local optimizer, we mean a procedure that moves from one solution to another by small (local) changes in parameter space. These are opposed to global search methods, which take into account the whole (or at least a large section) parameter space to propose a new solution.\n",
    "\n",
    "One such strategy could come from the classical machine learning literature. \n",
    "\n",
    "\n",
    "### Solution: *(Classical) Recurrent Neural Networks* \n",
    "\n",
    "By building on results from *meta-learning* literature in Classical ML, authors in [[1]](#1) propose to use a Recurrent Neural Network (RNN) as a black-box controller to optimize the tunable parameters of variational quantum algorithms, as shown in the figure below. The cost function used is the expectation value $\\langle H\\rangle_{\\boldsymbol{\\theta}} = \\langle \\psi_{\\boldsymbol{\\theta}}| H|\\psi_{\\boldsymbol{\\theta}}\\rangle $ of a Hamiltonian $H$ with respect to the parametrized state $|\\psi_{\\boldsymbol{\\theta}}\\rangle $ evolved by applying the variational quantum circuit to the zero state.\n",
    "\n",
    "|  |\n",
    "|:--|\n",
    "| <img src=\"./HybridLSTM.png\" alt=\"Scheme of the RNN architecture, as proposed in [[1]](#1)\" width=\"600\"/> | \n",
    "| **Recurrent Neural Network Scheme**. Given parameters $\\boldsymbol{\\theta}_{t-1}$ of the variational quantum circuit, the cost function $y_{t-1}$, and the hidden state of the classical network $h_{t-1}$ at the previous time step, the classical computer (the Recurrent Neural Network) proposes a new guess for the parameters $\\boldsymbol{\\theta}_t$, which are then fed into the quantum computer (the QAOA circuit) to evaluate the cost function $y_t$. By repeating this cycle a few times, and by training the weights of the recurrent neural network to minimize the loss function $y_t$, a good initialization heuristic is found for parameters $\\boldsymbol{\\theta}$ of the variational quantum circuit.|\n",
    "\n",
    "At a given iteration, the RNN receives as input the previous cost function $y_t$ evaluated on the quantum computer, where $y_t$ is the estimate of $\\langle H\\rangle_{t}$, as well as the parameters $\\boldsymbol{\\theta}_t$ for which the variational circuit was evaluated. The RNN at this time step also receives information stored in its internal hidden state from the previous time step $m_t$. The RNN itself has trainable parameters $\\phi$, and hence it applies the parametrized mapping:  \n",
    "\n",
    "$$ h_{t+1}, \\boldsymbol{\\theta}_{t+1} = \\text{RNN}_{\\phi}(h_{t}, \\boldsymbol{\\theta}_{t}, y_{t}) $$\n",
    "\n",
    "which generates a new suggestion for the variational parameters as well as a new internal state. Upon training the weights $\\phi$, the RNN eventually learns a good heuristic to suggest optimal parameters for the quantum circuit.  \n",
    "\n",
    "\n",
    "### VQAs in focus: QAOA for MaxCut\n",
    "There are multiple VQAs for which this hybrid training routine could be used, some of them directly analyzed in [[1]](#1). In the following, we will only focus on one of such examples, that is the use of the QAOA (Quantum Approximate Optimization Algorithm) for solving the MaxCut problem for graphs. Thus, referring to the picture above, the shape of the variational circuit is the one dictated by the QAOA ansatz, and such a quantum circuit is used to evaluate the cost Hamiltonian $H$ of the MaxCut problem of some graphs.  \n",
    "If you wish to refresh your memories, check out this great tutorial on how to use QAOA for solving graph problems: https://pennylane.ai/qml/demos/tutorial_qaoa_intro.html\n",
    "\n",
    "---"
   ]
  },
  {
   "cell_type": "markdown",
   "metadata": {
    "id": "kiP9yNVrw780"
   },
   "source": [
    "**Run cell below only if using this notebook in Colab**  \n",
    "If you're running this notebook on Colab, you need to run the following cell to install required dependencies.\n",
    "\n",
    "On the other hand, if you're running this on your personal computer, be sure to have the following packages installed (including the listed standard Python libraries):\n",
    "\n",
    "* `Numpy`\n",
    "* `Matplotlib`\n",
    "* `TensorFlow` (`Keras` is integrated by default if using `TensorFlow 2.x`)\n",
    "* `PennyLane`\n",
    "* `NetworkX`\n",
    "\n",
    "***Note***: Running the whole tutorial requires approx. ~10m."
   ]
  },
  {
   "cell_type": "code",
   "execution_count": 1,
   "metadata": {
    "id": "3Zq4Bnbttkoh"
   },
   "outputs": [],
   "source": [
    "IS_COLAB = False\n",
    "if IS_COLAB:\n",
    "    # TensorFlow is installed by default on Colab \n",
    "    !pip install --upgrade pennylane\n",
    "    !pip install networkx"
   ]
  },
  {
   "cell_type": "markdown",
   "metadata": {},
   "source": [
    "#### Importing the required packages\n",
    "\n",
    "As already mentioned at the start of the notebook, we will use *PennyLane* for executing quantum circuits and for integrating seamlessly with *TensorFlow*, which will be used for creating the RNN. "
   ]
  },
  {
   "cell_type": "code",
   "execution_count": 2,
   "metadata": {},
   "outputs": [],
   "source": [
    "# Quantum Machine Learning\n",
    "import pennylane as qml\n",
    "from pennylane import qaoa\n",
    "\n",
    "# Classical Machine Learning\n",
    "import tensorflow as tf\n",
    "\n",
    "# Generation of graphs\n",
    "import networkx as nx\n",
    "\n",
    "# Standard Python libraries\n",
    "import numpy as np\n",
    "import matplotlib.pyplot as plt\n",
    "import random\n",
    "\n",
    "# Set the seed for reproducibility of results\n",
    "# These seeds affect all random functions in this tutorial\n",
    "random.seed(42)\n",
    "np.random.seed(42)\n",
    "tf.random.set_seed(42)"
   ]
  },
  {
   "cell_type": "markdown",
   "metadata": {},
   "source": [
    "#### Package versions"
   ]
  },
  {
   "cell_type": "code",
   "execution_count": 3,
   "metadata": {},
   "outputs": [
    {
     "name": "stdout",
     "output_type": "stream",
     "text": [
      "pennylane 0.13.0\n",
      "tensorflow 2.3.1\n",
      "networkx 2.4\n",
      "numpy 1.18.1\n"
     ]
    }
   ],
   "source": [
    "print('\\n'.join(f'{m.__name__} {m.__version__}' for m in globals().values() if getattr(m, '__version__', None)))"
   ]
  },
  {
   "cell_type": "markdown",
   "metadata": {},
   "source": [
    "---"
   ]
  },
  {
   "cell_type": "markdown",
   "metadata": {
    "id": "6aEd_oBHter4"
   },
   "source": [
    "### Generation of training data: graphs"
   ]
  },
  {
   "cell_type": "markdown",
   "metadata": {},
   "source": [
    "As for any Machine Learning project, the first step is to gather (or in our case create) a good dataset, which will be used to train the model and test its performances. In our case, we are analyzing the MaxCut problem, which deals with the problem of finding a good binary partition of nodes in a *graph*, such that the number of edges *cut* by such separation is maximized. For this reason, we start by generating some random graphs $G_{n,p}$ where:\n",
    "- $n$ is the number of nodes in the graphs,\n",
    "- $p$ is the probability of having an edge between two nodes."
   ]
  },
  {
   "cell_type": "code",
   "execution_count": 4,
   "metadata": {
    "pycharm": {
     "name": "#%%\n"
    }
   },
   "outputs": [],
   "source": [
    "def generate_graphs(n_graphs, n_nodes, p_edge):\n",
    "    \"\"\"Generate a list containing random graphs generated by Networkx. \n",
    "    \n",
    "    Args:\n",
    "        n_graphs (int): length of final list, that is the number of graphs to generate\n",
    "        n_nodes (int): number of nodes in each graph\n",
    "        p_edge (float): Probability of having an edge between two nodes (see Networkx's documentation).\n",
    "    \n",
    "    Returns:\n",
    "        list: list containing the generated graphs\n",
    "    \"\"\"\n",
    "    \n",
    "    datapoints = []\n",
    "    for _ in range(n_graphs):\n",
    "        random_graph = nx.gnp_random_graph(n_nodes, p = p_edge)\n",
    "        datapoints.append(random_graph)\n",
    "    return datapoints"
   ]
  },
  {
   "cell_type": "markdown",
   "metadata": {},
   "source": [
    "An example of a random graph generated using the function `generate_graphs` just defined:"
   ]
  },
  {
   "cell_type": "code",
   "execution_count": 5,
   "metadata": {
    "pycharm": {
     "name": "#%%\n"
    },
    "scrolled": true
   },
   "outputs": [
    {
     "name": "stdout",
     "output_type": "stream",
     "text": [
      "Example of a random graph with 7 nodes and 11 edges (p=0.43)\n"
     ]
    },
    {
     "data": {
      "image/png": "[encoded data removed]",
      "text/plain": [
       "<Figure size 432x288 with 1 Axes>"
      ]
     },
     "metadata": {},
     "output_type": "display_data"
    }
   ],
   "source": [
    "# Define parameters of the graphs\n",
    "n_graphs = 20\n",
    "n_nodes = 7\n",
    "p_edge = 3./n_nodes\n",
    "graphs = generate_graphs(n_graphs, n_nodes, p_edge)\n",
    "\n",
    "print(f\"Example of a random graph with {len(graphs[0].nodes)} nodes and {len(graphs[0].edges)} edges (p={p_edge:.2f})\")\n",
    "nx.draw(graphs[0])"
   ]
  },
  {
   "cell_type": "markdown",
   "metadata": {},
   "source": [
    "---"
   ]
  },
  {
   "cell_type": "markdown",
   "metadata": {},
   "source": [
    "### Variational Quantum Circuit: QAOA  \n",
    "\n",
    "Now that we have a dataset, we move on by creating the QAOA quantum circuits using PennyLane's built-in sub packages. In particular, using PennyLane's `qaoa` module, we will able to create fully functioning quantum circuits for the MaxCut problem, with very few lines of code."
   ]
  },
  {
   "cell_type": "code",
   "execution_count": 6,
   "metadata": {},
   "outputs": [],
   "source": [
    "def qaoa_from_graph(graph, n_layers = 1):\n",
    "    \"\"\"Creates a cost function by encoding a Hamiltonian that solves the MaxCut problem using QAOA.\n",
    "\n",
    "    This function uses nested functions for the creation of the quantum circuit. When called, \n",
    "    it instantiates the QAOA circuit for the input graph and outputs a QAOA cost function. \n",
    "    Such function, given some parameters, evaluates the MaxCut cost function for the given graph.\n",
    "\n",
    "    Args:\n",
    "        graph (networkx.classes.graph.Graph): a graph generated with Networkx\n",
    "        n_layers (int): number of repetitions in the QAOA ansatz\n",
    "    \n",
    "    Returns:\n",
    "        hamiltonian (function): A function which, given some parameters as input, evaluates the MaxCut QAOA \n",
    "        cost function for the specified graph.\n",
    "    \"\"\"\n",
    "        \n",
    "    # Number of qubits (wires) equal to the number of nodes in the graph\n",
    "    wires = range(len(graph.nodes))\n",
    "    \n",
    "    # Define the structure of the cost and mixer subcircuits specifically for the MaxCut problem\n",
    "    cost_h, mixer_h = qaoa.maxcut(graph)   \n",
    "    \n",
    "    # Defines a layer of the QAOA ansatz from the cost and mixer Hamiltonians\n",
    "    def qaoa_layer(gamma, alpha):\n",
    "        qaoa.cost_layer(gamma, cost_h)\n",
    "        qaoa.mixer_layer(alpha, mixer_h)\n",
    "       \n",
    "    # Creates the actual quantum circuit for the QAOA algorithm\n",
    "    def circuit(params, **kwargs): \n",
    "        for w in wires:\n",
    "            qml.Hadamard(wires=w)\n",
    "        qml.layer(qaoa_layer, n_layers, params[0], params[1])\n",
    "     \n",
    "    # Evaluates the cost Hamiltonian\n",
    "    def hamiltonian(params, **kwargs):\n",
    "        \"\"\"Evaluate the MaxCut cost of the QAOA, given the angles for the circuit and the specified graph. \n",
    "        \n",
    "        Args:\n",
    "            params (list): List of angles for the QAOA circuit, with shape (n_layers x 2). \n",
    "                params has the shape [angles_1, ..., angles_(n_layers)], where angles_i = [alphas_i, gammas_i].\n",
    "        \n",
    "        Returns:\n",
    "            cost (function): Cost Hamiltonian evaluated with the input angles\n",
    "        \"\"\"\n",
    "        # We set the default.qubit.tf device for seamless integration with TensorFlow\n",
    "        dev = qml.device('default.qubit.tf', wires=len(graph.nodes))\n",
    "        \n",
    "        # ExpvalCost evaluates the expectation value of an operator\n",
    "        cost = qml.ExpvalCost(circuit, cost_h, dev, interface=\"tf\",  diff_method = \"backprop\")\n",
    "        \n",
    "        return cost(params)\n",
    "    \n",
    "    return hamiltonian"
   ]
  },
  {
   "cell_type": "markdown",
   "metadata": {},
   "source": [
    "Before moving on, let's see how to use these functions."
   ]
  },
  {
   "cell_type": "code",
   "execution_count": 7,
   "metadata": {
    "scrolled": true
   },
   "outputs": [
    {
     "data": {
      "text/plain": [
       "<tf.Tensor: shape=(1,), dtype=float64, numpy=array([-3.19326796])>"
      ]
     },
     "execution_count": 7,
     "metadata": {},
     "output_type": "execute_result"
    }
   ],
   "source": [
    "# Create an instance of a QAOA circuit given a graph.\n",
    "cost = qaoa_from_graph(graph = graphs[0], n_layers = 1)\n",
    "\n",
    "# Define some paramenters\n",
    "# Since we use only one layer in QAOA, params have the shape 1 x 2, in the form [[alpha, gamma]].\n",
    "# If not specificed, TensorFlow converts Python floating point numbers to tf.float32. \n",
    "x = tf.Variable([[0.5], [0.5]], dtype = tf.float32)\n",
    "\n",
    "# Evaluate th QAOA instance just created with some angles.\n",
    "cost(x)"
   ]
  },
  {
   "cell_type": "markdown",
   "metadata": {},
   "source": [
    "Now we optimize the parameters to reduce the cost function `cost`. We can do this using `tf.GradientTape()`, which works directly thanks to PennyLane's seamless integration with TensorFlow when using the `default.qubit.tf` device. \n",
    "\n",
    "> We use the `Adam` optimizer for its ease of use and good performances on most optimization problems. Feel free to try other optimizers too."
   ]
  },
  {
   "cell_type": "code",
   "execution_count": 8,
   "metadata": {
    "scrolled": true
   },
   "outputs": [
    {
     "name": "stdout",
     "output_type": "stream",
     "text": [
      "Step 1 - Loss = [-3.19326796]\n",
      "Step 2 - Loss = [-3.82155533]\n",
      "Step 3 - Loss = [-4.64066003]\n",
      "Step 4 - Loss = [-5.35547035]\n",
      "Step 5 - Loss = [-5.68578276]\n",
      "Step 6 - Loss = [-5.65524931]\n",
      "Step 7 - Loss = [-5.60867761]\n",
      "Step 8 - Loss = [-5.70526933]\n",
      "Step 9 - Loss = [-5.90673464]\n",
      "Step 10 - Loss = [-6.13248962]\n",
      "Step 11 - Loss = [-6.32379863]\n",
      "Step 12 - Loss = [-6.47240742]\n",
      "Step 13 - Loss = [-6.61170083]\n",
      "Step 14 - Loss = [-6.77039115]\n",
      "Step 15 - Loss = [-6.93776967]\n",
      "\n",
      "Final cost function: [-7.07072686]\n",
      "Optimized angles: [[0.53574044]\n",
      " [1.2945652 ]]\n"
     ]
    }
   ],
   "source": [
    "x = tf.Variable([[0.5], [0.5]], dtype = tf.float32)\n",
    "\n",
    "# Select an optimizer\n",
    "opt = tf.keras.optimizers.Adam(learning_rate=0.1)\n",
    "\n",
    "# Choose the number of optimization steps\n",
    "step = 15\n",
    "\n",
    "# Start of optimization (or training)\n",
    "for _ in range(step):\n",
    "    with tf.GradientTape() as tape:\n",
    "        loss = cost(x)\n",
    "        \n",
    "    gradients = tape.gradient(loss, [x])\n",
    "    opt.apply_gradients(zip(gradients, [x]))\n",
    "    print(f\"Step {_+1} - Loss = {loss}\")\n",
    "    \n",
    "print(f\"\\nFinal cost function: {cost(x).numpy()}\\nOptimized angles: {x.numpy()}\")"
   ]
  },
  {
   "cell_type": "markdown",
   "metadata": {},
   "source": [
    "As you can see, the loss function is correctly minimized throughout the optimization process, which eventually yields an optimal value for the angles in the QAOA ansatz. \n",
    "\n",
    "---"
   ]
  },
  {
   "cell_type": "markdown",
   "metadata": {},
   "source": [
    "### Recurrent Neural Network: LSTM  \n",
    "\n",
    "So far, we have defined the machinery which lets us build the QAOA algorithm for solving the MaxCut problem of a graph.  \n",
    "Now we wish to implement the Recurrent Neural Network architecture explained previously. In particular, as proposed in the original paper, we will build a custom model of an LSTM (Long-Short Term Memory) network, capable of handling the hybrid data passing between classical and quantum procedures. For this task, we will use `Keras` and `TensorFlow`.  "
   ]
  },
  {
   "cell_type": "markdown",
   "metadata": {},
   "source": [
    "First of all, let's define the elemental building block of the model, that is an LSTM cell (see [TensorFlow documentation](https://www.tensorflow.org/api_docs/python/tf/keras/layers/LSTMCell) for further details)."
   ]
  },
  {
   "cell_type": "code",
   "execution_count": 9,
   "metadata": {},
   "outputs": [],
   "source": [
    "# Number of layers in QAOA ansatz. The higher the better in terms of performance, \n",
    "# but it also gets more computationally hard. For simplicity, we will stick to the single layer case.\n",
    "n_layers = 1\n",
    "\n",
    "# Define a single LSTM cell. The cell has two units per layer\n",
    "# since each layer in the QAOA ansatz make use of two angles (parameters). \n",
    "cell = tf.keras.layers.LSTMCell(2*n_layers)"
   ]
  },
  {
   "cell_type": "markdown",
   "metadata": {},
   "source": [
    "Using the `qaoa_from_graph` function, we create a list `graph_cost_list` containing the cost functions of a set of graphs. You can see this as a preprocessing step of the data."
   ]
  },
  {
   "cell_type": "code",
   "execution_count": 10,
   "metadata": {},
   "outputs": [],
   "source": [
    "# We create the QAOA MaxCut cost functions of some graphs\n",
    "graph_cost_list = [qaoa_from_graph(g) for g in graphs]"
   ]
  },
  {
   "cell_type": "markdown",
   "metadata": {},
   "source": [
    "At this stage, we seek to reproduce the recurrent behavior depicted in the picture above, outlining the functioning of RNN as a black-box optimizer. We do so by defining two functions:   \n",
    "- `rnn_iteration`: accounts for the computations happening on a single time step in the figure, that is it performs the calculation inside the CPU and evaluates the quantum circuit on the QPU to obtain the loss function for the current parameters.\n",
    "- `recurrent_loop`: as the name suggests, it accounts for the creation of the recurrent loop of the model. In particular, it makes consecutive calls to the `rnn_iteration` function, where the outputs of a previous call are fed as inputs of the next call. "
   ]
  },
  {
   "cell_type": "code",
   "execution_count": 11,
   "metadata": {},
   "outputs": [],
   "source": [
    "def rnn_iteration(inputs, graph_cost, n_layers = 1):\n",
    "    \"\"\"Perform a single time step in the computational graph of the custom RNN. \n",
    "    \n",
    "    The function takes as inputs, the outputs from a previous time step and a graph cost function, \n",
    "    and then goes through the Keras' LSTM cell. Its output is used to evaluate the QAOA MaxCut cost function. \n",
    "    \n",
    "    Args:\n",
    "        inputs (list): List of inputs coming from the previous timestep: cost function, parameters, first LSTM hidden state,\n",
    "            second LSTM hidden state. \n",
    "        graph_cost (function): Cost function of a graph coming from the qaoa_from_graph function\n",
    "    \n",
    "    Returns:\n",
    "        list: A list containing new values for the cost, parameters, and hidden states. \n",
    "    \"\"\"\n",
    "    # Unpack the input list containing the previous cost, parameters, and hidden states (denoted as 'h' and 'c').\n",
    "    prev_cost = inputs[0]\n",
    "    prev_params = inputs[1]\n",
    "    prev_h = inputs[2]\n",
    "    prev_c = inputs[3]\n",
    "    \n",
    "    # Concatenate the previous parameters and previous cost to create new input\n",
    "    new_input = tf.keras.layers.concatenate([prev_cost, prev_params])\n",
    "        \n",
    "    # Call the LSTM cell, which outputs new values for the parameters along with new internal states h and c\n",
    "    new_params, [new_h, new_c] = cell(new_input, states = [prev_h, prev_c])\n",
    "             \n",
    "    # Reshape the parameters to correctly match those expected by PennyLane\n",
    "    _params = tf.reshape(new_params, shape = (2, n_layers))\n",
    "             \n",
    "    # Evaluate the cost using new angles \n",
    "    _cost = graph_cost(_params)\n",
    "    \n",
    "    # Reshape to be consistent with other tensors\n",
    "    new_cost = tf.reshape(tf.cast(_cost, dtype=tf.float32), shape = (1,1))\n",
    "    \n",
    "    return [new_cost, new_params, new_h, new_c] \n",
    "\n",
    "def recurrent_loop(graph_cost, n_layers = 1, intermediate_steps = False):\n",
    "    \"\"\"Creates the recurrent loop for the Recurrent Neural Network.\n",
    "    \n",
    "    The recurrent loops are created manually by connecting consecutive iterations calls \n",
    "    to the custom LSTM model created in `rnn_iteration`.\n",
    "    \n",
    "    Args:\n",
    "        graph_cost (function): Cost function of a graph coming from the qaoa_from_graph function\n",
    "        intermediate_steps (bool): Boolean flag, set to True if you wish to store values from intermediate iterations\n",
    "\n",
    "    Returns:\n",
    "        loss (tf.Tensor): Loss function driving the minimization process\n",
    "    \"\"\"\n",
    "    # Initialize starting all inputs (cost, parameters, hidden states) as zeros.\n",
    "    initial_cost = tf.zeros(shape = (1, 1))\n",
    "    initial_params = tf.zeros(shape = (1, 2*n_layers))\n",
    "    initial_h = tf.zeros(shape = (1, 2*n_layers))\n",
    "    initial_c = tf.zeros(shape = (1, 2*n_layers))\n",
    "    \n",
    "    # We perform five consecutive calls to 'rnn_iteration', thus creating the recurrent loop.\n",
    "    # More iterations lead to better results, at the cost of more computationally intensive simulations.\n",
    "    out0 = rnn_iteration([initial_cost, initial_params, initial_h, initial_c], graph_cost)\n",
    "    out1 = rnn_iteration(out0, graph_cost)\n",
    "    out2 = rnn_iteration(out1, graph_cost)\n",
    "    out3 = rnn_iteration(out2, graph_cost)\n",
    "    out4 = rnn_iteration(out3, graph_cost)\n",
    "    \n",
    "    # This cost function takes into account the cost from all iteration, but using different weights. \n",
    "    loss = tf.keras.layers.average([0.1 * out0[0], 0.2 * out1[0], 0.3 * out2[0], 0.4 * out3[0], 0.5 * out4[0]])\n",
    "    \n",
    "    if intermediate_steps:\n",
    "        return [out0[1], out1[1], out2[1], out3[1], out4[1], loss]\n",
    "    else:\n",
    "        return loss"
   ]
  },
  {
   "cell_type": "markdown",
   "metadata": {},
   "source": [
    "#### The cost function\n",
    "A key part in the `recurrent_loop` function, is given by the definition of the variable `loss`. In order to drive the learning procedure of the weights in the LSTM cell, a cost function is needed. While in the original paper the authors suggest to use a measure called *observed improvement*, for simplicity here we use an easier cost function $\\cal{L}(\\phi)$ defined as:  \n",
    "\n",
    "$$\\cal{L}(\\phi) = {\\bf w} \\cdot {\\bf y}_t(\\phi)$$\n",
    "\n",
    "where ${\\bf y}_t(\\phi) = (y_1, \\cdots, y_5)$ contains the Hamiltonian cost functions from all iterations, and ${\\bf w}$ are just some coefficients weighting the different steps in the recurrent loop. In this case, we used ${\\bf w}=(0.1, 0.2, 0.3, 0.4, 0.5)$, to give more importance to the last steps rather than the initial steps. Intuitively in this way the RNN is more free (low coefficient) to explore a larger portion of parameter space during the first steps of optimization, while it is constrained (high coefficient) to select an optimal solution towards the end of the procedure.\n",
    "Note that one could also use just the final cost function from the last iteration to drive the training procedure of the RNN. However, using values also from intermediate steps allows for a smoother suggestion routine, since even non-optimal parameter suggestions from early steps are penalized using $\\cal{L}(\\phi)$.  \n",
    "\n",
    "---"
   ]
  },
  {
   "cell_type": "markdown",
   "metadata": {},
   "source": [
    "### Training\n",
    "\n",
    "Now all the cards are on the table and we just need to prepare a training routine and then run it!\n",
    "\n",
    "First of all, let's wrap a single gradient descent step inside a custom function `train_step`."
   ]
  },
  {
   "cell_type": "code",
   "execution_count": 12,
   "metadata": {},
   "outputs": [],
   "source": [
    "def train_step(graph_cost):\n",
    "    \"\"\"Single optimization step in the training procedure. \n",
    "    \n",
    "    Given the cost/circuit of a graph, it evaluates the corresponding loss and eventually \n",
    "    computes the gradients and update the prameters.\n",
    "    \n",
    "    Args:\n",
    "        graph_cost (function): cost function of a graph coming from the qaoa_from_graph function\n",
    "    \n",
    "    Returns:\n",
    "        loss (tf.Tensor): loss for the specified graph, for the current values of the parameters\n",
    "    \"\"\"\n",
    "    with tf.GradientTape() as tape:\n",
    "        # Evaluates the cost function\n",
    "        loss = recurrent_loop(graph_cost)\n",
    "        \n",
    "    # Evaluates gradients, cell is the LSTM cell defined previously\n",
    "    grads = tape.gradient(loss, cell.trainable_weights)\n",
    "    \n",
    "    # Apply gradients and update the weights of the LSTM cell\n",
    "    opt.apply_gradients(zip(grads, cell.trainable_weights))\n",
    "    return loss"
   ]
  },
  {
   "cell_type": "markdown",
   "metadata": {},
   "source": [
    "We are now ready to start the training. In particular, we will perform a stochastic gradient descent in the parameter space of the weights of the LSTM cell. For each graph in the training set, we evaluate gradients and update the weights accordingly. Then, we repeat this procedure for multiple times (epochs).\n",
    "\n",
    "> For a QAOA ansatz using one single layer, and for a training set of 20 graphs, each epoch takes approximately ~1m to run on a standard laptop. Be careful when using bigger dataset or training for larger epochs."
   ]
  },
  {
   "cell_type": "code",
   "execution_count": 13,
   "metadata": {},
   "outputs": [
    {
     "name": "stdout",
     "output_type": "stream",
     "text": [
      "Epoch 1\n",
      " > Graph 1/20 - Loss: -1.6641689538955688\n",
      " > Graph 6/20 - Loss: -1.4186843633651733\n",
      " > Graph 11/20 - Loss: -1.3757232427597046\n",
      " > Graph 16/20 - Loss: -1.294339656829834\n",
      " >> Mean Loss during epoch: -1.7352586269378663\n",
      "Epoch 2\n",
      " > Graph 1/20 - Loss: -2.119091749191284\n",
      " > Graph 6/20 - Loss: -1.4789190292358398\n",
      " > Graph 11/20 - Loss: -1.3779840469360352\n",
      " > Graph 16/20 - Loss: -1.2963457107543945\n",
      " >> Mean Loss during epoch: -1.8252217948436738\n",
      "Epoch 3\n",
      " > Graph 1/20 - Loss: -2.1322619915008545\n",
      " > Graph 6/20 - Loss: -1.459418535232544\n",
      " > Graph 11/20 - Loss: -1.390620470046997\n",
      " > Graph 16/20 - Loss: -1.3165746927261353\n",
      " >> Mean Loss during epoch: -1.8328069806098939\n",
      "Epoch 4\n",
      " > Graph 1/20 - Loss: -2.1432175636291504\n",
      " > Graph 6/20 - Loss: -1.476362943649292\n",
      " > Graph 11/20 - Loss: -1.3938289880752563\n",
      " > Graph 16/20 - Loss: -1.3140206336975098\n",
      " >> Mean Loss during epoch: -1.8369774043560028\n",
      "Epoch 5\n",
      " > Graph 1/20 - Loss: -2.1429405212402344\n",
      " > Graph 6/20 - Loss: -1.477513074874878\n",
      " > Graph 11/20 - Loss: -1.3909202814102173\n",
      " > Graph 16/20 - Loss: -1.315887689590454\n",
      " >> Mean Loss during epoch: -1.8371947884559632\n"
     ]
    }
   ],
   "source": [
    "# Select an optimizer \n",
    "opt = tf.keras.optimizers.Adam(learning_rate=0.1)\n",
    "\n",
    "# Set the number of training epochs\n",
    "epochs = 5\n",
    "\n",
    "for epoch in range(epochs):\n",
    "    print(f\"Epoch {epoch+1}\")\n",
    "    total_loss = np.array([])\n",
    "    for i, graph_cost in enumerate(graph_cost_list):\n",
    "        loss = train_step(graph_cost)\n",
    "        total_loss = np.append(total_loss, loss.numpy())\n",
    "        # Log every 5 batches.\n",
    "        if i % 5 == 0:\n",
    "            print(f\" > Graph {i+1}/{len(graph_cost_list)} - Loss: {loss[0][0]}\")\n",
    "    print(f\" >> Mean Loss during epoch: {np.mean(total_loss)}\")"
   ]
  },
  {
   "cell_type": "markdown",
   "metadata": {},
   "source": [
    "As you can see, the Loss for each graph keeps decreasing across epochs, indicating that the training routine is working correctly.  \n",
    "\n",
    "---"
   ]
  },
  {
   "cell_type": "markdown",
   "metadata": {},
   "source": [
    "### Results"
   ]
  },
  {
   "cell_type": "markdown",
   "metadata": {},
   "source": [
    "Let's see how to use the optimized RNN as an initializer for the angles in the QAOA algorithm. \n",
    "\n",
    "First, we pick a new graph, not present in the training dataset:"
   ]
  },
  {
   "cell_type": "code",
   "execution_count": 14,
   "metadata": {},
   "outputs": [
    {
     "data": {
      "image/png": "[encoded data removed]",
      "text/plain": [
       "<Figure size 432x288 with 1 Axes>"
      ]
     },
     "metadata": {},
     "output_type": "display_data"
    }
   ],
   "source": [
    "new_graph = nx.gnp_random_graph(7, p = 3/7)\n",
    "new_cost = qaoa_from_graph(new_graph)\n",
    "\n",
    "nx.draw(new_graph)"
   ]
  },
  {
   "cell_type": "markdown",
   "metadata": {},
   "source": [
    "Then we apply the trained RNN to this new graph, saving intermediate results coming from all the recurrent iterations in the network."
   ]
  },
  {
   "cell_type": "code",
   "execution_count": 15,
   "metadata": {},
   "outputs": [],
   "source": [
    "# Apply the RNN (be sure that training was performed)\n",
    "res = recurrent_loop(new_cost, intermediate_steps = True)\n",
    "\n",
    "# Extract all angle suggestions\n",
    "start_zeros = tf.zeros(shape = (2*n_layers, 1))\n",
    "guess_0 = res[0]\n",
    "guess_1 = res[1]\n",
    "guess_2 = res[2]\n",
    "guess_3 = res[3]\n",
    "guess_4 = res[4]\n",
    "final_loss = res[5]\n",
    "\n",
    "# Wrap them into a list\n",
    "guesses = [start_zeros, guess_0, guess_1, guess_2, guess_3, guess_4]\n",
    "\n",
    "# Losses from the hybrid LSTM model\n",
    "lstm_losses = [new_cost(tf.reshape(guess, shape = (2, n_layers))) for guess in guesses]"
   ]
  },
  {
   "cell_type": "markdown",
   "metadata": {},
   "source": [
    "#### Plot of the loss function\n",
    "\n",
    "We can plot these losses to see how well the RNN propose new guesses for the parameters."
   ]
  },
  {
   "cell_type": "code",
   "execution_count": 16,
   "metadata": {
    "scrolled": true
   },
   "outputs": [
    {
     "data": {
      "image/png": "[encoded data removed]",
      "text/plain": [
       "<Figure size 432x288 with 1 Axes>"
      ]
     },
     "metadata": {
      "needs_background": "light"
     },
     "output_type": "display_data"
    }
   ],
   "source": [
    "fig, ax = plt.subplots()\n",
    "\n",
    "plt.plot(lstm_losses, color = \"blue\", lw = 3, ls = \"-.\", label=\"LSTM\")\n",
    "\n",
    "plt.grid(ls = \"--\", lw = 2, alpha = 0.25)\n",
    "plt.ylabel(\"Cost function\", fontsize = 12)\n",
    "plt.xlabel(\"Iteration\", fontsize = 12)\n",
    "plt.legend()\n",
    "ax.set_xticks([0,5,10,15,20]);"
   ]
  },
  {
   "cell_type": "markdown",
   "metadata": {},
   "source": [
    "#### Comparison with standard Stochastic Gradient Descent (SGD)\n",
    "\n",
    "That's remarkable! The RNN learned to propose new parameters such that the MaxCut cost is minimized very rapidly: in just few iterations the loss reaches a minimum — actually, just after one single step, the LSTM finds a very good minimum. But how well does this method compare with standard optimization techniques, for example, leveraging Stochastic Gradient Descent (SGD) to optimize the parameters in the QAOA?  \n",
    "\n",
    "Let's check it out. "
   ]
  },
  {
   "cell_type": "code",
   "execution_count": 17,
   "metadata": {},
   "outputs": [
    {
     "name": "stdout",
     "output_type": "stream",
     "text": [
      "Step 1 - Loss = [-4.1700805]\n",
      "Step 2 - Loss = [-4.67503588]\n",
      "Step 3 - Loss = [-5.09949909]\n",
      "Step 4 - Loss = [-5.40388533]\n",
      "Step 5 - Loss = [-5.59529203]\n",
      "Step 6 - Loss = [-5.70495197]\n",
      "Step 7 - Loss = [-5.7642561]\n",
      "Step 8 - Loss = [-5.79533198]\n",
      "Step 9 - Loss = [-5.81138752]\n",
      "Step 10 - Loss = [-5.81966529]\n",
      "Step 11 - Loss = [-5.82396722]\n",
      "Step 12 - Loss = [-5.82624537]\n",
      "Step 13 - Loss = [-5.82749126]\n",
      "Step 14 - Loss = [-5.82820626]\n",
      "Step 15 - Loss = [-5.82864379]\n",
      "Final cost function: [-5.78429065]\n",
      "Optimized angles: [[0.53574044]\n",
      " [1.2945652 ]]\n"
     ]
    }
   ],
   "source": [
    "# Parameters are randomly initialized\n",
    "x0 = tf.Variable(np.random.rand(2,1))\n",
    "\n",
    "# We set the optimizer to be a Stochastic Gradient Descent\n",
    "opt = tf.keras.optimizers.SGD(learning_rate=0.01)\n",
    "step = 15\n",
    "\n",
    "# Training process\n",
    "steps = []\n",
    "sdg_losses = []\n",
    "for _ in range(step):\n",
    "    with tf.GradientTape() as tape:\n",
    "        loss = new_cost(x0)\n",
    "        \n",
    "    steps.append(x0)\n",
    "    sdg_losses.append(loss)\n",
    "    \n",
    "    gradients = tape.gradient(loss, [x0])\n",
    "    opt.apply_gradients(zip(gradients, [x0]))\n",
    "    print(f\"Step {_+1} - Loss = {loss}\")\n",
    "    \n",
    "print(f\"Final cost function: {new_cost(x).numpy()}\\nOptimized angles: {x.numpy()}\")"
   ]
  },
  {
   "cell_type": "code",
   "execution_count": 18,
   "metadata": {
    "scrolled": true
   },
   "outputs": [
    {
     "data": {
      "image/png": "[encoded data removed]",
      "text/plain": [
       "<Figure size 432x288 with 1 Axes>"
      ]
     },
     "metadata": {
      "needs_background": "light"
     },
     "output_type": "display_data"
    }
   ],
   "source": [
    "fig, ax = plt.subplots()\n",
    "\n",
    "plt.plot(sdg_losses, color = \"orange\", lw = 3, label=\"SGD\")\n",
    "\n",
    "plt.plot(lstm_losses, color = \"blue\", lw = 3, ls = \"-.\", label=\"LSTM\")\n",
    "\n",
    "plt.grid(ls = \"--\", lw = 2, alpha = 0.25)\n",
    "plt.legend()\n",
    "plt.ylabel(\"Cost function\", fontsize = 12)\n",
    "plt.xlabel(\"Iteration\", fontsize = 12)\n",
    "ax.set_xticks([0,5,10,15,20]);"
   ]
  },
  {
   "cell_type": "markdown",
   "metadata": {},
   "source": [
    "*Hurray!* 🎉🎉   \n",
    "As is it clear from the picture, the RNN reaches a better minimum in fewer (but comparable) iterations than the standard SGD (Stochastic Gradient Descent). Thus, as the authors suggest, the (trained) RNN can be used for few iterations at the start of the training procedure to initialize the parameters of the quantum circuit close to an optimal solution. Then, a standard optimizer like the SGD, can be used to fine-tune the proposed parameters and reach even better solutions.  \n",
    "While on this small scale example the benefits of using an LSTM to initialize parameters may seem modest, on more complicated instances and problems it can make a big difference, since, on random initialization of the parameters, standard local optimizer may encounter problems finding a good minimization direction (for further details, see [[1,4]](#1))."
   ]
  },
  {
   "cell_type": "markdown",
   "metadata": {},
   "source": [
    "#### Loss landscape in parameter space\n",
    "In addition, we can also plot the path suggested by the RNN in the space of the parameters. Note that this is possible only if one layer is used in the QAOA ansatz since in this case only two angles are needed and they can be plotted on a 2D plane. Of course, if more layers are used, you can always select a pair of them to reproduce a similar plot."
   ]
  },
  {
   "cell_type": "code",
   "execution_count": 19,
   "metadata": {},
   "outputs": [],
   "source": [
    "# Note: this cell takes approx. ~1m to run with an 11 by 11 grid\n",
    "\n",
    "# Evaluate the cost function on a grid in parameter space\n",
    "dx = dy = np.linspace(-1., 1., 11)\n",
    "dz = np.array([new_cost([[xx],[yy]]).numpy() for yy in dy for xx in dx])\n",
    "Z = dz.reshape((11,11))"
   ]
  },
  {
   "cell_type": "code",
   "execution_count": 20,
   "metadata": {},
   "outputs": [
    {
     "data": {
      "image/png": "[encoded data removed]",
      "text/plain": [
       "<Figure size 432x288 with 2 Axes>"
      ]
     },
     "metadata": {
      "needs_background": "light"
     },
     "output_type": "display_data"
    }
   ],
   "source": [
    "# Plot cost landscape\n",
    "plt.contourf(dx, dy, Z)\n",
    "plt.colorbar()\n",
    "\n",
    "# Extract optimizer steps\n",
    "params_x = [0.]+[res[i].numpy()[0,0] for i in range(len(res[:-1]))]\n",
    "params_y = [0.]+[res[i].numpy()[0,1] for i in range(len(res[:-1]))]\n",
    "\n",
    "# Plot steps\n",
    "plt.plot(params_x, params_y, linestyle = \"--\", color = \"red\", marker = \"x\")\n",
    "\n",
    "plt.yticks(np.linspace(-1,1,5))\n",
    "plt.xticks(np.linspace(-1,1,5))\n",
    "plt.xlabel(r\"$\\alpha$\", fontsize = 12)\n",
    "plt.ylabel(r\"$\\gamma$\", fontsize = 12)\n",
    "plt.title(\"Loss Landscape\", fontsize = 12)\n",
    "plt.show()"
   ]
  },
  {
   "cell_type": "markdown",
   "metadata": {},
   "source": [
    "--- \n",
    "\n",
    "### Generalization performances"
   ]
  },
  {
   "cell_type": "markdown",
   "metadata": {},
   "source": [
    "A very interesting feature of this model, is that it can be straightforwardly applied to graphs having different number of nodes. In fact, until now our analysis focused only on graphs with the same number of nodes for ease of explanation, and there is no actual restriction in this respect. The same machinery works fine for any graph, since the number of QAOA parameters are only dependent on the number of layers in the ansatz, and not on the number of qubits (equal to the number of nodes in the graph) in the quantum circuit. \n",
    "\n",
    "Thus, we might want to challenge our model to learn a good initialization heuristic for a non-specific graph, with an arbitrary number of nodes. For this purpose, let's create a training dataset containing graphs with a different number of nodes $n$, taken in the interval $n \\in [7,9]$ (that is, our dataset now contains graphs having either 7, 8 and 9 nodes)."
   ]
  },
  {
   "cell_type": "code",
   "execution_count": 21,
   "metadata": {},
   "outputs": [],
   "source": [
    "cell2 = tf.keras.layers.LSTMCell(2*n_layers)\n",
    "\n",
    "g7 = generate_graphs(5, 7, 3/7)\n",
    "g8 = generate_graphs(5, 8, 3/7)\n",
    "g9 = generate_graphs(5, 9, 3/7)\n",
    "\n",
    "gs = g7+g8+g9\n",
    "gs_cost_list = [qaoa_from_graph(g) for g in gs]\n",
    "\n",
    "# Shuffle the dataset\n",
    "import random\n",
    "random.shuffle(gs_cost_list)"
   ]
  },
  {
   "cell_type": "markdown",
   "metadata": {},
   "source": [
    "So far, we created an equally balanced dataset that contains graphs with different number of nodes. We now use this dataset to train the LSTM."
   ]
  },
  {
   "cell_type": "code",
   "execution_count": 22,
   "metadata": {},
   "outputs": [
    {
     "name": "stdout",
     "output_type": "stream",
     "text": [
      "Epoch 1\n",
      " > Graph 1/15 - Loss: [[-2.3892174]]\n",
      " > Graph 6/15 - Loss: [[-2.1072261]]\n",
      " > Graph 11/15 - Loss: [[-1.957976]]\n",
      " >> Mean Loss during epoch: -2.0667606353759767\n",
      "Epoch 2\n",
      " > Graph 1/15 - Loss: [[-2.3797882]]\n",
      " > Graph 6/15 - Loss: [[-2.2293403]]\n",
      " > Graph 11/15 - Loss: [[-1.9649515]]\n",
      " >> Mean Loss during epoch: -2.117209537823995\n",
      "Epoch 3\n",
      " > Graph 1/15 - Loss: [[-2.3686786]]\n",
      " > Graph 6/15 - Loss: [[-2.2524612]]\n",
      " > Graph 11/15 - Loss: [[-1.9757932]]\n",
      " >> Mean Loss during epoch: -2.1220582803090413\n"
     ]
    }
   ],
   "source": [
    "# Select an optimizer \n",
    "opt = tf.keras.optimizers.Adam(learning_rate=0.1)\n",
    "\n",
    "# Set the number of training epochs\n",
    "epochs = 3\n",
    "\n",
    "for epoch in range(epochs):\n",
    "    print(f\"Epoch {epoch+1}\")\n",
    "    total_loss = np.array([])\n",
    "    for i, graph_cost in enumerate(gs_cost_list):\n",
    "        loss = train_step(graph_cost)\n",
    "        total_loss = np.append(total_loss, loss.numpy())\n",
    "        # Log every 5 batches.\n",
    "        if i % 5 == 0:\n",
    "            print(f\" > Graph {i+1}/{len(gs_cost_list)} - Loss: {loss}\")\n",
    "    print(f\" >> Mean Loss during epoch: {np.mean(total_loss)}\")"
   ]
  },
  {
   "cell_type": "markdown",
   "metadata": {},
   "source": [
    "#### Generalization performances"
   ]
  },
  {
   "cell_type": "markdown",
   "metadata": {},
   "source": [
    "Let's check if this hybrid model eventually learned a good heuristic to propose new updates for the parameters in the QAOA ansatz of the MaxCut problem.  \n",
    "  \n",
    "\n",
    "For this reason, we consider a new graph. In particular, we can take a graph with 10 nodes, which is something that the recurrent network has not seen before."
   ]
  },
  {
   "cell_type": "code",
   "execution_count": 23,
   "metadata": {},
   "outputs": [
    {
     "data": {
      "image/png": "[encoded data removed]",
      "text/plain": [
       "<Figure size 432x288 with 1 Axes>"
      ]
     },
     "metadata": {},
     "output_type": "display_data"
    }
   ],
   "source": [
    "new_graph = nx.gnp_random_graph(10, p = 3/7)\n",
    "new_cost = qaoa_from_graph(new_graph)\n",
    "\n",
    "nx.draw(new_graph)"
   ]
  },
  {
   "cell_type": "markdown",
   "metadata": {},
   "source": [
    "We call the trained recurrent LSTM on this graph, saving not only the last, but all intermediate guesses for the parameters. "
   ]
  },
  {
   "cell_type": "code",
   "execution_count": 24,
   "metadata": {},
   "outputs": [],
   "source": [
    "res = recurrent_loop(new_cost, intermediate_steps = True)\n",
    "\n",
    "# Extract all angle suggestions\n",
    "start_zeros = tf.zeros(shape = (2*n_layers, 1))\n",
    "guess_0 = res[0]\n",
    "guess_1 = res[1]\n",
    "guess_2 = res[2]\n",
    "guess_3 = res[3]\n",
    "guess_4 = res[4]\n",
    "final_loss = res[5]\n",
    "\n",
    "# Wrap them into a list\n",
    "guesses = [start_zeros, guess_0, guess_1, guess_2, guess_3, guess_4]\n",
    "\n",
    "# Losses from the hybrid LSTM model\n",
    "lstm_losses = [new_cost(tf.reshape(guess, shape = (2, n_layers))) for guess in guesses]"
   ]
  },
  {
   "cell_type": "code",
   "execution_count": 25,
   "metadata": {
    "scrolled": true
   },
   "outputs": [
    {
     "data": {
      "image/png": "[encoded data removed]",
      "text/plain": [
       "<Figure size 432x288 with 1 Axes>"
      ]
     },
     "metadata": {
      "needs_background": "light"
     },
     "output_type": "display_data"
    }
   ],
   "source": [
    "fig, ax = plt.subplots()\n",
    "\n",
    "plt.plot(lstm_losses, color = \"blue\", lw = 3, ls = \"-.\", label=\"LSTM\")\n",
    "\n",
    "plt.grid(ls = \"--\", lw = 2, alpha = 0.25)\n",
    "plt.legend()\n",
    "plt.ylabel(\"Cost function\", fontsize = 12)\n",
    "plt.xlabel(\"Iteration\", fontsize = 12)\n",
    "ax.set_xticks([0,5,10,15,20]);"
   ]
  },
  {
   "cell_type": "markdown",
   "metadata": {},
   "source": [
    "See that the custom optimizer based on the LSTM quickly reaches a good value of the loss function, much faster than  standard stochastic gradient descent.  \n",
    "\n",
    "To get the optimized weights of the LSTM use:"
   ]
  },
  {
   "cell_type": "code",
   "execution_count": 26,
   "metadata": {},
   "outputs": [
    {
     "name": "stdout",
     "output_type": "stream",
     "text": [
      "Trained LSTM weights:\n",
      "\n"
     ]
    },
    {
     "data": {
      "text/plain": [
       "[array([[-0.7376077 , -1.1101236 , -1.0129981 , -0.99815595, -1.3686112 ,\n",
       "          1.0585576 ,  0.05369393, -0.00978925],\n",
       "        [ 0.01871599,  0.05814846,  0.08489752,  0.7269866 , -0.00381951,\n",
       "         -0.60114694, -0.49916103, -0.00289286],\n",
       "        [-1.1315999 , -0.44949213, -0.21226467, -0.85746855, -0.1839902 ,\n",
       "          0.73502725, -0.06100825,  1.0624388 ]], dtype=float32),\n",
       " array([[ 0.4672368 ,  0.66579676,  0.10499239,  0.22465926,  0.31523764,\n",
       "         -1.4863725 , -0.8446547 , -0.8977875 ],\n",
       "        [-0.7462862 , -0.5458552 , -0.09516533, -0.35871622, -0.9762555 ,\n",
       "          0.7245814 , -0.16661918,  1.1168702 ]], dtype=float32),\n",
       " array([ 2.8783693 ,  1.0010815 ,  1.5721463 ,  1.6766872 ,  2.834282  ,\n",
       "        -1.7745968 ,  1.1729774 ,  0.32245708], dtype=float32)]"
      ]
     },
     "execution_count": 26,
     "metadata": {},
     "output_type": "execute_result"
    }
   ],
   "source": [
    "optimized_weights = cell.get_weights()\n",
    "print(\"Trained LSTM weights:\\n\")\n",
    "optimized_weights"
   ]
  },
  {
   "cell_type": "markdown",
   "metadata": {},
   "source": [
    "To set initial weights for the LSTM cell, use instead: `cell.set_weights(optimized_weights)`."
   ]
  },
  {
   "cell_type": "markdown",
   "metadata": {},
   "source": [
    "---  \n",
    "\n",
    "### Final remarks  \n",
    "\n",
    "#### Summary\n",
    "In this tutorial we saw how to use a recurrent neural network, an LSTM in particular, as a black-box optimizer to initialize the parameters in a variational quantum circuit close to an optimal solution. In order to do that, we connected MaxCut QAOA quantum circuits built in PennyLane with an LSTM built with TensorFlow, and we used a custom hybrid training routine to optimize the whole network.  \n",
    "\n",
    "Such architecture proved itself to be a good candidate for the initialization problem of Variational Quantum Algorithms, since it reaches good optimal solutions in very few iterations. Besides, the architecture is quite general, since the same machinery can be used for graphs having a generic number of nodes.\n",
    "\n",
    "#### What's next? \n",
    "But the story does not end here. There are multiple ways this work could be improved. Here are a few:  \n",
    "\n",
    "- Use the proposed architecture for VQAs other than QAOA for MaxCut. You can check the paper [[1]](#1) to get some inspiration. \n",
    "- Scale up the simulation, using bigger graphs and longer recurrent loops. \n",
    "- While working correctly, the training routine is quite basic and it could be improved for example by implementing batch learning or a stopping criterion. Also, one could implement the `observed improvement` loss function, as used in the original paper [[1]](#1).\n",
    "- Depending on the problem, you may wish to transform the functions `rnn_iteration` and `recurrent_loop` to actual `Keras Layers` and `Models`. This way, by compiling the model before the training takes place, `TensorFlow` can create the computational graph of the model and train more efficiently. If you're interested, you can find some ideas below to start working on it.  \n",
    "\n",
    "If you have any doubt, or wish to discuss about the project don't hesitate to contact me, I'll be very happy to help you as much as I can 😁  \n",
    "\n",
    "Have a great quantum day!"
   ]
  },
  {
   "cell_type": "markdown",
   "metadata": {},
   "source": [
    "---  \n",
    "\n",
    "#### Ideas for creating a Keras Layer and Keras Model  \n",
    "\n",
    "Definition of a `Keras Layer` containing a single pass through the LSTM and the Quantum Circuit. That's equivalent to the function `rnn_iteration` from before."
   ]
  },
  {
   "cell_type": "code",
   "execution_count": 27,
   "metadata": {},
   "outputs": [],
   "source": [
    "class QRNN(tf.keras.layers.Layer):\n",
    "    def __init__(self, p = 1, graph = None):\n",
    "        super(QRNN, self).__init__()\n",
    "        # p is the number of layers in the QAOA ansatz\n",
    "        self.cell = tf.keras.layers.LSTMCell(2*p)\n",
    "        self.expectation = qaoa_from_graph(graph, n_layers = p)\n",
    "        self.qaoa_p = p\n",
    "\n",
    "    def call(self, inputs):\n",
    "        prev_cost = inputs[0]\n",
    "        prev_params = inputs[1]\n",
    "        prev_h = inputs[2]\n",
    "        prev_c = inputs[3]\n",
    "        \n",
    "        # Concatenate the previous parameters and previous cost to create new input\n",
    "        new_input = tf.keras.layers.concatenate([prev_cost, prev_params])\n",
    "        \n",
    "        # New parameters obtained by the LSTM cell, along with new internal states h and c\n",
    "        new_params, [new_h, new_c] = self.cell(new_input, states = [prev_h, prev_c])\n",
    "                \n",
    "        # This part is used to feed the parameters to the PennyLane function\n",
    "        _params = tf.reshape(new_params, shape = (2, self.qaoa_p))\n",
    "                \n",
    "        # Cost evaluation, and reshaping to be consistent with other Keras tensors\n",
    "        new_cost = tf.reshape(tf.cast(self.expectation(_params), \n",
    "                                      dtype=tf.float32),\n",
    "                              shape = (1,1))\n",
    "    \n",
    "        return [new_cost, new_params, new_h, new_c]"
   ]
  },
  {
   "cell_type": "markdown",
   "metadata": {},
   "source": [
    "Code for creating an actual `Keras Model` starting from the previous layer definition."
   ]
  },
  {
   "cell_type": "code",
   "execution_count": 28,
   "metadata": {},
   "outputs": [
    {
     "name": "stdout",
     "output_type": "stream",
     "text": [
      "Model: \"functional_1\"\n",
      "__________________________________________________________________________________________________\n",
      "Layer (type)                    Output Shape         Param #     Connected to                     \n",
      "==================================================================================================\n",
      "input_1 (InputLayer)            [(None, 1)]          0                                            \n",
      "__________________________________________________________________________________________________\n",
      "input_2 (InputLayer)            [(None, 2)]          0                                            \n",
      "__________________________________________________________________________________________________\n",
      "input_3 (InputLayer)            [(None, 2)]          0                                            \n",
      "__________________________________________________________________________________________________\n",
      "input_4 (InputLayer)            [(None, 2)]          0                                            \n",
      "__________________________________________________________________________________________________\n",
      "qrnn (QRNN)                     [(1, 1), (None, 2),  48          input_1[0][0]                    \n",
      "                                                                 input_2[0][0]                    \n",
      "                                                                 input_3[0][0]                    \n",
      "                                                                 input_4[0][0]                    \n",
      "                                                                 qrnn[0][0]                       \n",
      "                                                                 qrnn[0][2]                       \n",
      "                                                                 qrnn[0][2]                       \n",
      "                                                                 qrnn[0][3]                       \n",
      "                                                                 qrnn[1][0]                       \n",
      "                                                                 qrnn[1][2]                       \n",
      "                                                                 qrnn[1][2]                       \n",
      "                                                                 qrnn[1][3]                       \n",
      "__________________________________________________________________________________________________\n",
      "tf_op_layer_Mul (TensorFlowOpLa [(1, 1)]             0           qrnn[0][0]                       \n",
      "__________________________________________________________________________________________________\n",
      "tf_op_layer_Mul_1 (TensorFlowOp [(1, 1)]             0           qrnn[1][0]                       \n",
      "__________________________________________________________________________________________________\n",
      "tf_op_layer_Mul_2 (TensorFlowOp [(1, 1)]             0           qrnn[2][0]                       \n",
      "__________________________________________________________________________________________________\n",
      "average_147 (Average)           (1, 1)               0           tf_op_layer_Mul[0][0]            \n",
      "                                                                 tf_op_layer_Mul_1[0][0]          \n",
      "                                                                 tf_op_layer_Mul_2[0][0]          \n",
      "==================================================================================================\n",
      "Total params: 48\n",
      "Trainable params: 48\n",
      "Non-trainable params: 0\n",
      "__________________________________________________________________________________________________\n"
     ]
    }
   ],
   "source": [
    "_graph = nx.gnp_random_graph(7, p = 3/7)\n",
    "\n",
    "# Instantiate the LSTM cells\n",
    "rnn0 = QRNN(graph = _graph)\n",
    "\n",
    "# Create some input layers to feed the data\n",
    "inp_cost = tf.keras.layers.Input(shape = (1,))\n",
    "inp_params = tf.keras.layers.Input(shape = (2,))\n",
    "inp_h = tf.keras.layers.Input(shape = (2,))\n",
    "inp_c = tf.keras.layers.Input(shape = (2,))\n",
    "\n",
    "# Manually creating the recurrent loops. In this case just three iterations are used.\n",
    "out0 = rnn0([inp_cost, inp_params, inp_h, inp_c])\n",
    "out1 = rnn0(out0)\n",
    "out2 = rnn0(out1)\n",
    "\n",
    "# Definition of a loss function driving the training of the LSTM\n",
    "loss = tf.keras.layers.average([0.15 * out0[0], 0.35 * out1[0], 0.5 * out2[0]])\n",
    "\n",
    "# Definition of a Keras Model\n",
    "model = tf.keras.Model(inputs=[inp_cost, inp_params, inp_h, inp_c],\n",
    "                       outputs=[out0[1], out1[1], out2[1], loss])\n",
    "\n",
    "model.summary()"
   ]
  },
  {
   "cell_type": "markdown",
   "metadata": {},
   "source": [
    "A basic training routine for the `Keras Model` just created:"
   ]
  },
  {
   "cell_type": "code",
   "execution_count": 29,
   "metadata": {},
   "outputs": [
    {
     "name": "stdout",
     "output_type": "stream",
     "text": [
      "Step 1 - Loss = [[-2.014311]] - Cost = [-6.05823489]\n",
      "Step 2 - Loss = [[-2.0410357]] - Cost = [-6.1869224]\n",
      "Step 3 - Loss = [[-2.0691178]] - Cost = [-6.31767668]\n",
      "Step 4 - Loss = [[-2.099209]] - Cost = [-6.45284001]\n",
      "Step 5 - Loss = [[-2.1298494]] - Cost = [-6.58368088]\n",
      "Final Loss: [[-2.1298494]]\n",
      "Final Outs:\n",
      " >Step 1: [[-0.01035318 -0.00192326]]\n",
      " >Step 2: [[-0.06707703  0.19985358]]\n",
      " >Step 3: [[-0.10908641  0.37953332]]\n",
      " >Loss: [[-2.1298494]]\n"
     ]
    }
   ],
   "source": [
    "p = 1\n",
    "\n",
    "inp_costA = tf.zeros(shape = (1, 1))\n",
    "inp_paramsA = tf.zeros(shape = (1, 2*p))\n",
    "inp_hA = tf.zeros(shape = (1, 2*p))\n",
    "inp_cA = tf.zeros(shape = (1, 2*p))\n",
    "\n",
    "inputs = [inp_costA, inp_paramsA, inp_hA, inp_cA]\n",
    "\n",
    "opt = tf.keras.optimizers.Adam(learning_rate=0.01)\n",
    "step = 5\n",
    "\n",
    "for _ in range(step):\n",
    "    with tf.GradientTape() as tape:\n",
    "        pred = model(inputs)\n",
    "        loss = pred[3]\n",
    "            \n",
    "    gradients = tape.gradient(loss, model.trainable_variables)\n",
    "    opt.apply_gradients(zip(gradients, model.trainable_variables))\n",
    "    print(f\"Step {_+1} - Loss = {loss} - Cost = {qaoa_from_graph(_graph, n_layers=p)(np.reshape(pred[2].numpy(),(2, p)))}\")\n",
    "    \n",
    "print(\"Final Loss:\", loss.numpy())\n",
    "print(\"Final Outs:\")\n",
    "for t, s in zip(pred, [\"Step 1\",\"Step 2\",\"Step 3\",\"Loss\"]):\n",
    "    print(f\" >{s}: {t.numpy()}\")"
   ]
  },
  {
   "cell_type": "markdown",
   "metadata": {},
   "source": [
    "*NOTE:*  \n",
    "This code works only for a single graph at a time, since a graph was needed to create the `QRNN` `Keras Layer` named `rnn0`. Thus, in order to actually train the RNN network for multiple graphs, the above training routine must be modified. Otherwise, you could find a way to define the model to accept as input a whole dataset of graphs, and not just single one. Still, this might prove particularly hard, since `TensorFlow` deals with tensors, and is not able to directly manage other data structures, like graphs or functions taking graphs as input, like `qoao_from_graph`. "
   ]
  },
  {
   "cell_type": "markdown",
   "metadata": {},
   "source": [
    "---\n",
    "\n",
    "#### References\n",
    "<a id=\"1\">[1]</a> \n",
    "Verdon G., Broughton M., McClean J. R., Sung K. J., Babbush R., Jiang Z., Neven H. and Mohseni M. (2019),  \n",
    "Learning to learn with quantum neural networks via classical neural networks, [arXiv:1907.05415](https://arxiv.org/abs/1907.05415).\n",
    "\n",
    "<a id=\"2\">[2]</a> \n",
    "https://pennylane.ai/\n",
    "\n",
    "<a id=\"3\">[3]</a> \n",
    "https://www.tensorflow.org/\n",
    "\n",
    "<a id=\"4\">[4]</a> \n",
    "Cerezo M., Arrasmith A., Babbush R., Benjamin S. C., Endo S., Fujii K., McClean J. R., Mitarai K., Yuan X., Cincio L. and Coles P. J. (2020),  \n",
    "Variational Quantum Algorithms, [arXiv:2012.09265](https://arxiv.org/abs/2012.09265).  "
   ]
  },
  {
   "cell_type": "code",
   "execution_count": null,
   "metadata": {},
   "outputs": [],
   "source": []
  }
 ],
 "metadata": {
  "colab": {
   "name": "l2l_0.ipynb",
   "provenance": []
  },
  "kernelspec": {
   "display_name": "Python 3",
   "language": "python",
   "name": "python3"
  },
  "language_info": {
   "codemirror_mode": {
    "name": "ipython",
    "version": 3
   },
   "file_extension": ".py",
   "mimetype": "text/x-python",
   "name": "python",
   "nbconvert_exporter": "python",
   "pygments_lexer": "ipython3",
   "version": "3.7.6"
  }
 },
 "nbformat": 4,
 "nbformat_minor": 4
}
