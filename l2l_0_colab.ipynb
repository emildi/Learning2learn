{
  "nbformat": 4,
  "nbformat_minor": 0,
  "metadata": {
    "kernelspec": {
      "display_name": "Python 3",
      "language": "python",
      "name": "python3"
    },
    "language_info": {
      "codemirror_mode": {
        "name": "ipython",
        "version": 3
      },
      "file_extension": ".py",
      "mimetype": "text/x-python",
      "name": "python",
      "nbconvert_exporter": "python",
      "pygments_lexer": "ipython3",
      "version": "3.8.5"
    },
    "colab": {
      "name": "l2l_0.ipynb",
      "provenance": []
    }
  },
  "cells": [
    {
      "cell_type": "markdown",
      "metadata": {
        "id": "3ByYL2o9sJe8"
      },
      "source": [
        "# Learning to Learn w\\ Quantum NN via Classical NN\n",
        "\n",
        "This it the first jupyter notebook used to familiarize with _Pennylane_ and _RNNs_ and _LSTMs_"
      ]
    },
    {
      "cell_type": "code",
      "metadata": {
        "id": "UR30LXYZsJe9"
      },
      "source": [
        "Pollame nudista."
      ],
      "execution_count": null,
      "outputs": []
    }
  ]
}